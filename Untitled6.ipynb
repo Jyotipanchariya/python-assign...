{
 "cells": [
  {
   "cell_type": "code",
   "execution_count": 2,
   "id": "8d71d5d5-e28a-4da2-b233-86dd697561f3",
   "metadata": {},
   "outputs": [
    {
     "name": "stdin",
     "output_type": "stream",
     "text": [
      "Enter string: hello\n"
     ]
    },
    {
     "name": "stdout",
     "output_type": "stream",
     "text": [
      "Number of vowels are:\n",
      "2\n"
     ]
    }
   ],
   "source": [
    "string=input(\"Enter string:\")\n",
    "vowels=0\n",
    "for i in string:\n",
    "      if(i=='a' or i=='e' or i=='i' or i=='o' or i=='u' or i=='A' or i=='E' or i=='I' or i=='O' or i=='U'):\n",
    "            vowels=vowels+1\n",
    "print(\"Number of vowels are:\")\n",
    "print(vowels)"
   ]
  },
  {
   "cell_type": "code",
   "execution_count": 3,
   "id": "6c92102f-1da0-4d54-ad3d-ecc982aa47c8",
   "metadata": {},
   "outputs": [
    {
     "name": "stdin",
     "output_type": "stream",
     "text": [
      " Enter Your Own String :  hello world\n"
     ]
    },
    {
     "name": "stdout",
     "output_type": "stream",
     "text": [
      "Total Number of Vowels in this String =  3\n",
      "Total Number of Consonants in this String =  8\n"
     ]
    }
   ],
   "source": [
    "str1 = input(\" Enter Your Own String : \")\n",
    "vowels = 0\n",
    "consonants = 0\n",
    "\n",
    "for i in str1:\n",
    "    if(i == 'a' or i == 'e' or i == 'i' or i == 'o' or i == 'u'\n",
    "       or i == 'A' or i == 'E' or i == 'I' or i == 'O' or i == 'U'):\n",
    "        vowels = vowels + 1\n",
    "    else:\n",
    "        consonants = consonants + 1\n",
    " \n",
    "print(\"Total Number of Vowels in this String = \", vowels)\n",
    "print(\"Total Number of Consonants in this String = \", consonants)"
   ]
  },
  {
   "cell_type": "code",
   "execution_count": 6,
   "id": "ebae01c7-b94f-41b0-b9cd-6fab750a9366",
   "metadata": {},
   "outputs": [
    {
     "name": "stdout",
     "output_type": "stream",
     "text": [
      "6\n"
     ]
    }
   ],
   "source": [
    "\n",
    "string = \"NamasteIndia!\"\n",
    "vowels = \"aeiouAEIOU\"\n",
    " \n",
    "count = sum(string.count(vowel) for vowel in vowels)\n",
    "print(count)"
   ]
  },
  {
   "cell_type": "code",
   "execution_count": 9,
   "id": "435f53b6-e569-4c5b-8d7b-7ab21f74695f",
   "metadata": {},
   "outputs": [
    {
     "ename": "SyntaxError",
     "evalue": "invalid syntax. Perhaps you forgot a comma? (2330784618.py, line 3)",
     "output_type": "error",
     "traceback": [
      "\u001b[1;36m  Cell \u001b[1;32mIn[9], line 3\u001b[1;36m\u001b[0m\n\u001b[1;33m    if ( type(i)is int or float type (i==float) list1.appen(i)):\u001b[0m\n\u001b[1;37m         ^\u001b[0m\n\u001b[1;31mSyntaxError\u001b[0m\u001b[1;31m:\u001b[0m invalid syntax. Perhaps you forgot a comma?\n"
     ]
    }
   ],
   "source": []
  },
  {
   "cell_type": "code",
   "execution_count": null,
   "id": "7b064f84-ff27-443f-afe1-c38e7017c5c6",
   "metadata": {},
   "outputs": [],
   "source": []
  }
 ],
 "metadata": {
  "kernelspec": {
   "display_name": "Python 3 (ipykernel)",
   "language": "python",
   "name": "python3"
  },
  "language_info": {
   "codemirror_mode": {
    "name": "ipython",
    "version": 3
   },
   "file_extension": ".py",
   "mimetype": "text/x-python",
   "name": "python",
   "nbconvert_exporter": "python",
   "pygments_lexer": "ipython3",
   "version": "3.10.11"
  }
 },
 "nbformat": 4,
 "nbformat_minor": 5
}
