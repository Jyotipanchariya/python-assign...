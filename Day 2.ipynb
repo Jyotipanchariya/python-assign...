{
 "cells": [
  {
   "cell_type": "code",
   "execution_count": 22,
   "id": "d49c8e83-291d-49cc-a64a-c5ccf34780ba",
   "metadata": {},
   "outputs": [
    {
     "name": "stdout",
     "output_type": "stream",
     "text": [
      "aaaaa\n"
     ]
    }
   ],
   "source": [
    "#Day2 python assignment\n",
    "\n",
    "#Q1\n",
    "\n",
    "def generate_n_chars(n, c):\n",
    "    return c * n\n",
    "    '''Function to generate a string of length n consisting only of character c'''\n",
    "\n",
    "n = 5\n",
    "c = 'a'\n",
    "result = generate_n_chars(n, c)\n",
    "print(result)\n",
    "\n"
   ]
  },
  {
   "cell_type": "code",
   "execution_count": 12,
   "id": "b8e8c019-3a92-476f-b1d9-b28d2969e026",
   "metadata": {},
   "outputs": [
    {
     "name": "stdout",
     "output_type": "stream",
     "text": [
      "[5, 6, 6, 4, 10]\n"
     ]
    }
   ],
   "source": [
    "#Q3.\n",
    "\n",
    "def word_length_mapping(words):\n",
    "    '''Function to map a list of words to a list of integers representing their lengths'''\n",
    "    return [len(word) for word in words]\n",
    "word_list = ['apple', 'banana', 'cherry', 'date', 'elderberry']\n",
    "lengths = word_length_mapping(word_list)\n",
    "print(lengths)"
   ]
  },
  {
   "cell_type": "code",
   "execution_count": 50,
   "id": "ed8dca3d-282f-43fb-ae4a-be749b90a766",
   "metadata": {},
   "outputs": [
    {
     "name": "stdout",
     "output_type": "stream",
     "text": [
      "10\n"
     ]
    }
   ],
   "source": [
    "#Q4\n",
    "def find_longest_word(words):\n",
    "    '''Function to find the length of the longest word in a list of words.'''\n",
    "    max_length = 0\n",
    "    for word in words:\n",
    "        if len(word) > max_length:\n",
    "            max_length = len(word)\n",
    "    return max_length\n",
    "    \n",
    "word_list = ['apple', 'banana', 'cherry', 'date', 'elderberry']\n",
    "result = find_longest_word(word_list)\n",
    "print(result)"
   ]
  },
  {
   "cell_type": "code",
   "execution_count": 51,
   "id": "2c410037-281a-4307-8749-4348bf5790d9",
   "metadata": {},
   "outputs": [
    {
     "name": "stdout",
     "output_type": "stream",
     "text": [
      "10\n"
     ]
    }
   ],
   "source": [
    "#Q4 lambda \n",
    "\n",
    "find_longest_word_lambda = lambda words: max(map(len, words))\n",
    "'''Function to find the length of the longest word in a list of words'''\n",
    "\n",
    "word_list = ['apple', 'banana', 'cherry', 'date', 'elderberry']\n",
    "result_lambda = find_longest_word_lambda(word_list)\n",
    "print(result_lambda)\n"
   ]
  },
  {
   "cell_type": "code",
   "execution_count": 74,
   "id": "900b406a-1dc0-49b3-af13-99f3f5550979",
   "metadata": {},
   "outputs": [
    {
     "name": "stdout",
     "output_type": "stream",
     "text": [
      "['elderberry']\n"
     ]
    }
   ],
   "source": [
    "#Q5\n",
    "\n",
    "def filter_long_words(words, n):\n",
    "   \n",
    "    return [word for word in words if len(word) > n]\n",
    "\n",
    "# Example usage\n",
    "word_list = ['apple', 'banana', 'cherry', 'date', 'elderberry']\n",
    "threshold = 6\n",
    "result = filter_long_words(word_list, threshold)\n",
    "print(result)  "
   ]
  },
  {
   "cell_type": "code",
   "execution_count": 76,
   "id": "bf9ba7cb-a4ac-4f6c-8b32-cb2033099b98",
   "metadata": {},
   "outputs": [
    {
     "name": "stdout",
     "output_type": "stream",
     "text": [
      "['elderberry']\n"
     ]
    }
   ],
   "source": [
    "#Q5 filterlongwords function by  lambda \n",
    "filter_long_words_lambda = lambda words, n: list(filter(lambda x: len(x) > n, words))\n",
    "\n",
    "\n",
    "word_list = ['apple', 'banana', 'cherry', 'date', 'elderberry']\n",
    "threshold = 6\n",
    "result_lambda = filter_long_words_lambda(word_list, threshold)\n",
    "print(result_lambda)  \n"
   ]
  },
  {
   "cell_type": "code",
   "execution_count": 88,
   "id": "7e961246-5ab0-4c16-8682-8a24c3d9bbeb",
   "metadata": {},
   "outputs": [
    {
     "name": "stdout",
     "output_type": "stream",
     "text": [
      "['god', 'jul', 'och', 'gott', 'nytt', 'år']\n"
     ]
    }
   ],
   "source": [
    "#Q8\n",
    "def translate(words, lexicon):\n",
    "    '''\n",
    "    Function to translate a list of English words into Swedish using a provided lexicon'''\n",
    "\n",
    "    translated_words = [lexicon.get(word, word) for word in words]\n",
    "    return translated_words\n",
    "\n",
    "# Example bilingual lexicon\n",
    "bilingual_lexicon = {\n",
    "    \"merry\": \"god\",\n",
    "    \"christmas\": \"jul\",\n",
    "    \"and\": \"och\",\n",
    "    \"happy\": \"gott\",\n",
    "    \"new\": \"nytt\",\n",
    "    \"year\": \"år\"\n",
    "}\n",
    "\n",
    "# Example usage\n",
    "english_words = [\"merry\", \"christmas\", \"and\", \"happy\", \"new\", \"year\"]\n",
    "swedish_translation = translate(english_words, bilingual_lexicon)\n",
    "print(swedish_translation)\n"
   ]
  },
  {
   "cell_type": "code",
   "execution_count": 82,
   "id": "ebc211cf-a50e-427c-afed-3284353c2f65",
   "metadata": {},
   "outputs": [
    {
     "name": "stdout",
     "output_type": "stream",
     "text": [
      "{'a': 7, 'b': 14, 'c': 3, 'd': 3}\n"
     ]
    }
   ],
   "source": [
    "#Q9\n",
    "\n",
    "def char_freq(s):\n",
    "    \"\"\"\n",
    "    Function to build a frequency listing of the characters in a string.\n",
    "\n",
    "    Parameters:\n",
    "    s (str): Input string.\n",
    "\n",
    "    Returns:\n",
    "    dict: Dictionary containing the frequency of each character in the input string.\n",
    "    \"\"\"\n",
    "    freq_dict = {}\n",
    "    for char in s:\n",
    "        if char in freq_dict:\n",
    "            freq_dict[char] += 1\n",
    "        else:\n",
    "            freq_dict[char] = 1\n",
    "    return freq_dict\n",
    "\n",
    "# Example usage\n",
    "string_example = \"abbabcbdbabdbdbabababcbcbab\"\n",
    "frequency_listing = char_freq(string_example)\n",
    "print(frequency_listing)\n"
   ]
  },
  {
   "cell_type": "code",
   "execution_count": null,
   "id": "8b103b5b-16cf-4dc2-96ea-81b8457ca75b",
   "metadata": {},
   "outputs": [],
   "source": []
  }
 ],
 "metadata": {
  "kernelspec": {
   "display_name": "Python 3 (ipykernel)",
   "language": "python",
   "name": "python3"
  },
  "language_info": {
   "codemirror_mode": {
    "name": "ipython",
    "version": 3
   },
   "file_extension": ".py",
   "mimetype": "text/x-python",
   "name": "python",
   "nbconvert_exporter": "python",
   "pygments_lexer": "ipython3",
   "version": "3.10.11"
  }
 },
 "nbformat": 4,
 "nbformat_minor": 5
}
