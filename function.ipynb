{
 "cells": [
  {
   "cell_type": "code",
   "execution_count": 1,
   "id": "6f9ab425-c489-41c9-bbc6-72c7abd57240",
   "metadata": {},
   "outputs": [],
   "source": [
    "def func():\n",
    "    print(\"hello\")"
   ]
  },
  {
   "cell_type": "code",
   "execution_count": 2,
   "id": "8da64857-be60-4ab3-b449-39dbb1e04fe7",
   "metadata": {},
   "outputs": [
    {
     "name": "stdout",
     "output_type": "stream",
     "text": [
      "hello\n"
     ]
    }
   ],
   "source": [
    "func()"
   ]
  },
  {
   "cell_type": "code",
   "execution_count": 3,
   "id": "c38a5cd8-864e-47f1-b7c0-93594a2c24fa",
   "metadata": {},
   "outputs": [
    {
     "name": "stdout",
     "output_type": "stream",
     "text": [
      "<function func at 0x000002046CC0DD80>\n"
     ]
    }
   ],
   "source": [
    "print ( func )"
   ]
  },
  {
   "cell_type": "code",
   "execution_count": 4,
   "id": "f83bbc1c-ec9c-4095-9e4f-8bad9279ef3a",
   "metadata": {},
   "outputs": [
    {
     "name": "stdout",
     "output_type": "stream",
     "text": [
      "<function func at 0x000002046CC0DD80>\n"
     ]
    }
   ],
   "source": [
    "x=func\n",
    "\n",
    "print(x)"
   ]
  },
  {
   "cell_type": "code",
   "execution_count": 5,
   "id": "391cd56c-7972-48f8-898a-fea8f400f602",
   "metadata": {},
   "outputs": [
    {
     "name": "stdout",
     "output_type": "stream",
     "text": [
      "hello\n",
      "hello\n"
     ]
    }
   ],
   "source": [
    "func()\n",
    "x()"
   ]
  },
  {
   "cell_type": "code",
   "execution_count": 10,
   "id": "1826cf74-6743-44ac-aac4-2a4591183d4d",
   "metadata": {},
   "outputs": [
    {
     "data": {
      "text/plain": [
       "100"
      ]
     },
     "execution_count": 10,
     "metadata": {},
     "output_type": "execute_result"
    }
   ],
   "source": [
    "def square(num):\n",
    "    return num**2\n",
    "\n",
    "square(10)"
   ]
  },
  {
   "cell_type": "code",
   "execution_count": 11,
   "id": "431f4f75-116d-47a9-944c-9ed4bad4ce38",
   "metadata": {},
   "outputs": [
    {
     "name": "stdout",
     "output_type": "stream",
     "text": [
      "10 20\n"
     ]
    }
   ],
   "source": [
    "def sqaure(num):\n",
    "    return num**2\n",
    "\n",
    "def addNumber(x,y):\n",
    "    print(x,y)\n",
    "\n",
    "square(10)\n",
    "\n",
    "addNumber(10,20)\n",
    "\n"
   ]
  },
  {
   "cell_type": "code",
   "execution_count": 12,
   "id": "1e7a714a-b9e2-4280-b952-5caa17569077",
   "metadata": {},
   "outputs": [
    {
     "name": "stdout",
     "output_type": "stream",
     "text": [
      "10 400\n"
     ]
    }
   ],
   "source": [
    "def sqaure(num):\n",
    "    return num**2\n",
    "\n",
    "def addNumber(x,y):\n",
    "    print(x,y)\n",
    "\n",
    "square(10)\n",
    "\n",
    "addNumber(10,square(20))"
   ]
  },
  {
   "cell_type": "code",
   "execution_count": 14,
   "id": "73d297a7-f452-42b9-aa0c-2bb3ad65fdfe",
   "metadata": {},
   "outputs": [
    {
     "name": "stdout",
     "output_type": "stream",
     "text": [
      "10 400\n"
     ]
    }
   ],
   "source": [
    "def sqaure(num):\n",
    "    print (num**2)\n",
    "\n",
    "def addNumber(x,y):\n",
    "    print(x,y)\n",
    "\n",
    "square(10)\n",
    "\n",
    "addNumber(10,square(20))"
   ]
  },
  {
   "cell_type": "code",
   "execution_count": 17,
   "id": "dda3a940-b013-4bc3-bc0e-0263069ebd7a",
   "metadata": {},
   "outputs": [
    {
     "name": "stdout",
     "output_type": "stream",
     "text": [
      "400\n",
      "None\n"
     ]
    }
   ],
   "source": [
    "def square(num):\n",
    "    print(\"hello\")\n",
    "\n",
    "x=sqaure(20)\n",
    "print(x)"
   ]
  },
  {
   "cell_type": "code",
   "execution_count": 18,
   "id": "52eeec6c-e638-4290-82ac-ffb61f37178c",
   "metadata": {},
   "outputs": [
    {
     "name": "stdout",
     "output_type": "stream",
     "text": [
      "20\n"
     ]
    }
   ],
   "source": [
    "def square(num):\n",
    "    return num\n",
    "\n",
    "x=square(20)\n",
    "print(x)"
   ]
  },
  {
   "cell_type": "code",
   "execution_count": 19,
   "id": "3317d638-6cf8-4d11-acd8-88c62d761787",
   "metadata": {},
   "outputs": [
    {
     "name": "stdout",
     "output_type": "stream",
     "text": [
      "25\n"
     ]
    }
   ],
   "source": [
    "def square(num):\n",
    "    return num+5\n",
    "\n",
    "x=square(20)\n",
    "print(x)"
   ]
  },
  {
   "cell_type": "code",
   "execution_count": 22,
   "id": "366fd296-1dc3-4dd0-87fa-50ddf2d9af79",
   "metadata": {},
   "outputs": [
    {
     "name": "stdout",
     "output_type": "stream",
     "text": [
      "400\n",
      "10 None\n"
     ]
    }
   ],
   "source": [
    "def square(num):\n",
    "    print(num**2)\n",
    "\n",
    "def addNumber(x,y):\n",
    "    print(x, y)\n",
    "    \n",
    "addNumber(10, square(20) )"
   ]
  },
  {
   "cell_type": "code",
   "execution_count": 24,
   "id": "7dbbf59b-b58e-4978-bdb4-afa5be262415",
   "metadata": {},
   "outputs": [
    {
     "name": "stdout",
     "output_type": "stream",
     "text": [
      "10 400\n"
     ]
    }
   ],
   "source": [
    "def square(num):\n",
    "    return num**2\n",
    "\n",
    "def addNumber(x,y):\n",
    "    print(x,y)\n",
    "    \n",
    "\n",
    "addNumber(10, square(20) )"
   ]
  },
  {
   "cell_type": "code",
   "execution_count": 26,
   "id": "964c57ef-2998-4961-b11a-f8e57fa03e06",
   "metadata": {},
   "outputs": [
    {
     "name": "stdout",
     "output_type": "stream",
     "text": [
      "3\n",
      "9\n"
     ]
    }
   ],
   "source": [
    "def square(x):\n",
    "    print(x)\n",
    "    return x**2\n",
    "\n",
    "def cube(x,y):\n",
    "    output=y(x)\n",
    "    print(output)\n",
    "\n",
    "cube(3, square)"
   ]
  },
  {
   "cell_type": "code",
   "execution_count": 27,
   "id": "fa6d1fe9-a78e-4ea9-b723-7ed6cd490d98",
   "metadata": {},
   "outputs": [
    {
     "name": "stdout",
     "output_type": "stream",
     "text": [
      "10\n"
     ]
    },
    {
     "data": {
      "text/plain": [
       "100"
      ]
     },
     "execution_count": 27,
     "metadata": {},
     "output_type": "execute_result"
    }
   ],
   "source": [
    "#lambda function\n",
    "# annoynmous function\n",
    "# name nahi hota\n",
    "# one line functions\n",
    "\n",
    "#lambda\n",
    "\n",
    "def sqaure(x):\n",
    "    return x**2\n",
    "\n",
    "square(10)"
   ]
  },
  {
   "cell_type": "code",
   "execution_count": 28,
   "id": "8b737dae-eb36-4f17-b095-d8b9c807ec20",
   "metadata": {},
   "outputs": [
    {
     "data": {
      "text/plain": [
       "<function __main__.<lambda>(x)>"
      ]
     },
     "execution_count": 28,
     "metadata": {},
     "output_type": "execute_result"
    }
   ],
   "source": [
    "#lambda par1, par2: expression\n",
    "lambda x:x**2"
   ]
  },
  {
   "cell_type": "code",
   "execution_count": 29,
   "id": "21b10c1f-c858-4feb-a9bb-3bc8266fab19",
   "metadata": {},
   "outputs": [
    {
     "ename": "TypeError",
     "evalue": "<lambda>() missing 1 required positional argument: 'x'",
     "output_type": "error",
     "traceback": [
      "\u001b[1;31m---------------------------------------------------------------------------\u001b[0m",
      "\u001b[1;31mTypeError\u001b[0m                                 Traceback (most recent call last)",
      "Cell \u001b[1;32mIn[29], line 3\u001b[0m\n\u001b[0;32m      1\u001b[0m y\u001b[38;5;241m=\u001b[39m\u001b[38;5;28;01mlambda\u001b[39;00m x:x\u001b[38;5;241m*\u001b[39m\u001b[38;5;241m*\u001b[39m\u001b[38;5;241m2\u001b[39m\n\u001b[1;32m----> 3\u001b[0m \u001b[43my\u001b[49m\u001b[43m(\u001b[49m\u001b[43m)\u001b[49m\n",
      "\u001b[1;31mTypeError\u001b[0m: <lambda>() missing 1 required positional argument: 'x'"
     ]
    }
   ],
   "source": [
    "y=lambda x:x**2\n",
    "\n",
    "y()"
   ]
  },
  {
   "cell_type": "code",
   "execution_count": 30,
   "id": "4071d4c3-64f1-4a98-8d2d-d2f3ac926ad2",
   "metadata": {},
   "outputs": [
    {
     "data": {
      "text/plain": [
       "[10, 20, 30, 40]"
      ]
     },
     "execution_count": 30,
     "metadata": {},
     "output_type": "execute_result"
    }
   ],
   "source": [
    "# high order \n",
    "# map, filter , reduce,\n",
    "\n",
    "def addNumber(num):\n",
    "    return num+1\n",
    "\n",
    "[10,20,30,40]"
   ]
  },
  {
   "cell_type": "code",
   "execution_count": 31,
   "id": "e5378f2b-74e6-4688-a677-b69a2abc9b4f",
   "metadata": {},
   "outputs": [
    {
     "data": {
      "text/plain": [
       "[11, 21, 31]"
      ]
     },
     "execution_count": 31,
     "metadata": {},
     "output_type": "execute_result"
    }
   ],
   "source": [
    "def addNumber(num):\n",
    "    return num+1\n",
    "\n",
    "list ( map(addNumber, [10,20,30] ) )"
   ]
  },
  {
   "cell_type": "code",
   "execution_count": 32,
   "id": "c03f4b59-c710-4e57-a2df-d1c0e9c3b5a8",
   "metadata": {},
   "outputs": [
    {
     "ename": "SyntaxError",
     "evalue": "unmatched ')' (1813512640.py, line 1)",
     "output_type": "error",
     "traceback": [
      "\u001b[1;36m  Cell \u001b[1;32mIn[32], line 1\u001b[1;36m\u001b[0m\n\u001b[1;33m    map (lambda num:num+1 , [10,20,30] ))\u001b[0m\n\u001b[1;37m                                        ^\u001b[0m\n\u001b[1;31mSyntaxError\u001b[0m\u001b[1;31m:\u001b[0m unmatched ')'\n"
     ]
    }
   ],
   "source": [
    "map (lambda num:num+1 , [10,20,30] ))"
   ]
  },
  {
   "cell_type": "code",
   "execution_count": 35,
   "id": "14618191-f341-4d87-9eb5-6507abcd19bf",
   "metadata": {},
   "outputs": [
    {
     "data": {
      "text/plain": [
       "[11, 21, 31]"
      ]
     },
     "execution_count": 35,
     "metadata": {},
     "output_type": "execute_result"
    }
   ],
   "source": [
    "list( map( lambda num:num+1, [10,20,30] ))"
   ]
  },
  {
   "cell_type": "code",
   "execution_count": 36,
   "id": "a980e51e-cd32-4a68-907b-2b29d06a91f3",
   "metadata": {},
   "outputs": [
    {
     "name": "stdout",
     "output_type": "stream",
     "text": [
      "hello\n"
     ]
    },
    {
     "ename": "TypeError",
     "evalue": "unsupported operand type(s) for /: 'function' and 'int'",
     "output_type": "error",
     "traceback": [
      "\u001b[1;31m---------------------------------------------------------------------------\u001b[0m",
      "\u001b[1;31mTypeError\u001b[0m                                 Traceback (most recent call last)",
      "Cell \u001b[1;32mIn[36], line 4\u001b[0m\n\u001b[0;32m      1\u001b[0m \u001b[38;5;66;03m#exception handling \u001b[39;00m\n\u001b[0;32m      3\u001b[0m \u001b[38;5;28mprint\u001b[39m(\u001b[38;5;124m\"\u001b[39m\u001b[38;5;124mhello\u001b[39m\u001b[38;5;124m\"\u001b[39m)\n\u001b[1;32m----> 4\u001b[0m \u001b[43my\u001b[49m\u001b[38;5;241;43m/\u001b[39;49m\u001b[38;5;241;43m10\u001b[39;49m\n\u001b[0;32m      5\u001b[0m \u001b[38;5;28mprint\u001b[39m(\u001b[38;5;124m\"\u001b[39m\u001b[38;5;124mhey\u001b[39m\u001b[38;5;124m\"\u001b[39m)\n",
      "\u001b[1;31mTypeError\u001b[0m: unsupported operand type(s) for /: 'function' and 'int'"
     ]
    }
   ],
   "source": [
    "#exception handling \n",
    "\n",
    "print(\"hello\")\n",
    "y/10\n",
    "print(\"hey\")\n"
   ]
  },
  {
   "cell_type": "code",
   "execution_count": 37,
   "id": "f5bc7c94-0bb7-4ef0-95f1-81a4df12ffe3",
   "metadata": {},
   "outputs": [
    {
     "name": "stdout",
     "output_type": "stream",
     "text": [
      "hello\n",
      "error handle\n"
     ]
    }
   ],
   "source": [
    "try:\n",
    "    print(\"hello\")\n",
    "    y/10\n",
    "    print(\"hey\")\n",
    "\n",
    "except:\n",
    "    print(\"error handle\")\n"
   ]
  },
  {
   "cell_type": "code",
   "execution_count": 40,
   "id": "f2af55ad-4340-4528-86af-597a830f4d04",
   "metadata": {
    "scrolled": true
   },
   "outputs": [
    {
     "name": "stdout",
     "output_type": "stream",
     "text": [
      "hello\n",
      "hey\n"
     ]
    }
   ],
   "source": [
    "try:\n",
    "    print(\"hello\")\n",
    "    10/10\n",
    "    print(\"hey\")\n",
    "\n",
    "except exception as e:\n",
    "    print(\"error handle\",e)"
   ]
  },
  {
   "cell_type": "code",
   "execution_count": 41,
   "id": "5493f8be-37a2-45f2-98d2-e2c4f2733afd",
   "metadata": {},
   "outputs": [
    {
     "name": "stdout",
     "output_type": "stream",
     "text": [
      "hello\n",
      "Error handle 2 division by zero\n"
     ]
    }
   ],
   "source": [
    "try:\n",
    "    print(\"hello\")\n",
    "    10/0\n",
    "    print(\"hey\")\n",
    "\n",
    "except NameError as e:\n",
    "    print(\"error handle\",e)\n",
    "\n",
    "except ZeroDivisionError as e:\n",
    "    print(\"Error handle 2\" ,e)\n"
   ]
  },
  {
   "cell_type": "code",
   "execution_count": 42,
   "id": "9eef71b0-c574-4c7d-a54f-dc9f7d9233ec",
   "metadata": {},
   "outputs": [
    {
     "name": "stdout",
     "output_type": "stream",
     "text": [
      "hello\n",
      "hey\n",
      "####\n"
     ]
    }
   ],
   "source": [
    "try:\n",
    "    print(\"hello\")\n",
    "    print(\"hey\")\n",
    "\n",
    "except (NameError,ZeroDivisionError) as e:\n",
    "    print(\"Error handle\",e)\n",
    "\n",
    "else:\n",
    "    print(\"####\")"
   ]
  },
  {
   "cell_type": "code",
   "execution_count": 43,
   "id": "4a12a672-1b0e-42e2-a3cf-94c9c74cdbeb",
   "metadata": {},
   "outputs": [
    {
     "name": "stdout",
     "output_type": "stream",
     "text": [
      "hello\n",
      "hey\n",
      "####\n"
     ]
    }
   ],
   "source": [
    "try:\n",
    "    print(\"hello\")\n",
    "    print(\"hey\")\n",
    "\n",
    "except (NameError,ZeroDivisionError) as e:\n",
    "    print(\"Error handle\",e)\n",
    "\n",
    "finally:\n",
    "    print(\"####\")"
   ]
  },
  {
   "cell_type": "code",
   "execution_count": 45,
   "id": "ba71376a-5e04-4626-b600-90ad932c38b3",
   "metadata": {},
   "outputs": [
    {
     "name": "stdout",
     "output_type": "stream",
     "text": [
      "hello\n",
      "error handle\n"
     ]
    }
   ],
   "source": [
    "try:\n",
    "    print(\"hello\")\n",
    "    y/10\n",
    "    print(\"hey\")\n",
    "\n",
    "except:\n",
    "      print(\"error handle\")"
   ]
  },
  {
   "cell_type": "code",
   "execution_count": 46,
   "id": "ba462032-8d52-4d41-9dfb-dbddbc38bfa8",
   "metadata": {},
   "outputs": [
    {
     "name": "stdout",
     "output_type": "stream",
     "text": [
      "hello\n",
      "hey\n",
      "###########\n"
     ]
    }
   ],
   "source": [
    "try:\n",
    "    print(\"hello\")\n",
    "    print(\"hey\")\n",
    "\n",
    "except (NameError,ZeroDivisionError) as e:\n",
    "    print(\"Error handle\",e)\n",
    "\n",
    "else:\n",
    "    print(\"###########\")"
   ]
  },
  {
   "cell_type": "code",
   "execution_count": 47,
   "id": "84f99ee0-c46d-4bb4-947b-369321c6038b",
   "metadata": {},
   "outputs": [
    {
     "name": "stdout",
     "output_type": "stream",
     "text": [
      "hello\n",
      "hey\n",
      "###########\n"
     ]
    }
   ],
   "source": [
    "try:\n",
    "    print(\"hello\")\n",
    "    print(\"hey\")\n",
    "\n",
    "except (NameError,ZeroDivisionError) as e:\n",
    "    print(\"Error handle\",e)\n",
    "\n",
    "finally:\n",
    "    print(\"###########\")"
   ]
  },
  {
   "cell_type": "code",
   "execution_count": 50,
   "id": "3df547d5-f4b5-416b-8ea3-fb9b1df8a777",
   "metadata": {},
   "outputs": [
    {
     "name": "stdout",
     "output_type": "stream",
     "text": [
      "hello\n",
      "Division zero error\n",
      "hey\n"
     ]
    }
   ],
   "source": [
    "try:\n",
    "    print(\"hello\")\n",
    "    try:\n",
    "        10/0\n",
    "    except:\n",
    "        print(\"Division zero error\")\n",
    "\n",
    "    print(\"hey\")\n",
    "\n",
    "except(NameError,ZeroDivisionError) as e:\n",
    "  print(\"Error handle\",e)\n",
    "    "
   ]
  },
  {
   "cell_type": "code",
   "execution_count": 54,
   "id": "4aae797e-ce82-418e-b75a-3af657cda3ae",
   "metadata": {},
   "outputs": [
    {
     "name": "stdout",
     "output_type": "stream",
     "text": [
      "age is correct\n"
     ]
    }
   ],
   "source": [
    "#raise keyword\n",
    "\n",
    "age=19\n",
    "if(age<18):\n",
    "    raise ValueError\n",
    "\n",
    "else:\n",
    "    print(\"age is correct\")"
   ]
  },
  {
   "cell_type": "code",
   "execution_count": 61,
   "id": "0ebf0707-1101-40ea-afad-cef76d683547",
   "metadata": {},
   "outputs": [
    {
     "name": "stdout",
     "output_type": "stream",
     "text": [
      "Error is  \n"
     ]
    }
   ],
   "source": [
    "try:\n",
    "    age=17\n",
    "    if(age<18):\n",
    "       raise ValueError\n",
    "    else:\n",
    "       print(\"age is correct\")\n",
    "except ValueError as e:\n",
    "     print(\"Error is \",e)\n",
    "  "
   ]
  },
  {
   "cell_type": "code",
   "execution_count": 63,
   "id": "c7a5edf8-b799-4637-80d6-abe4e35466af",
   "metadata": {},
   "outputs": [
    {
     "name": "stdout",
     "output_type": "stream",
     "text": [
      "100\n",
      "400\n",
      "900\n"
     ]
    }
   ],
   "source": [
    "#list comphrenshion \n",
    "\n",
    "mylist=[10,20,30]\n",
    "list1=[]\n",
    "\n",
    "for i in mylist:\n",
    "    print(i**2)"
   ]
  },
  {
   "cell_type": "code",
   "execution_count": 65,
   "id": "ab503202-32f3-410a-93cc-d3d4b222dbba",
   "metadata": {},
   "outputs": [
    {
     "name": "stdout",
     "output_type": "stream",
     "text": [
      "[100, 400, 900]\n"
     ]
    }
   ],
   "source": [
    "mylist=[10,20,30]\n",
    "\n",
    "list1= [i**2 for i in mylist]\n",
    "\n",
    "print(list1)"
   ]
  },
  {
   "cell_type": "code",
   "execution_count": 68,
   "id": "055430f3-d545-42c7-bc1c-57c05a35ab4d",
   "metadata": {},
   "outputs": [
    {
     "name": "stdout",
     "output_type": "stream",
     "text": [
      "{4: 16, 20: 400, 3: 9}\n"
     ]
    }
   ],
   "source": [
    "mylist=[4,20,3]\n",
    "\n",
    "list1= {i:i**2 for i in mylist }\n",
    "\n",
    "print(list1)"
   ]
  },
  {
   "cell_type": "code",
   "execution_count": null,
   "id": "5a34f429-999e-4b19-9e54-5a3fe14aa095",
   "metadata": {},
   "outputs": [],
   "source": []
  }
 ],
 "metadata": {
  "kernelspec": {
   "display_name": "Python 3 (ipykernel)",
   "language": "python",
   "name": "python3"
  },
  "language_info": {
   "codemirror_mode": {
    "name": "ipython",
    "version": 3
   },
   "file_extension": ".py",
   "mimetype": "text/x-python",
   "name": "python",
   "nbconvert_exporter": "python",
   "pygments_lexer": "ipython3",
   "version": "3.10.11"
  }
 },
 "nbformat": 4,
 "nbformat_minor": 5
}
