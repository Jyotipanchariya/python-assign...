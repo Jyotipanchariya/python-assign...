{
 "cells": [
  {
   "cell_type": "code",
   "execution_count": 1,
   "id": "99fadbe9-9f11-4e97-bbcc-90b689a8855b",
   "metadata": {},
   "outputs": [
    {
     "name": "stdin",
     "output_type": "stream",
     "text": [
      "enter your name jesty sharma \n"
     ]
    },
    {
     "name": "stdout",
     "output_type": "stream",
     "text": [
      "Hello, jesty sharma \n"
     ]
    }
   ],
   "source": [
    "#Day 1 assignment \n",
    "\n",
    "#Q1 variable name \n",
    "\n",
    "\n",
    "name=input(\"enter your name\")\n",
    "print(\"Hello,\",name)"
   ]
  },
  {
   "cell_type": "code",
   "execution_count": 4,
   "id": "9a7df789-85b5-4c3d-a5ba-4e93faf4915e",
   "metadata": {},
   "outputs": [
    {
     "name": "stdin",
     "output_type": "stream",
     "text": [
      "enter the first number 6\n",
      "enter the second number -8\n"
     ]
    },
    {
     "name": "stdout",
     "output_type": "stream",
     "text": [
      "sum is negative\n"
     ]
    }
   ],
   "source": [
    "#Q2. sum is positive or negative\n",
    "\n",
    "x=int(input(\"enter the first number\"))\n",
    "y=int(input(\"enter the second number\"))\n",
    "sum=x+y\n",
    "if(sum>0):\n",
    " print(\"sum is positive\")\n",
    "else:\n",
    " print(\"sum is negative\")\n",
    "\n"
   ]
  },
  {
   "cell_type": "code",
   "execution_count": 6,
   "id": "247c5af2-1b3d-45b3-92e8-495fd3af118e",
   "metadata": {},
   "outputs": [
    {
     "name": "stdin",
     "output_type": "stream",
     "text": [
      "enter no. 45\n",
      "enter confirm no. 23\n",
      "enter confirm no. 34\n",
      "enter confirm no. 36\n",
      "enter confirm no. 89\n",
      "enter confirm no. 21\n",
      "enter confirm no. 45\n"
     ]
    },
    {
     "name": "stdout",
     "output_type": "stream",
     "text": [
      "correct\n"
     ]
    }
   ],
   "source": [
    "#Q3. print number until its correct\n",
    "\n",
    "x=int(input(\"enter no.\"))\n",
    "while(True):\n",
    "    y=int(input(\"enter confirm no.\"))\n",
    "    if(x==y):\n",
    "        print(\"correct\")\n",
    "        break"
   ]
  },
  {
   "cell_type": "code",
   "execution_count": 7,
   "id": "2a813226-8fd9-49e3-ba18-e82909171222",
   "metadata": {},
   "outputs": [
    {
     "name": "stdin",
     "output_type": "stream",
     "text": [
      "enter your first name jesty\n",
      "enter your last name sharma\n"
     ]
    },
    {
     "name": "stdout",
     "output_type": "stream",
     "text": [
      "jesty.sharma\n"
     ]
    }
   ],
   "source": [
    "#Q4. print wholename\n",
    "\n",
    "\n",
    "firstname =input(\"enter your first name\")\n",
    "lastname = input(\"enter your last name\")\n",
    "wholename=firstname+'.'+lastname\n",
    "print(wholename)\n",
    "\n"
   ]
  },
  {
   "cell_type": "code",
   "execution_count": 1,
   "id": "9f918f4b-a826-4857-bc61-82195d8c2af1",
   "metadata": {},
   "outputs": [
    {
     "name": "stdin",
     "output_type": "stream",
     "text": [
      "Enter your full name:  JyoTi PanChaRiyA\n"
     ]
    },
    {
     "name": "stdout",
     "output_type": "stream",
     "text": [
      "jYOtIpANcHArIYa\n"
     ]
    }
   ],
   "source": [
    "#Q5 print toggle character\n",
    "\n",
    "user_input = input(\"Enter your full name: \")\n",
    "user_input1 = ''\n",
    "for i in user_input:\n",
    "    if('A' <= i <= 'Z'):\n",
    "        user_input1 += i.lower()\n",
    "    elif('a' <= i <= 'z'):\n",
    "        user_input1 += i.upper()\n",
    "print(user_input1)"
   ]
  },
  {
   "cell_type": "code",
   "execution_count": 3,
   "id": "4100afa5-b4e7-402d-bed0-f059683d777d",
   "metadata": {},
   "outputs": [
    {
     "name": "stdout",
     "output_type": "stream",
     "text": [
      "total sum 26\n",
      "total product 1680\n"
     ]
    }
   ],
   "source": [
    "#Q6 sum and multiplication of list\n",
    "\n",
    "mylist=[5,6,7,8]\n",
    "sum=0\n",
    "for i in mylist:\n",
    "    sum+=i\n",
    "print(\"total sum\",sum)\n",
    "multiply=1\n",
    "for i in mylist:\n",
    "    multiply*=i\n",
    "print(\"total product\",multiply)"
   ]
  },
  {
   "cell_type": "code",
   "execution_count": 5,
   "id": "9c225625-5c49-443f-b2fb-3ca163a9eff8",
   "metadata": {},
   "outputs": [
    {
     "name": "stdout",
     "output_type": "stream",
     "text": [
      "20 is not in the list\n"
     ]
    }
   ],
   "source": [
    "#Q7 find element in list or not in list\n",
    "\n",
    "x=20\n",
    "a=[11,12,13,14,15,16,17,18]\n",
    "y=False\n",
    "for i in a:\n",
    "    if(i==x):\n",
    "        y=True\n",
    "        break\n",
    "if(y==True):\n",
    "    print(x,\"is in the list\")\n",
    "else:\n",
    "    print(x,\"is not in the list\")\n",
    "        "
   ]
  },
  {
   "cell_type": "code",
   "execution_count": 8,
   "id": "cf46c1a2-24d2-45cd-97d4-0364cbd889bd",
   "metadata": {},
   "outputs": [
    {
     "name": "stdout",
     "output_type": "stream",
     "text": [
      "In list not have common member\n"
     ]
    }
   ],
   "source": [
    "#Q8 find common member in list\n",
    "\n",
    "list1=[11,12,13,14,15]\n",
    "list2=[16,17,18,19,20]\n",
    "x=False\n",
    "for i in list1:\n",
    "    for j in list2:\n",
    "        if(i==j):\n",
    "            x=True\n",
    "            break\n",
    "        else:\n",
    "            break\n",
    "if(x==True):\n",
    "    print(\"In list have common member\")\n",
    "else:\n",
    "    print(\"In list not have common member\")"
   ]
  },
  {
   "cell_type": "code",
   "execution_count": 9,
   "id": "65283539-8577-46e6-8b83-69d053e9f2e1",
   "metadata": {},
   "outputs": [
    {
     "name": "stdout",
     "output_type": "stream",
     "text": [
      "has common element\n"
     ]
    }
   ],
   "source": [
    "#by using function:\n",
    "def is_member(x,a):\n",
    "    for i in a:\n",
    "        if(i==x):\n",
    "            return True\n",
    "    \n",
    "        \n",
    "mylist1=[11,12,13,14,15]\n",
    "mylist2=[15,16,17,18,19]\n",
    "y=False\n",
    "for i in mylist1:\n",
    "    if(is_member(i,mylist2)):\n",
    "        y=True\n",
    "        break\n",
    "\n",
    "if(y==True):\n",
    "    print(\"has common element\")\n",
    "else:\n",
    "    print(\"has not common element\")\n",
    "        "
   ]
  },
  {
   "cell_type": "code",
   "execution_count": 14,
   "id": "b88ec869-2a35-49a4-a367-f2c5789a827e",
   "metadata": {},
   "outputs": [
    {
     "name": "stdout",
     "output_type": "stream",
     "text": [
      "********\n",
      "***\n",
      "*********\n"
     ]
    }
   ],
   "source": [
    "#Q9 histogram patten \n",
    "\n",
    "list=[8,3,9]\n",
    "for i in list:\n",
    "    y=i*'*'\n",
    "    print(y)"
   ]
  },
  {
   "cell_type": "code",
   "execution_count": 15,
   "id": "4f620a3a-fee2-4d00-9f64-1cc2577b5e99",
   "metadata": {},
   "outputs": [
    {
     "name": "stdout",
     "output_type": "stream",
     "text": [
      "the athletes who participated only in 100m: {'John', 'Rajesh', 'Vaihai', 'Vikay'}\n",
      "the athletes who participated only in 200m: {'Petter', 'Priyanka', 'Vetry'}\n",
      "the athletes who participated in both: {'Kumar', 'Malar'}\n",
      "the athletes who participated only in one race: {'Petter', 'Vaihai', 'Priyanka', 'Vetry', 'John', 'Rajesh', 'Vikay'}\n"
     ]
    }
   ],
   "source": [
    "#Q10 list \n",
    "\n",
    "hundred_meters = {'Vikay','John','Kumar','Rajesh','Malar','Vaihai'}\n",
    "two_hundred_meters = {'Vetry','Petter','Priyanka','Kumar','Malar'}\n",
    "\n",
    "race_100m=hundred_meters.difference(two_hundred_meters)\n",
    "print(\"the athletes who participated only in 100m:\",race_100m)\n",
    "race_200m=two_hundred_meters.difference(hundred_meters)\n",
    "print(\"the athletes who participated only in 200m:\",race_200m)\n",
    "race_both= hundred_meters.intersection(two_hundred_meters)\n",
    "print(\"the athletes who participated in both:\",race_both)\n",
    "race_one=hundred_meters.symmetric_difference(two_hundred_meters)\n",
    "print(\"the athletes who participated only in one race:\",race_one)"
   ]
  },
  {
   "cell_type": "code",
   "execution_count": 16,
   "id": "318d8676-8497-49ba-8f8f-5915302b3120",
   "metadata": {},
   "outputs": [
    {
     "name": "stdout",
     "output_type": "stream",
     "text": [
      "duplicate numbers: [8, 8, 18, 5, 3]\n"
     ]
    }
   ],
   "source": [
    "#Q11 duplicate list \n",
    "\n",
    "my_list=[5, 8,4,18,8,55,6,8,3,18,5,3,44,]\n",
    "y=set()\n",
    "duplicate_numbers=[]\n",
    "for i in my_list:\n",
    "    if(i in y):\n",
    "        duplicate_numbers.append(i)\n",
    "    else:\n",
    "        y.add(i)\n",
    "print(\"duplicate numbers:\",duplicate_numbers)\n"
   ]
  },
  {
   "cell_type": "code",
   "execution_count": 17,
   "id": "597ab282-6131-4b07-8ff4-b7a4f9b96df6",
   "metadata": {},
   "outputs": [
    {
     "name": "stdout",
     "output_type": "stream",
     "text": [
      "['snack', 'crocodile', 'zebra', 'lion', 'tiger', 'cat']\n"
     ]
    }
   ],
   "source": [
    "#Q12 reverse a list \n",
    "\n",
    "list = [\"cat\",\"tiger\",\"lion\", \"zebra\" , \"crocodile\", \"snack\"]\n",
    "reverselist=list[::-1]\n",
    "\n",
    "print(reverselist)"
   ]
  },
  {
   "cell_type": "code",
   "execution_count": null,
   "id": "cdfa4c03-4855-4171-b0e2-5b5490885138",
   "metadata": {},
   "outputs": [],
   "source": []
  }
 ],
 "metadata": {
  "kernelspec": {
   "display_name": "Python 3 (ipykernel)",
   "language": "python",
   "name": "python3"
  },
  "language_info": {
   "codemirror_mode": {
    "name": "ipython",
    "version": 3
   },
   "file_extension": ".py",
   "mimetype": "text/x-python",
   "name": "python",
   "nbconvert_exporter": "python",
   "pygments_lexer": "ipython3",
   "version": "3.10.11"
  }
 },
 "nbformat": 4,
 "nbformat_minor": 5
}
