{
 "cells": [
  {
   "cell_type": "code",
   "execution_count": 1,
   "id": "a7a815a1-bd72-43b8-8d5c-1c80c73bd52d",
   "metadata": {},
   "outputs": [
    {
     "name": "stdout",
     "output_type": "stream",
     "text": [
      "The result is  600\n",
      "The result is  70\n"
     ]
    }
   ],
   "source": [
    "def multi_or_sum(num1, num2):\n",
    "    product=num1 * num2\n",
    "    if product<=1000:\n",
    "        return product\n",
    "\n",
    "    else:\n",
    "        return num1 +num2\n",
    "\n",
    "result = multi_or_sum(20,30)\n",
    "print(\"The result is \",result)\n",
    "\n",
    "result = multi_or_sum(40,30)\n",
    "print(\"The result is \",result)"
   ]
  },
  {
   "cell_type": "code",
   "execution_count": 3,
   "id": "c0e0b1e0-0175-480f-9471-59a84f2029e8",
   "metadata": {},
   "outputs": [
    {
     "name": "stdout",
     "output_type": "stream",
     "text": [
      "Printing current and previous number and their sum  in a range (10)\n",
      "current number 1 previous number  0 sum: 1\n",
      "current number 2 previous number  1 sum: 3\n",
      "current number 3 previous number  2 sum: 5\n",
      "current number 4 previous number  3 sum: 7\n",
      "current number 5 previous number  4 sum: 9\n",
      "current number 6 previous number  5 sum: 11\n",
      "current number 7 previous number  6 sum: 13\n",
      "current number 8 previous number  7 sum: 15\n",
      "current number 9 previous number  8 sum: 17\n",
      "current number 10 previous number  9 sum: 19\n"
     ]
    }
   ],
   "source": [
    "print(\"Printing current and previous number and their sum  in a range (10)\")\n",
    "previous_num=0\n",
    "for i in range(1,11):\n",
    "    x_sum = previous_num + i\n",
    "    print(\"current number\", i,\"previous number \", previous_num,\"sum:\",x_sum)\n",
    "    previous_num=i"
   ]
  },
  {
   "cell_type": "code",
   "execution_count": 4,
   "id": "c55a2d06-b586-4187-b971-36b4100848d8",
   "metadata": {},
   "outputs": [
    {
     "name": "stdin",
     "output_type": "stream",
     "text": [
      "enter word anjalii\n"
     ]
    },
    {
     "name": "stdout",
     "output_type": "stream",
     "text": [
      "original string: anjalii\n",
      "printing only even index chars\n",
      "index[ 0 ] a\n",
      "index[ 2 ] j\n",
      "index[ 4 ] l\n"
     ]
    }
   ],
   "source": [
    "word =input('enter word')\n",
    "print(\"original string:\",word)\n",
    "size =len(word)\n",
    "print(\"printing only even index chars\")\n",
    "for i in range (0,size - 1,2):\n",
    "    print(\"index[\",i,\"]\",word[i])"
   ]
  },
  {
   "cell_type": "code",
   "execution_count": 10,
   "id": "bcb950f3-adb6-49d6-883f-f88ac34f6c94",
   "metadata": {},
   "outputs": [
    {
     "name": "stdin",
     "output_type": "stream",
     "text": [
      "enter word garvita\n"
     ]
    },
    {
     "name": "stdout",
     "output_type": "stream",
     "text": [
      "original string: garvita\n",
      "g\n",
      "a\n"
     ]
    }
   ],
   "source": [
    "word = input('enter word')\n",
    "print(\"original string:\",word)\n",
    "x=list(word)\n",
    "for i in  x[0:2]:\n",
    "    print(i)\n",
    "    \n",
    "  "
   ]
  },
  {
   "cell_type": "code",
   "execution_count": 15,
   "id": "e2fabcb1-9749-4699-a192-020af3a1296e",
   "metadata": {},
   "outputs": [
    {
     "name": "stdout",
     "output_type": "stream",
     "text": [
      "Given list: [10, 20, 30, 50, 60, 70, 80, 10]\n"
     ]
    },
    {
     "ename": "NameError",
     "evalue": "name 'first_num' is not defined",
     "output_type": "error",
     "traceback": [
      "\u001b[1;31m---------------------------------------------------------------------------\u001b[0m",
      "\u001b[1;31mNameError\u001b[0m                                 Traceback (most recent call last)",
      "Cell \u001b[1;32mIn[15], line 13\u001b[0m\n\u001b[0;32m     10\u001b[0m         \u001b[38;5;28;01mreturn\u001b[39;00m false\n\u001b[0;32m     12\u001b[0m number_x \u001b[38;5;241m=\u001b[39m[\u001b[38;5;241m10\u001b[39m,\u001b[38;5;241m20\u001b[39m,\u001b[38;5;241m30\u001b[39m,\u001b[38;5;241m50\u001b[39m,\u001b[38;5;241m60\u001b[39m,\u001b[38;5;241m70\u001b[39m,\u001b[38;5;241m80\u001b[39m,\u001b[38;5;241m10\u001b[39m]\n\u001b[1;32m---> 13\u001b[0m \u001b[38;5;28mprint\u001b[39m(\u001b[38;5;124m\"\u001b[39m\u001b[38;5;124mresult is\u001b[39m\u001b[38;5;124m\"\u001b[39m, \u001b[43mfirst_last_same\u001b[49m\u001b[43m(\u001b[49m\u001b[43mnumber_x\u001b[49m\u001b[43m)\u001b[49m)\n\u001b[0;32m     15\u001b[0m numbers_y\u001b[38;5;241m=\u001b[39m[\u001b[38;5;241m75\u001b[39m,\u001b[38;5;241m87\u001b[39m,\u001b[38;5;241m56\u001b[39m,\u001b[38;5;241m89\u001b[39m,\u001b[38;5;241m35\u001b[39m]\n\u001b[0;32m     16\u001b[0m \u001b[38;5;28mprint\u001b[39m(\u001b[38;5;124m\"\u001b[39m\u001b[38;5;124mresult is\u001b[39m\u001b[38;5;124m\"\u001b[39m, first_last_same(number_y))\n",
      "Cell \u001b[1;32mIn[15], line 6\u001b[0m, in \u001b[0;36mfirst_last_same\u001b[1;34m(numberlist)\u001b[0m\n\u001b[0;32m      4\u001b[0m fisrt_num \u001b[38;5;241m=\u001b[39m numberlist[\u001b[38;5;241m0\u001b[39m]\n\u001b[0;32m      5\u001b[0m last_num \u001b[38;5;241m=\u001b[39m numberlist[\u001b[38;5;241m-\u001b[39m\u001b[38;5;241m1\u001b[39m]\n\u001b[1;32m----> 6\u001b[0m \u001b[38;5;28;01mif\u001b[39;00m \u001b[43mfirst_num\u001b[49m \u001b[38;5;241m==\u001b[39m last_num:\n\u001b[0;32m      7\u001b[0m     \u001b[38;5;28;01mreturn\u001b[39;00m true\n\u001b[0;32m      9\u001b[0m \u001b[38;5;28;01melse\u001b[39;00m:\n",
      "\u001b[1;31mNameError\u001b[0m: name 'first_num' is not defined"
     ]
    }
   ],
   "source": [
    "def first_last_same(numberlist):\n",
    "    print(\"Given list:\", numberlist)\n",
    "\n",
    "    fisrt_num = numberlist[0]\n",
    "    last_num = numberlist[-1]\n",
    "    if first_num == last_num:\n",
    "        return true\n",
    "\n",
    "    else:\n",
    "        return false\n",
    "\n",
    "number_x =[10,20,30,50,60,70,80,10]\n",
    "print(\"result is\", first_last_same(number_x))\n",
    "\n",
    "numbers_y=[75,87,56,89,35]\n",
    "print(\"result is\", first_last_same(number_y))\n"
   ]
  },
  {
   "cell_type": "code",
   "execution_count": null,
   "id": "998ce568-3d5d-434b-9cd3-84adb546b124",
   "metadata": {},
   "outputs": [],
   "source": []
  }
 ],
 "metadata": {
  "kernelspec": {
   "display_name": "Python 3 (ipykernel)",
   "language": "python",
   "name": "python3"
  },
  "language_info": {
   "codemirror_mode": {
    "name": "ipython",
    "version": 3
   },
   "file_extension": ".py",
   "mimetype": "text/x-python",
   "name": "python",
   "nbconvert_exporter": "python",
   "pygments_lexer": "ipython3",
   "version": "3.10.11"
  }
 },
 "nbformat": 4,
 "nbformat_minor": 5
}
