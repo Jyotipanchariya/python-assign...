{
 "cells": [
  {
   "cell_type": "code",
   "execution_count": 4,
   "id": "3f5c5991-ef2f-4396-90ea-8a9a58e5b58f",
   "metadata": {},
   "outputs": [
    {
     "data": {
      "text/plain": [
       "[1, 2, 3, 3, 4, 5]"
      ]
     },
     "execution_count": 4,
     "metadata": {},
     "output_type": "execute_result"
    }
   ],
   "source": [
    "my_list = [1, 2, 3, 3, 4]\n",
    "\n",
    "my_list.append(5)\n",
    "my_list\n",
    "\n",
    "\n",
    " "
   ]
  },
  {
   "cell_type": "code",
   "execution_count": 5,
   "id": "5deb1dea-3626-4b74-888f-18aa1ca2bda7",
   "metadata": {},
   "outputs": [
    {
     "data": {
      "text/plain": [
       "[1, 2, 3, 3, 4, 5, 6, 7, 8]"
      ]
     },
     "execution_count": 5,
     "metadata": {},
     "output_type": "execute_result"
    }
   ],
   "source": [
    "my_list.extend([6,7,8])\n",
    "my_list"
   ]
  },
  {
   "cell_type": "code",
   "execution_count": 6,
   "id": "5bb59483-c245-42df-9d3f-7ee81554d8a2",
   "metadata": {},
   "outputs": [
    {
     "data": {
      "text/plain": [
       "[1, 2, 15, 3, 3, 4, 5, 6, 7, 8]"
      ]
     },
     "execution_count": 6,
     "metadata": {},
     "output_type": "execute_result"
    }
   ],
   "source": [
    "my_list.insert(2,15)\n",
    "my_list"
   ]
  },
  {
   "cell_type": "code",
   "execution_count": 7,
   "id": "2405663d-3388-4502-a054-65493178ed2a",
   "metadata": {},
   "outputs": [
    {
     "data": {
      "text/plain": [
       "[1, 15, 3, 3, 4, 5, 6, 7, 8]"
      ]
     },
     "execution_count": 7,
     "metadata": {},
     "output_type": "execute_result"
    }
   ],
   "source": [
    "my_list.remove(2)\n",
    "my_list"
   ]
  },
  {
   "cell_type": "code",
   "execution_count": 8,
   "id": "456f0c5f-b99f-4510-9af4-a086bb75e17a",
   "metadata": {},
   "outputs": [
    {
     "data": {
      "text/plain": [
       "8"
      ]
     },
     "execution_count": 8,
     "metadata": {},
     "output_type": "execute_result"
    }
   ],
   "source": [
    "my_list.pop()"
   ]
  },
  {
   "cell_type": "code",
   "execution_count": 9,
   "id": "b8a6c60b-c0f5-4574-8103-11d4bc866a4d",
   "metadata": {},
   "outputs": [
    {
     "data": {
      "text/plain": [
       "6"
      ]
     },
     "execution_count": 9,
     "metadata": {},
     "output_type": "execute_result"
    }
   ],
   "source": [
    "my_list.index(6)"
   ]
  },
  {
   "cell_type": "code",
   "execution_count": 10,
   "id": "864d5cac-42a9-4d1a-b2f9-c7c71fd1efd8",
   "metadata": {},
   "outputs": [
    {
     "data": {
      "text/plain": [
       "0"
      ]
     },
     "execution_count": 10,
     "metadata": {},
     "output_type": "execute_result"
    }
   ],
   "source": [
    "my_list.count(2)"
   ]
  },
  {
   "cell_type": "code",
   "execution_count": 11,
   "id": "e122d61f-1af6-4b4a-aeb0-7b9e4bc8e5a1",
   "metadata": {},
   "outputs": [
    {
     "data": {
      "text/plain": [
       "[1, 3, 3, 4, 5, 6, 7, 15]"
      ]
     },
     "execution_count": 11,
     "metadata": {},
     "output_type": "execute_result"
    }
   ],
   "source": [
    "my_list.sort()\n",
    "my_list"
   ]
  },
  {
   "cell_type": "code",
   "execution_count": 12,
   "id": "cca11701-180c-4878-8216-2a9e493d7978",
   "metadata": {},
   "outputs": [
    {
     "data": {
      "text/plain": [
       "[15, 7, 6, 5, 4, 3, 3, 1]"
      ]
     },
     "execution_count": 12,
     "metadata": {},
     "output_type": "execute_result"
    }
   ],
   "source": [
    "my_list.reverse()\n",
    "my_list"
   ]
  },
  {
   "cell_type": "code",
   "execution_count": 13,
   "id": "de58767e-6115-4517-9b49-909de73e2769",
   "metadata": {},
   "outputs": [
    {
     "data": {
      "text/plain": [
       "[]"
      ]
     },
     "execution_count": 13,
     "metadata": {},
     "output_type": "execute_result"
    }
   ],
   "source": [
    "my_list.clear()\n",
    "my_list"
   ]
  },
  {
   "cell_type": "code",
   "execution_count": 14,
   "id": "ed05c08a-d5a6-45f9-b47f-38b95e3057cd",
   "metadata": {},
   "outputs": [
    {
     "name": "stdout",
     "output_type": "stream",
     "text": [
      "1\n"
     ]
    }
   ],
   "source": [
    "my_dict = {\"a\": 1, \"b\": 2, \"c\": 3, \"d\": 4}\n",
    "\n",
    "print(my_dict[\"a\"])"
   ]
  },
  {
   "cell_type": "code",
   "execution_count": 17,
   "id": "303b561b-be06-470d-b338-3b679f453ccf",
   "metadata": {},
   "outputs": [
    {
     "name": "stdout",
     "output_type": "stream",
     "text": [
      "This is my favorite color\n"
     ]
    }
   ],
   "source": [
    "color = \"Blue\"\n",
    "\n",
    "if color == \"Blue\":\n",
    "    print(\"This is my favorite color\")\n",
    "\n"
   ]
  },
  {
   "cell_type": "code",
   "execution_count": 18,
   "id": "78b96334-6aba-45a3-876e-839cf746d8d9",
   "metadata": {},
   "outputs": [
    {
     "name": "stdout",
     "output_type": "stream",
     "text": [
      "End\n"
     ]
    }
   ],
   "source": [
    "x = 5\n",
    "\n",
    "if x > 9:\n",
    "    print(\"Hello!\")\n",
    "\n",
    "print(\"End\")"
   ]
  },
  {
   "cell_type": "code",
   "execution_count": 19,
   "id": "c6f1b6d7-7bd5-432e-a4eb-dc8ac171a27c",
   "metadata": {},
   "outputs": [
    {
     "name": "stdout",
     "output_type": "stream",
     "text": [
      "That is my favorite season too!\n"
     ]
    }
   ],
   "source": [
    "favorite_season = \"Summer\"\n",
    "\n",
    "if favorite_season == \"Summer\":\n",
    "    print(\"That is my favorite season too!\")"
   ]
  },
  {
   "cell_type": "code",
   "execution_count": 20,
   "id": "c5d275a5-dd82-4f6c-ab78-07f684ee09e6",
   "metadata": {},
   "outputs": [
    {
     "name": "stdout",
     "output_type": "stream",
     "text": [
      "Hello!\n",
      "End\n"
     ]
    }
   ],
   "source": [
    "x = 5\n",
    "\n",
    "if x < 9:\n",
    "    print(\"Hello!\")\n",
    "elif x < 15:\n",
    "    print(\"It's great to see you\")\n",
    "else:\n",
    "    print(\"Bye!\")\n",
    "\n",
    "print(\"End\")"
   ]
  },
  {
   "cell_type": "code",
   "execution_count": 21,
   "id": "a6ed10c2-3a42-41fc-918e-2d5ccfa39902",
   "metadata": {},
   "outputs": [
    {
     "name": "stdout",
     "output_type": "stream",
     "text": [
      "It's great to see you\n",
      "End\n"
     ]
    }
   ],
   "source": [
    "x = 13\n",
    "\n",
    "if x < 9:\n",
    "    print(\"Hello!\")\n",
    "elif x < 15:\n",
    "    print(\"It's great to see you\")\n",
    "else:\n",
    "    print(\"Bye!\")\n",
    "\n",
    "print(\"End\")"
   ]
  },
  {
   "cell_type": "code",
   "execution_count": 22,
   "id": "2d81f988-0971-4018-9b3c-b0354e6076c5",
   "metadata": {},
   "outputs": [
    {
     "name": "stdout",
     "output_type": "stream",
     "text": [
      "Bye!\n",
      "End\n"
     ]
    }
   ],
   "source": [
    "x = 25\n",
    "\n",
    "if x < 9:\n",
    "    print(\"Hello!\")\n",
    "elif x < 15:\n",
    "    print(\"It's great to see you\")\n",
    "else:\n",
    "    print(\"Bye!\")\n",
    "\n",
    "print(\"End\")"
   ]
  },
  {
   "cell_type": "code",
   "execution_count": 23,
   "id": "278b3f82-e4a7-467b-9d83-f12e2b7114ec",
   "metadata": {},
   "outputs": [
    {
     "name": "stdout",
     "output_type": "stream",
     "text": [
      "Summer is amazing\n"
     ]
    }
   ],
   "source": [
    "if favorite_season == \"Winter\":\n",
    "    print(\"That is my favorite season too\")\n",
    "elif favorite_season == \"Summer\":\n",
    "    print(\"Summer is amazing\")\n",
    "elif favorite_season == \"Spring\":\n",
    "    print(\"I love spring\")\n",
    "else:\n",
    "    print(\"Fall is my mom's favorite season\")"
   ]
  },
  {
   "cell_type": "code",
   "execution_count": 24,
   "id": "3ac22f27-630f-4d5a-9250-90af77fdab89",
   "metadata": {},
   "outputs": [
    {
     "name": "stdout",
     "output_type": "stream",
     "text": [
      "\n",
      "Hello\n",
      "HelloHello\n",
      "HelloHelloHello\n",
      "HelloHelloHelloHello\n",
      "HelloHelloHelloHelloHello\n",
      "HelloHelloHelloHelloHelloHello\n",
      "HelloHelloHelloHelloHelloHelloHello\n"
     ]
    }
   ],
   "source": [
    "for num in range(8):\n",
    "\tprint(\"Hello\" * num)"
   ]
  },
  {
   "cell_type": "code",
   "execution_count": 25,
   "id": "d947d956-7c57-44d3-9c3d-0c90fc92f015",
   "metadata": {},
   "outputs": [
    {
     "name": "stdout",
     "output_type": "stream",
     "text": [
      "g\n",
      "f\n",
      "e\n",
      "d\n"
     ]
    }
   ],
   "source": [
    "my_list = [\"a\", \"b\", \"c\", \"d\", \"e\", \"f\", \"g\"]\n",
    "\n",
    "for i in range(len(my_list)-1, 2, -1):\n",
    "\tprint(my_list[i])"
   ]
  },
  {
   "cell_type": "code",
   "execution_count": 26,
   "id": "c375a3a7-2997-463c-8d78-8936fc6bce69",
   "metadata": {},
   "outputs": [
    {
     "name": "stdout",
     "output_type": "stream",
     "text": [
      "H\n",
      "e\n",
      "l\n",
      "l\n",
      "o\n",
      ",\n",
      " \n",
      "W\n",
      "o\n",
      "r\n",
      "l\n",
      "d\n",
      "!\n"
     ]
    }
   ],
   "source": [
    "message = \"Hello, World!\"\n",
    "\n",
    "for char in message:\n",
    "\tprint(char)"
   ]
  },
  {
   "cell_type": "code",
   "execution_count": 27,
   "id": "8607b414-147d-44bb-96a4-7c3b78936357",
   "metadata": {},
   "outputs": [
    {
     "name": "stdout",
     "output_type": "stream",
     "text": [
      "H\n",
      "E\n",
      "L\n",
      "L\n",
      "O\n"
     ]
    }
   ],
   "source": [
    "word = \"Hello\"\n",
    "\n",
    "for char in word.upper(): # calling the string method\n",
    "\tprint(char)"
   ]
  },
  {
   "cell_type": "code",
   "execution_count": 28,
   "id": "447ff16d-6efa-426d-a201-f999610aa3f6",
   "metadata": {},
   "outputs": [
    {
     "name": "stdout",
     "output_type": "stream",
     "text": [
      "Even\n",
      "Odd\n",
      "Even\n",
      "Odd\n"
     ]
    }
   ],
   "source": [
    "my_list = (2, 3, 4, 5)\n",
    "\n",
    "for num in my_list:\n",
    "\tif num % 2 == 0:\n",
    "\t\tprint(\"Even\")\n",
    "\telse:\n",
    "\t\tprint(\"Odd\")"
   ]
  },
  {
   "cell_type": "code",
   "execution_count": 29,
   "id": "37a7467c-3e00-4bb2-bc08-77f704b57d55",
   "metadata": {},
   "outputs": [
    {
     "name": "stdout",
     "output_type": "stream",
     "text": [
      "('a', 1)\n",
      "('b', 2)\n",
      "('c', 3)\n"
     ]
    }
   ],
   "source": [
    "my_dict = {\"a\": 1, \"b\": 2, \"c\": 3}\n",
    "for pair in my_dict.items():\n",
    "\tprint(pair)\n"
   ]
  },
  {
   "cell_type": "code",
   "execution_count": 30,
   "id": "0dbde50a-3556-4d8e-b71e-e735d0b5d377",
   "metadata": {},
   "outputs": [
    {
     "name": "stdout",
     "output_type": "stream",
     "text": [
      "Odd: 1\n",
      "Even: 2\n",
      "break\n"
     ]
    }
   ],
   "source": [
    "my_list = [1, 2, 3, 4, 5]\n",
    "\n",
    "for elem in my_list:\n",
    "\tif elem % 2 == 0:\n",
    "\t\tprint(\"Even:\", elem)\n",
    "\t\tprint(\"break\")\n",
    "\t\tbreak\n",
    "\telse:\n",
    "\t\tprint(\"Odd:\", elem)"
   ]
  },
  {
   "cell_type": "code",
   "execution_count": null,
   "id": "f06b7048-b7bf-4efa-b0f5-9cbceb9ca7aa",
   "metadata": {},
   "outputs": [],
   "source": []
  }
 ],
 "metadata": {
  "kernelspec": {
   "display_name": "Python 3 (ipykernel)",
   "language": "python",
   "name": "python3"
  },
  "language_info": {
   "codemirror_mode": {
    "name": "ipython",
    "version": 3
   },
   "file_extension": ".py",
   "mimetype": "text/x-python",
   "name": "python",
   "nbconvert_exporter": "python",
   "pygments_lexer": "ipython3",
   "version": "3.10.11"
  }
 },
 "nbformat": 4,
 "nbformat_minor": 5
}
