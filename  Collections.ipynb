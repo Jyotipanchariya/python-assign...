{
 "cells": [
  {
   "cell_type": "markdown",
   "id": "edd30492-1ed4-494b-8dae-6277979c9bf5",
   "metadata": {},
   "source": [
    "# DECORATORS"
   ]
  },
  {
   "cell_type": "code",
   "execution_count": 28,
   "id": "5c144962-dffa-4787-8840-49215f22a925",
   "metadata": {},
   "outputs": [
    {
     "name": "stdout",
     "output_type": "stream",
     "text": [
      "hey\n",
      "hey this is raj\n"
     ]
    }
   ],
   "source": [
    "def regex(num):\n",
    "    def tushar():\n",
    "        print(\"hey\")\n",
    "        num()\n",
    "    return tushar\n",
    "\n",
    "\n",
    "@regex\n",
    "def rajendra():\n",
    "    print(\"hey this is raj\")\n",
    "\n",
    "\n",
    "rajendra()\n",
    "\n",
    "#rajendra=regx(rajendra)\n",
    "#rajendra()\n",
    "#x=regex(10)\n",
    "#x()\n",
    "    "
   ]
  },
  {
   "cell_type": "markdown",
   "id": "c7d855e2-4483-46fa-8ee8-52ff60f17c1e",
   "metadata": {},
   "source": [
    "# collection"
   ]
  },
  {
   "cell_type": "code",
   "execution_count": 34,
   "id": "3123f825-7739-493f-b7f7-a76c9cebaee2",
   "metadata": {},
   "outputs": [],
   "source": [
    "#import collections\n",
    "from collections import Counter\n",
    "#from collections import *"
   ]
  },
  {
   "cell_type": "code",
   "execution_count": 35,
   "id": "44ec33c3-6473-4439-a204-2b417d9c5d16",
   "metadata": {},
   "outputs": [
    {
     "data": {
      "text/plain": [
       "Counter({2: 2, 10: 1, 34: 1, 21: 1, 1: 1})"
      ]
     },
     "execution_count": 35,
     "metadata": {},
     "output_type": "execute_result"
    }
   ],
   "source": [
    "Counter([10,2,34,2,21,1])"
   ]
  },
  {
   "cell_type": "code",
   "execution_count": 36,
   "id": "604b3ebf-2c03-432e-aee4-7fec03b04f7a",
   "metadata": {},
   "outputs": [
    {
     "data": {
      "text/plain": [
       "Counter({'abc': 20, 'XYZ': 10})"
      ]
     },
     "execution_count": 36,
     "metadata": {},
     "output_type": "execute_result"
    }
   ],
   "source": [
    "Counter({\"XYZ\":10,\"abc\":20})"
   ]
  },
  {
   "cell_type": "code",
   "execution_count": 38,
   "id": "0de0501b-a2f0-41a3-9557-c8dac9d1c522",
   "metadata": {},
   "outputs": [
    {
     "data": {
      "text/plain": [
       "Counter({'abc': 20, 'XYZ': 10})"
      ]
     },
     "execution_count": 38,
     "metadata": {},
     "output_type": "execute_result"
    }
   ],
   "source": [
    "Counter(XYZ=10, abc=20)"
   ]
  },
  {
   "cell_type": "code",
   "execution_count": 42,
   "id": "b1000520-701e-41c9-b9d1-0d7837a403f3",
   "metadata": {},
   "outputs": [],
   "source": [
    "from collections import Counter\n",
    "count=Counter()\n",
    "count.update([10,10,29,20,30,19])\n"
   ]
  },
  {
   "cell_type": "code",
   "execution_count": 43,
   "id": "ae9a45ad-1390-4a69-9634-2390c526165a",
   "metadata": {},
   "outputs": [
    {
     "data": {
      "text/plain": [
       "Counter({10: 2, 29: 1, 20: 1, 30: 1, 19: 1})"
      ]
     },
     "execution_count": 43,
     "metadata": {},
     "output_type": "execute_result"
    }
   ],
   "source": [
    "count\n"
   ]
  },
  {
   "cell_type": "code",
   "execution_count": 44,
   "id": "664364e3-1191-4375-b82f-e78261c72817",
   "metadata": {},
   "outputs": [],
   "source": [
    "count.update({10:2})"
   ]
  },
  {
   "cell_type": "code",
   "execution_count": 45,
   "id": "99aec3d7-8057-4208-8e8e-e4100e69d17e",
   "metadata": {},
   "outputs": [
    {
     "data": {
      "text/plain": [
       "Counter({10: 4, 29: 1, 20: 1, 30: 1, 19: 1})"
      ]
     },
     "execution_count": 45,
     "metadata": {},
     "output_type": "execute_result"
    }
   ],
   "source": [
    "count"
   ]
  },
  {
   "cell_type": "code",
   "execution_count": 48,
   "id": "dcb69b31-63df-4586-83dd-49fda4ae7c0b",
   "metadata": {},
   "outputs": [],
   "source": [
    "count.subtract([10])"
   ]
  },
  {
   "cell_type": "code",
   "execution_count": 49,
   "id": "1d657a29-e057-4ce4-a693-6ff2ef1560df",
   "metadata": {},
   "outputs": [
    {
     "data": {
      "text/plain": [
       "Counter({10: 2, 29: 1, 20: 1, 30: 1, 19: 1})"
      ]
     },
     "execution_count": 49,
     "metadata": {},
     "output_type": "execute_result"
    }
   ],
   "source": [
    "count"
   ]
  },
  {
   "cell_type": "markdown",
   "id": "edf0a09f-c75c-47a6-8cfc-07072f46f4e4",
   "metadata": {},
   "source": [
    "# ORDER DIC"
   ]
  },
  {
   "cell_type": "code",
   "execution_count": 50,
   "id": "2c5b4996-24bd-41c7-88e5-33932a04a1e7",
   "metadata": {},
   "outputs": [],
   "source": [
    "from collections import OrderedDict\n"
   ]
  },
  {
   "cell_type": "code",
   "execution_count": 51,
   "id": "f5a04233-ad62-43f2-b49e-9a44e262b259",
   "metadata": {},
   "outputs": [
    {
     "data": {
      "text/plain": [
       "dict_items([(10, 1), (5, 2)])"
      ]
     },
     "execution_count": 51,
     "metadata": {},
     "output_type": "execute_result"
    }
   ],
   "source": [
    "mydictionary={10:1,5:2}\n",
    "mydictionary.items()"
   ]
  },
  {
   "cell_type": "code",
   "execution_count": 52,
   "id": "938ca33c-4734-47b9-af4a-dc0972f16b9a",
   "metadata": {},
   "outputs": [
    {
     "data": {
      "text/plain": [
       "OrderedDict([('a', 1), ('b', 2)])"
      ]
     },
     "execution_count": 52,
     "metadata": {},
     "output_type": "execute_result"
    }
   ],
   "source": [
    "od= OrderedDict()\n",
    "od['a']=1\n",
    "od['b']=2\n",
    "\n",
    "od"
   ]
  },
  {
   "cell_type": "markdown",
   "id": "1ec7994f-5558-4cc6-8763-899a8c2c8182",
   "metadata": {},
   "source": [
    "# DEFAULT DICTIONARY"
   ]
  },
  {
   "cell_type": "code",
   "execution_count": 56,
   "id": "76957a71-50eb-4b06-a97b-2080cb2694fb",
   "metadata": {},
   "outputs": [],
   "source": [
    "from collections import defaultdict"
   ]
  },
  {
   "cell_type": "code",
   "execution_count": 65,
   "id": "4dc6db62-c874-41b2-91d2-e87b79c2d85d",
   "metadata": {},
   "outputs": [],
   "source": [
    "def func():\n",
    "    return 100\n",
    "\n",
    "default_dictionary = defaultdict( func )\n",
    "default_dictionary[\"a\"]=10"
   ]
  },
  {
   "cell_type": "code",
   "execution_count": 66,
   "id": "9060f250-ed6b-4ea2-9886-ce499f9c5422",
   "metadata": {},
   "outputs": [
    {
     "data": {
      "text/plain": [
       "defaultdict(<function __main__.func()>, {'a': 10})"
      ]
     },
     "execution_count": 66,
     "metadata": {},
     "output_type": "execute_result"
    }
   ],
   "source": [
    "default_dictionary"
   ]
  },
  {
   "cell_type": "code",
   "execution_count": 67,
   "id": "5e98e192-07e5-4e18-9fc0-0488ac5dc812",
   "metadata": {},
   "outputs": [
    {
     "data": {
      "text/plain": [
       "10"
      ]
     },
     "execution_count": 67,
     "metadata": {},
     "output_type": "execute_result"
    }
   ],
   "source": [
    "default_dictionary[\"a\"]"
   ]
  },
  {
   "cell_type": "markdown",
   "id": "5c53ca4a-60ec-4373-9ea8-9678ca8d3090",
   "metadata": {},
   "source": [
    "# NAMEDTUPLE"
   ]
  },
  {
   "cell_type": "markdown",
   "id": "2dde4bb7-b101-4621-a174-93feadd119b5",
   "metadata": {},
   "source": [
    "\n",
    "from collections import namedtuple\n"
   ]
  },
  {
   "cell_type": "code",
   "execution_count": 5,
   "id": "ea22c843-d88b-4fd3-b54a-2ca4d72d8498",
   "metadata": {},
   "outputs": [],
   "source": [
    "nt_tuple=namedtuple(\"regex\",[\"name\",\"email\",\"salary\"])\n"
   ]
  },
  {
   "cell_type": "code",
   "execution_count": 10,
   "id": "a423f978-ace5-45eb-abfc-b69b5050558d",
   "metadata": {},
   "outputs": [
    {
     "data": {
      "text/plain": [
       "'tushar@gmail.com'"
      ]
     },
     "execution_count": 10,
     "metadata": {},
     "output_type": "execute_result"
    }
   ],
   "source": [
    "emp2=nt_tuple(\"tushar\",\"tushar@gmail.com\",100)\n",
    "emp2.email"
   ]
  },
  {
   "cell_type": "markdown",
   "id": "3ff7fc85-719c-422e-9f97-d000bae74fe3",
   "metadata": {},
   "source": [
    "# DEQUE"
   ]
  },
  {
   "cell_type": "code",
   "execution_count": 11,
   "id": "9819373c-6154-47d6-b0e6-1b131eb28d54",
   "metadata": {},
   "outputs": [],
   "source": [
    "from collections import deque\n"
   ]
  },
  {
   "cell_type": "code",
   "execution_count": 18,
   "id": "8a513400-8f7b-4eee-a335-4fbec68a49d6",
   "metadata": {},
   "outputs": [
    {
     "data": {
      "text/plain": [
       "deque([10, 20, 30])"
      ]
     },
     "execution_count": 18,
     "metadata": {},
     "output_type": "execute_result"
    }
   ],
   "source": [
    "deque([10,20,30])"
   ]
  },
  {
   "cell_type": "code",
   "execution_count": 15,
   "id": "d4ba7fe7-0eb7-430e-9e7d-e1471b5f4917",
   "metadata": {},
   "outputs": [],
   "source": []
  },
  {
   "cell_type": "code",
   "execution_count": null,
   "id": "c2bac907-1fd5-44e4-9219-1ec0b2f9f963",
   "metadata": {},
   "outputs": [],
   "source": []
  }
 ],
 "metadata": {
  "kernelspec": {
   "display_name": "Python 3 (ipykernel)",
   "language": "python",
   "name": "python3"
  },
  "language_info": {
   "codemirror_mode": {
    "name": "ipython",
    "version": 3
   },
   "file_extension": ".py",
   "mimetype": "text/x-python",
   "name": "python",
   "nbconvert_exporter": "python",
   "pygments_lexer": "ipython3",
   "version": "3.10.11"
  }
 },
 "nbformat": 4,
 "nbformat_minor": 5
}
