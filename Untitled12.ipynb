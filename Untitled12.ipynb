{
 "cells": [
  {
   "cell_type": "code",
   "execution_count": 8,
   "id": "18a03b32-af74-472e-83a3-eab30d3b1dd7",
   "metadata": {},
   "outputs": [
    {
     "name": "stdout",
     "output_type": "stream",
     "text": [
      "greeting function here\n",
      "we are printing cube function\n"
     ]
    }
   ],
   "source": [
    "def hello(func):\n",
    "    def greeting():\n",
    "        print(\"greeting function here\")\n",
    "        func()\n",
    "    return greeting \n",
    "#second function \n",
    "\n",
    "@hello\n",
    "\n",
    "def cube():\n",
    "    print(\"we are printing cube function\")\n",
    "\n",
    "cube()\n"
   ]
  },
  {
   "cell_type": "code",
   "execution_count": 9,
   "id": "e9377cb3-52dc-4034-b809-3426cb353434",
   "metadata": {},
   "outputs": [
    {
     "ename": "NameError",
     "evalue": "name 'a' is not defined",
     "output_type": "error",
     "traceback": [
      "\u001b[1;31m---------------------------------------------------------------------------\u001b[0m",
      "\u001b[1;31mNameError\u001b[0m                                 Traceback (most recent call last)",
      "Cell \u001b[1;32mIn[9], line 9\u001b[0m\n\u001b[0;32m      6\u001b[0m         \u001b[38;5;28mprint\u001b[39m(\u001b[38;5;124m\"\u001b[39m\u001b[38;5;124mhello salary here\u001b[39m\u001b[38;5;124m\"\u001b[39m)\n\u001b[0;32m      8\u001b[0m a1\u001b[38;5;241m=\u001b[39mAmount()\n\u001b[1;32m----> 9\u001b[0m \u001b[43ma\u001b[49m\n",
      "\u001b[1;31mNameError\u001b[0m: name 'a' is not defined"
     ]
    }
   ],
   "source": [
    "class Amount:\n",
    "    x=10\n",
    "\n",
    "    @property\n",
    "    def salary(self):\n",
    "        print(\"hello salary here\")\n",
    "\n",
    "a1=Amount()\n",
    "a"
   ]
  },
  {
   "cell_type": "code",
   "execution_count": 14,
   "id": "24489642-6af6-430c-8980-e0ee11ab0ab6",
   "metadata": {},
   "outputs": [
    {
     "name": "stdout",
     "output_type": "stream",
     "text": [
      "hello salary here\n"
     ]
    }
   ],
   "source": [
    "class Amount:\n",
    "    x=10\n",
    "\n",
    "    @property\n",
    "    def salary(self):\n",
    "        print(\"hello salary here\")\n",
    "\n",
    "a1=Amount()\n",
    "a1.salary"
   ]
  },
  {
   "cell_type": "code",
   "execution_count": 16,
   "id": "2558bf20-c9db-4d89-834d-5e6974917f6f",
   "metadata": {},
   "outputs": [
    {
     "name": "stdout",
     "output_type": "stream",
     "text": [
      "hello salary here\n"
     ]
    }
   ],
   "source": [
    "class Amount:\n",
    "   \n",
    "\n",
    "    @staticmethod \n",
    "    def salary():\n",
    "        print(\"hello salary here\")\n",
    "\n",
    "a1=Amount()\n",
    "\n",
    "Amount.salary()"
   ]
  },
  {
   "cell_type": "code",
   "execution_count": 23,
   "id": "ae04c814-e488-4372-ad80-bcc330f08cbf",
   "metadata": {},
   "outputs": [
    {
     "ename": "AttributeError",
     "evalue": "'Dollar' object has no attribute 'conversion'",
     "output_type": "error",
     "traceback": [
      "\u001b[1;31m---------------------------------------------------------------------------\u001b[0m",
      "\u001b[1;31mAttributeError\u001b[0m                            Traceback (most recent call last)",
      "Cell \u001b[1;32mIn[23], line 15\u001b[0m\n\u001b[0;32m     13\u001b[0m         \u001b[38;5;28;01mreturn\u001b[39;00m Dollar(\u001b[38;5;241m80\u001b[39m\u001b[38;5;241m+\u001b[39m\u001b[38;5;28mself\u001b[39m\u001b[38;5;241m.\u001b[39mamount)       \n\u001b[0;32m     14\u001b[0m d1\u001b[38;5;241m=\u001b[39mDollar()\n\u001b[1;32m---> 15\u001b[0m \u001b[43md1\u001b[49m\u001b[38;5;241;43m.\u001b[39;49m\u001b[43mconversion\u001b[49m()\n",
      "\u001b[1;31mAttributeError\u001b[0m: 'Dollar' object has no attribute 'conversion'"
     ]
    }
   ],
   "source": [
    "#static method cannot change or modify to the class property \n",
    "#static method does not need self parameter \n",
    "\n",
    "#classmethod\n",
    "class Dollar:\n",
    "    def _init_(self,amount):\n",
    "        self.amount=amount\n",
    "\n",
    "    def _repr_(self):\n",
    "        return f\"Dollar class has amount {self.amount}\"\n",
    "\n",
    "    def converstion(self):\n",
    "        return Dollar(80+self.amount)       \n",
    "d1=Dollar(100)\n",
    "d1.conversion()"
   ]
  },
  {
   "cell_type": "code",
   "execution_count": 32,
   "id": "7152dbd8-d55d-4132-9880-5c71dfac59de",
   "metadata": {},
   "outputs": [
    {
     "data": {
      "text/plain": [
       "Euro class has amount 170"
      ]
     },
     "execution_count": 32,
     "metadata": {},
     "output_type": "execute_result"
    }
   ],
   "source": [
    "class Dollar:\n",
    "    def __init__(self,amount):\n",
    "        self.amount=amount\n",
    "\n",
    "    def __repr__(self):\n",
    "        return f\"Dollar class has amount {self.amount}\"\n",
    "    @classmethod\n",
    "    def conversion(cls,amount):\n",
    "        return cls(80+amount)    \n",
    "\n",
    "class Euro(Dollar):\n",
    "    def __init__(self,amount):\n",
    "        self.amount=amount\n",
    "\n",
    "    def __repr__(self):\n",
    "        return f\"Euro class has amount {self.amount}\"\n",
    "        \n",
    "e1=Euro(90)\n",
    "e1.conversion(90)"
   ]
  },
  {
   "cell_type": "code",
   "execution_count": null,
   "id": "87bd8d8b-baf0-4e96-a112-17c534e9b703",
   "metadata": {},
   "outputs": [],
   "source": []
  }
 ],
 "metadata": {
  "kernelspec": {
   "display_name": "Python 3 (ipykernel)",
   "language": "python",
   "name": "python3"
  },
  "language_info": {
   "codemirror_mode": {
    "name": "ipython",
    "version": 3
   },
   "file_extension": ".py",
   "mimetype": "text/x-python",
   "name": "python",
   "nbconvert_exporter": "python",
   "pygments_lexer": "ipython3",
   "version": "3.10.11"
  }
 },
 "nbformat": 4,
 "nbformat_minor": 5
}
