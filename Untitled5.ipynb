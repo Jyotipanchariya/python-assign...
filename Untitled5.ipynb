{
 "cells": [
  {
   "cell_type": "code",
   "execution_count": 25,
   "id": "935a8949-7976-48b3-90cb-90aa2aa0772d",
   "metadata": {},
   "outputs": [
    {
     "name": "stdout",
     "output_type": "stream",
     "text": [
      "a a a a a a a a a a  \n"
     ]
    }
   ],
   "source": [
    "n=1\n",
    "num=97\n",
    "for i in range(1,5):\n",
    "     for j in range(1,i+1,1):\n",
    "        ch=chr(num)\n",
    "        print(ch,end=\" \")\n",
    "        n = num \n",
    "print(\" \")"
   ]
  },
  {
   "cell_type": "code",
   "execution_count": 16,
   "id": "30be09e7-98b1-4f8d-8ee3-232e6fe22544",
   "metadata": {},
   "outputs": [
    {
     "name": "stdout",
     "output_type": "stream",
     "text": [
      "A B C D E F G H I J  \n"
     ]
    }
   ],
   "source": [
    "n=65\n",
    "for i in range(1,5):\n",
    "    for j in range(1, i+1,1):\n",
    "        ch = chr(n)\n",
    "        print(ch, end=\" \")\n",
    "        n = n+ 1\n",
    "\t\n",
    "print(\" \")\n"
   ]
  },
  {
   "cell_type": "code",
   "execution_count": 32,
   "id": "85991811-6b7a-4109-a00c-a12922cab869",
   "metadata": {},
   "outputs": [
    {
     "name": "stdout",
     "output_type": "stream",
     "text": [
      "* * * * * \n",
      "  * * * * \n",
      "    * * * \n",
      "      * * \n",
      "        * \n"
     ]
    }
   ],
   "source": [
    "\n"
   ]
  },
  {
   "cell_type": "code",
   "execution_count": 38,
   "id": "ae4f0779-3b61-48f2-ad11-9c1fb5efa5ae",
   "metadata": {},
   "outputs": [
    {
     "name": "stdout",
     "output_type": "stream",
     "text": [
      "      *  *   \n",
      "     *  *  *   \n",
      "    *  *  *  *   \n"
     ]
    }
   ],
   "source": [
    "a = 4\n",
    "n = (2 * a) - 1\n",
    "for i in range(1, a):\n",
    "    for j in range(1, n):\n",
    "        print(end=\" \")\n",
    "    \n",
    "    n = n- 1\n",
    "    for j in range(0, i + 1):\n",
    "        print(\"* \", end=' ')\n",
    "    print(\" \")"
   ]
  },
  {
   "cell_type": "code",
   "execution_count": 39,
   "id": "e2883d50-4299-4c7b-a67b-126a817d3bd7",
   "metadata": {},
   "outputs": [
    {
     "name": "stdout",
     "output_type": "stream",
     "text": [
      "   *  *   \n",
      "  *  *  *   \n",
      " *  *  *  *   \n"
     ]
    }
   ],
   "source": [
    "a = 4\n",
    "n = (2 * i) - 2\n",
    "for i in range(1, a):\n",
    "    for j in range(1, n):\n",
    "        print(end=\" \")\n",
    "    \n",
    "    n = n- 1\n",
    "    for j in range(0, i + 1):\n",
    "        print(\"* \", end=' ')\n",
    "    print(\" \")"
   ]
  },
  {
   "cell_type": "code",
   "execution_count": 41,
   "id": "09ddf05c-b047-402a-bcbc-6a820c122f1f",
   "metadata": {},
   "outputs": [
    {
     "name": "stdout",
     "output_type": "stream",
     "text": [
      "      *   \n",
      "     *  *   \n",
      "    *  *  *   \n",
      "   *  *  *  *   \n"
     ]
    }
   ],
   "source": [
    "a = 4\n",
    "n = (2 * a) - 2\n",
    "for i in range(0, a):\n",
    "    for j in range(0, n):\n",
    "        print(end=\" \")\n",
    "    \n",
    "    n = n- 1\n",
    "    for j in range(0, i + 1):\n",
    "        print(\"* \", end=' ')\n",
    "    print(\" \")"
   ]
  },
  {
   "cell_type": "code",
   "execution_count": 42,
   "id": "94cf6363-b8f6-4809-8682-fd4df4a062de",
   "metadata": {},
   "outputs": [
    {
     "name": "stdout",
     "output_type": "stream",
     "text": [
      "* * * * *  \n",
      "* * * *  \n",
      "* * *  \n",
      "* *  \n",
      "*  \n",
      " \n"
     ]
    }
   ],
   "source": [
    "rows = 5\n",
    "for i in range(rows + 1, 0, -1):\n",
    "    # nested reverse loop\n",
    "    for j in range(0, i - 1):\n",
    "        # display star\n",
    "        print(\"*\", end=' ')\n",
    "    print(\" \")\n",
    "\n"
   ]
  },
  {
   "cell_type": "code",
   "execution_count": 43,
   "id": "09bb5bcc-52fd-4714-b5f6-f83177d68864",
   "metadata": {},
   "outputs": [
    {
     "name": "stdout",
     "output_type": "stream",
     "text": [
      "63\n",
      "126\n",
      "189\n",
      "252\n",
      "315\n",
      "378\n",
      "441\n",
      "504\n",
      "567\n",
      "630\n",
      "693\n",
      "756\n",
      "819\n",
      "882\n",
      "945\n",
      "1008\n",
      "1071\n",
      "1134\n",
      "1197\n",
      "1260\n",
      "1323\n",
      "1386\n",
      "1449\n",
      "1512\n",
      "1575\n",
      "1638\n",
      "1701\n",
      "1764\n",
      "1827\n",
      "1890\n",
      "1953\n",
      "2016\n",
      "2079\n",
      "2142\n",
      "2205\n",
      "2268\n",
      "2331\n",
      "2394\n",
      "2457\n",
      "2520\n",
      "2583\n",
      "2646\n",
      "2709\n",
      "2772\n",
      "2835\n",
      "2898\n",
      "2961\n",
      "3024\n",
      "3087\n",
      "3150\n"
     ]
    }
   ],
   "source": [
    "\n",
    "i = 0  \n",
    "num=1  \n",
    "\n",
    "while i < 50:\n",
    "    if num % 7 == 0 and num % 9 == 0:\n",
    "        print()\n",
    "        i += 1 \n",
    "    num += 1   "
   ]
  },
  {
   "cell_type": "code",
   "execution_count": 44,
   "id": "03baeaef-fc23-4398-8c1e-d6e4472ae86e",
   "metadata": {},
   "outputs": [
    {
     "name": "stdout",
     "output_type": "stream",
     "text": [
      "63\n",
      "126\n",
      "189\n",
      "252\n",
      "315\n",
      "378\n",
      "441\n",
      "504\n",
      "567\n",
      "630\n",
      "693\n",
      "756\n",
      "819\n",
      "882\n",
      "945\n",
      "1008\n",
      "1071\n",
      "1134\n",
      "1197\n",
      "1260\n",
      "1323\n",
      "1386\n",
      "1449\n",
      "1512\n",
      "1575\n",
      "1638\n",
      "1701\n",
      "1764\n",
      "1827\n",
      "1890\n",
      "1953\n",
      "2016\n",
      "2079\n",
      "2142\n",
      "2205\n",
      "2268\n",
      "2331\n",
      "2394\n",
      "2457\n",
      "2520\n",
      "2583\n",
      "2646\n",
      "2709\n",
      "2772\n",
      "2835\n",
      "2898\n",
      "2961\n",
      "3024\n",
      "3087\n",
      "3150\n"
     ]
    }
   ],
   "source": [
    "count = 0  # Initialize a counter to keep track of the numbers found\n",
    "num = 1    # Start checking numbers from 1 onwards\n",
    "\n",
    "while count < 50:\n",
    "    if num % 7 == 0 and num % 9 == 0:\n",
    "        print(num)\n",
    "        count += 1  # Increment the counter when a valid number is found\n",
    "    num += 1      # Move on to the next number\n",
    "\n",
    "# The loop will continue until 50 such numbers are found and printed\n"
   ]
  },
  {
   "cell_type": "code",
   "execution_count": null,
   "id": "4af3d15c-4808-4fd1-9a1b-db52e76785a2",
   "metadata": {},
   "outputs": [],
   "source": []
  }
 ],
 "metadata": {
  "kernelspec": {
   "display_name": "Python 3 (ipykernel)",
   "language": "python",
   "name": "python3"
  },
  "language_info": {
   "codemirror_mode": {
    "name": "ipython",
    "version": 3
   },
   "file_extension": ".py",
   "mimetype": "text/x-python",
   "name": "python",
   "nbconvert_exporter": "python",
   "pygments_lexer": "ipython3",
   "version": "3.10.11"
  }
 },
 "nbformat": 4,
 "nbformat_minor": 5
}
