{
 "cells": [
  {
   "cell_type": "code",
   "execution_count": 1,
   "id": "5444b3c2-fa35-4b6c-b454-10dac2d44709",
   "metadata": {},
   "outputs": [
    {
     "name": "stdout",
     "output_type": "stream",
     "text": [
      "['snack', 'crocodile', 'zebra', 'lion', 'tiger', 'cat']\n"
     ]
    }
   ],
   "source": [
    "#DAY 3 ASSIGNMENT\n",
    "\n",
    "#Q6\n",
    "list1 = [\"cat\",\"tiger\",\"lion\", \"zebra\" , \"crocodile\", \"snack\"]\n",
    "reverselist=[]\n",
    "for i in list1:\n",
    "    reverselist.insert(0,i)\n",
    "print(reverselist)"
   ]
  },
  {
   "cell_type": "code",
   "execution_count": 2,
   "id": "eb324331-8c30-4496-89d3-6fe32bdc7b1a",
   "metadata": {},
   "outputs": [
    {
     "name": "stdout",
     "output_type": "stream",
     "text": [
      "oldlist:  [5, 21, 4, 18, 2, 55, 6, 8, 3, 18, 5, 3, 44]\n",
      "even number list:  [4, 18, 2, 6, 8, 18, 44]\n"
     ]
    }
   ],
   "source": [
    "#Q8\n",
    "list = [5, 21,4,18,2,55,6,8,3,18,5,3,44,]\n",
    "newlist=[i for i in list if i%2==0]\n",
    "print(\"oldlist: \",list)\n",
    "print(\"even number list: \",newlist)"
   ]
  },
  {
   "cell_type": "code",
   "execution_count": 8,
   "id": "7a6ecb72-97ac-4f61-9932-e5e53a3fcaa6",
   "metadata": {},
   "outputs": [
    {
     "name": "stdin",
     "output_type": "stream",
     "text": [
      "enter no. 8\n"
     ]
    },
    {
     "name": "stdout",
     "output_type": "stream",
     "text": [
      "0 1 1 2 3 5 8 "
     ]
    }
   ],
   "source": [
    "#Q12\n",
    "n=int(input(\"enter no.\"))\n",
    "num1=0\n",
    "num2=1\n",
    "print(num1,num2,end=' ')\n",
    "num3=num1+num2\n",
    "for i in range(3,n,1):\n",
    "    print(num3,end=' ')\n",
    "    num1=num2\n",
    "    num2=num3\n",
    "    num3=num1+num2"
   ]
  },
  {
   "cell_type": "code",
   "execution_count": 9,
   "id": "33f7cfe2-e70f-42ab-87ee-5b6ba393b57d",
   "metadata": {},
   "outputs": [
    {
     "name": "stdin",
     "output_type": "stream",
     "text": [
      "enter name: jyoti\n",
      "enter marks: 89\n"
     ]
    },
    {
     "name": "stdout",
     "output_type": "stream",
     "text": [
      "{'jyoti': 89}\n"
     ]
    }
   ],
   "source": [
    "#Q17\n",
    "name=input(\"enter name:\")\n",
    "marks=int(input(\"enter marks:\"))\n",
    "dict={}\n",
    "if(0<=marks<=100):\n",
    "    dict.update({name:marks})\n",
    "    print(dict)\n",
    "else:\n",
    "    raise assertion_error"
   ]
  },
  {
   "cell_type": "code",
   "execution_count": null,
   "id": "db83cf17-23aa-43c6-81c8-6a24fbe796f0",
   "metadata": {},
   "outputs": [],
   "source": []
  }
 ],
 "metadata": {
  "kernelspec": {
   "display_name": "Python 3 (ipykernel)",
   "language": "python",
   "name": "python3"
  },
  "language_info": {
   "codemirror_mode": {
    "name": "ipython",
    "version": 3
   },
   "file_extension": ".py",
   "mimetype": "text/x-python",
   "name": "python",
   "nbconvert_exporter": "python",
   "pygments_lexer": "ipython3",
   "version": "3.10.11"
  }
 },
 "nbformat": 4,
 "nbformat_minor": 5
}
