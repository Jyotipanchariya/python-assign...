{
 "cells": [
  {
   "cell_type": "markdown",
   "id": "8009a1f4-77b4-4e45-b897-dbca8cf949c7",
   "metadata": {},
   "source": [
    "# RECURSION PRIME NUMBER\n"
   ]
  },
  {
   "cell_type": "code",
   "execution_count": 4,
   "id": "aa847ab1-5aa3-4cfa-a25a-31c80c67dd84",
   "metadata": {},
   "outputs": [
    {
     "name": "stdin",
     "output_type": "stream",
     "text": [
      " 23\n"
     ]
    },
    {
     "name": "stdout",
     "output_type": "stream",
     "text": [
      "prime\n"
     ]
    }
   ],
   "source": [
    "def prime(num,x=2):\n",
    "    if(x>num):\n",
    "        return \"not prime\"\n",
    "    elif(x*x>num):\n",
    "            return \"prime\"\n",
    "    elif(num%x==0):\n",
    "            return \"not prime\"\n",
    "\n",
    "    else:\n",
    "        return prime(num,x+1)\n",
    "\n",
    "print(prime(int(input())))"
   ]
  },
  {
   "cell_type": "markdown",
   "id": "123fee1e-4862-4854-b538-b9a8547a8387",
   "metadata": {},
   "source": [
    "# Co prime or not "
   ]
  },
  {
   "cell_type": "code",
   "execution_count": 7,
   "id": "efd1ef14-75d6-4161-8744-c46e6eb6519a",
   "metadata": {},
   "outputs": [
    {
     "data": {
      "text/plain": [
       "'not prime'"
      ]
     },
     "execution_count": 7,
     "metadata": {},
     "output_type": "execute_result"
    }
   ],
   "source": [
    "def coprime(x,y,z=2):\n",
    "    if(z>min(x,y)):\n",
    "        return \"coprime\"\n",
    "\n",
    "    elif(x%z==0 and y%z==0):\n",
    "        return \"not prime\"\n",
    "\n",
    "    else:\n",
    "        return coprime(x,y,z+1)\n",
    "\n",
    "coprime(15,25)\n",
    "    "
   ]
  },
  {
   "cell_type": "code",
   "execution_count": 10,
   "id": "445ca735-def3-45ab-a046-078521c25225",
   "metadata": {},
   "outputs": [
    {
     "name": "stdout",
     "output_type": "stream",
     "text": [
      "40\n"
     ]
    }
   ],
   "source": [
    "def lcm(a,b,c,x=None):\n",
    "    if(x==None):\n",
    "        x=max(a,b,c)\n",
    "\n",
    "    if(x%a==0 and x%b and x%c ==0):\n",
    "        return x\n",
    "    else:\n",
    "        return lcm(a,b,c,x+1)\n",
    "\n",
    "a=20\n",
    "b=32\n",
    "c=2\n",
    "print(lcm(a,b,c))\n",
    "\n",
    "        "
   ]
  },
  {
   "cell_type": "code",
   "execution_count": null,
   "id": "8967a0f2-cce4-46c7-8b1e-15b312c3ff10",
   "metadata": {},
   "outputs": [],
   "source": []
  }
 ],
 "metadata": {
  "kernelspec": {
   "display_name": "Python 3 (ipykernel)",
   "language": "python",
   "name": "python3"
  },
  "language_info": {
   "codemirror_mode": {
    "name": "ipython",
    "version": 3
   },
   "file_extension": ".py",
   "mimetype": "text/x-python",
   "name": "python",
   "nbconvert_exporter": "python",
   "pygments_lexer": "ipython3",
   "version": "3.10.11"
  }
 },
 "nbformat": 4,
 "nbformat_minor": 5
}
