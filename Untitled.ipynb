{
 "cells": [
  {
   "cell_type": "code",
   "execution_count": 1,
   "id": "a34f9753-18fc-4487-9da7-d6f540b78af3",
   "metadata": {},
   "outputs": [
    {
     "name": "stdout",
     "output_type": "stream",
     "text": [
      "2748141797904\n"
     ]
    }
   ],
   "source": [
    "x=10\n",
    "print(id(x))"
   ]
  },
  {
   "cell_type": "code",
   "execution_count": 2,
   "id": "ea65920a-1cc3-467d-84e9-2bc3ec281eff",
   "metadata": {},
   "outputs": [
    {
     "name": "stdout",
     "output_type": "stream",
     "text": [
      "2748141797904\n"
     ]
    }
   ],
   "source": [
    "y=x\n",
    "print(id(y))"
   ]
  },
  {
   "cell_type": "code",
   "execution_count": 3,
   "id": "b44b865c-8f32-491c-8497-1c78b4215c71",
   "metadata": {},
   "outputs": [
    {
     "name": "stdout",
     "output_type": "stream",
     "text": [
      "2748141800464\n"
     ]
    }
   ],
   "source": [
    "x=90\n",
    "print(id(x))"
   ]
  },
  {
   "cell_type": "code",
   "execution_count": 4,
   "id": "a4d0c83a-6aa0-40aa-bfdc-00eab921fa1e",
   "metadata": {},
   "outputs": [
    {
     "data": {
      "text/plain": [
       "'N'"
      ]
     },
     "execution_count": 4,
     "metadata": {},
     "output_type": "execute_result"
    }
   ],
   "source": [
    "state=\"RAJSTHAN\"\n",
    "state[-1]\n"
   ]
  },
  {
   "cell_type": "code",
   "execution_count": 5,
   "id": "c48ede82-0e2e-44f4-b08c-05507fd5e7f0",
   "metadata": {},
   "outputs": [
    {
     "data": {
      "text/plain": [
       "'RAJS'"
      ]
     },
     "execution_count": 5,
     "metadata": {},
     "output_type": "execute_result"
    }
   ],
   "source": [
    "state=\"RAJSTHAN\"\n",
    "state[0:4]\n"
   ]
  },
  {
   "cell_type": "code",
   "execution_count": 8,
   "id": "25492eaa-943b-4999-b0ab-e42248f0fdf8",
   "metadata": {},
   "outputs": [
    {
     "data": {
      "text/plain": [
       "''"
      ]
     },
     "execution_count": 8,
     "metadata": {},
     "output_type": "execute_result"
    }
   ],
   "source": [
    "state=\"RAJSTHAN\"\n",
    "state[2:5:-1]"
   ]
  },
  {
   "cell_type": "code",
   "execution_count": 9,
   "id": "4f66d7fa-305c-42e0-8591-9d4a04d61340",
   "metadata": {},
   "outputs": [
    {
     "data": {
      "text/plain": [
       "'JSTHAN'"
      ]
     },
     "execution_count": 9,
     "metadata": {},
     "output_type": "execute_result"
    }
   ],
   "source": [
    "state=\"RAJSTHAN\"\n",
    "state[2:\n",
    "]"
   ]
  },
  {
   "cell_type": "code",
   "execution_count": 10,
   "id": "cbfe7c89-2321-4e49-89de-0e0799d7f3da",
   "metadata": {},
   "outputs": [
    {
     "data": {
      "text/plain": [
       "'RAJS'"
      ]
     },
     "execution_count": 10,
     "metadata": {},
     "output_type": "execute_result"
    }
   ],
   "source": [
    "state=\"RAJSTHAN\"\n",
    "state[:4]"
   ]
  },
  {
   "cell_type": "code",
   "execution_count": 11,
   "id": "ebd17c15-bf70-4195-a276-31409dd16ead",
   "metadata": {},
   "outputs": [
    {
     "data": {
      "text/plain": [
       "'JTA'"
      ]
     },
     "execution_count": 11,
     "metadata": {},
     "output_type": "execute_result"
    }
   ],
   "source": [
    "\n",
    "state=\"RAJSTHAN\"\n",
    "state[2::2]\n"
   ]
  },
  {
   "cell_type": "code",
   "execution_count": 14,
   "id": "7c09e9dc-38d7-40dc-81b5-30a9e1ff9ad8",
   "metadata": {},
   "outputs": [
    {
     "data": {
      "text/plain": [
       "'NAH'"
      ]
     },
     "execution_count": 14,
     "metadata": {},
     "output_type": "execute_result"
    }
   ],
   "source": [
    "state=\"RAJSTHAN\"\n",
    "state[:4:-1]"
   ]
  },
  {
   "cell_type": "code",
   "execution_count": 15,
   "id": "b8273bd8-ff75-4ab7-bc7f-ff876cdf4840",
   "metadata": {},
   "outputs": [
    {
     "data": {
      "text/plain": [
       "'JTA'"
      ]
     },
     "execution_count": 15,
     "metadata": {},
     "output_type": "execute_result"
    }
   ],
   "source": [
    "state=\"RAJSTHAN\"\n",
    "state[2::2]"
   ]
  },
  {
   "cell_type": "code",
   "execution_count": 16,
   "id": "b8b7c42f-26dc-4aa3-90c4-acecea61b7ed",
   "metadata": {},
   "outputs": [
    {
     "data": {
      "text/plain": [
       "6"
      ]
     },
     "execution_count": 16,
     "metadata": {},
     "output_type": "execute_result"
    }
   ],
   "source": [
    "20//3\n",
    "\n"
   ]
  },
  {
   "cell_type": "code",
   "execution_count": 17,
   "id": "a9e44397-20a0-4d8e-aeda-457ba2badeaa",
   "metadata": {},
   "outputs": [
    {
     "data": {
      "text/plain": [
       "'JTA'"
      ]
     },
     "execution_count": 17,
     "metadata": {},
     "output_type": "execute_result"
    }
   ],
   "source": [
    "state=\"RAJSTHAN\"\n",
    "state[2::2]"
   ]
  },
  {
   "cell_type": "code",
   "execution_count": 18,
   "id": "e5325cfb-57fc-4acd-a81c-bda239ae3336",
   "metadata": {},
   "outputs": [
    {
     "data": {
      "text/plain": [
       "2"
      ]
     },
     "execution_count": 18,
     "metadata": {},
     "output_type": "execute_result"
    }
   ],
   "source": [
    "20%3"
   ]
  },
  {
   "cell_type": "code",
   "execution_count": 19,
   "id": "bea4cf49-5a9f-4918-80d7-9b53847176ae",
   "metadata": {},
   "outputs": [
    {
     "data": {
      "text/plain": [
       "1"
      ]
     },
     "execution_count": 19,
     "metadata": {},
     "output_type": "execute_result"
    }
   ],
   "source": [
    "2^3"
   ]
  },
  {
   "cell_type": "code",
   "execution_count": 20,
   "id": "2fd0eb06-b9e9-4391-a494-9f8f913e7a4a",
   "metadata": {},
   "outputs": [
    {
     "data": {
      "text/plain": [
       "6"
      ]
     },
     "execution_count": 20,
     "metadata": {},
     "output_type": "execute_result"
    }
   ],
   "source": [
    "2*3"
   ]
  },
  {
   "cell_type": "code",
   "execution_count": 21,
   "id": "a506bda0-135c-4532-a7ed-f4b98f4f05a3",
   "metadata": {},
   "outputs": [
    {
     "data": {
      "text/plain": [
       "8"
      ]
     },
     "execution_count": 21,
     "metadata": {},
     "output_type": "execute_result"
    }
   ],
   "source": [
    "2**3"
   ]
  },
  {
   "cell_type": "code",
   "execution_count": null,
   "id": "1cf695f8-5826-4f03-ab4e-61db1daa7059",
   "metadata": {},
   "outputs": [],
   "source": [
    "10+2-5"
   ]
  }
 ],
 "metadata": {
  "kernelspec": {
   "display_name": "Python 3 (ipykernel)",
   "language": "python",
   "name": "python3"
  },
  "language_info": {
   "codemirror_mode": {
    "name": "ipython",
    "version": 3
   },
   "file_extension": ".py",
   "mimetype": "text/x-python",
   "name": "python",
   "nbconvert_exporter": "python",
   "pygments_lexer": "ipython3",
   "version": "3.10.11"
  }
 },
 "nbformat": 4,
 "nbformat_minor": 5
}
