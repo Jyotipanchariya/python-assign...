{
 "cells": [
  {
   "cell_type": "code",
   "execution_count": 1,
   "id": "b9b55f15-e6e0-40f7-87ad-ccbf496564b6",
   "metadata": {},
   "outputs": [
    {
     "data": {
      "text/plain": [
       "['__add__',\n",
       " '__class__',\n",
       " '__contains__',\n",
       " '__delattr__',\n",
       " '__dir__',\n",
       " '__doc__',\n",
       " '__eq__',\n",
       " '__format__',\n",
       " '__ge__',\n",
       " '__getattribute__',\n",
       " '__getitem__',\n",
       " '__getnewargs__',\n",
       " '__gt__',\n",
       " '__hash__',\n",
       " '__init__',\n",
       " '__init_subclass__',\n",
       " '__iter__',\n",
       " '__le__',\n",
       " '__len__',\n",
       " '__lt__',\n",
       " '__mod__',\n",
       " '__mul__',\n",
       " '__ne__',\n",
       " '__new__',\n",
       " '__reduce__',\n",
       " '__reduce_ex__',\n",
       " '__repr__',\n",
       " '__rmod__',\n",
       " '__rmul__',\n",
       " '__setattr__',\n",
       " '__sizeof__',\n",
       " '__str__',\n",
       " '__subclasshook__',\n",
       " 'capitalize',\n",
       " 'casefold',\n",
       " 'center',\n",
       " 'count',\n",
       " 'encode',\n",
       " 'endswith',\n",
       " 'expandtabs',\n",
       " 'find',\n",
       " 'format',\n",
       " 'format_map',\n",
       " 'index',\n",
       " 'isalnum',\n",
       " 'isalpha',\n",
       " 'isascii',\n",
       " 'isdecimal',\n",
       " 'isdigit',\n",
       " 'isidentifier',\n",
       " 'islower',\n",
       " 'isnumeric',\n",
       " 'isprintable',\n",
       " 'isspace',\n",
       " 'istitle',\n",
       " 'isupper',\n",
       " 'join',\n",
       " 'ljust',\n",
       " 'lower',\n",
       " 'lstrip',\n",
       " 'maketrans',\n",
       " 'partition',\n",
       " 'removeprefix',\n",
       " 'removesuffix',\n",
       " 'replace',\n",
       " 'rfind',\n",
       " 'rindex',\n",
       " 'rjust',\n",
       " 'rpartition',\n",
       " 'rsplit',\n",
       " 'rstrip',\n",
       " 'split',\n",
       " 'splitlines',\n",
       " 'startswith',\n",
       " 'strip',\n",
       " 'swapcase',\n",
       " 'title',\n",
       " 'translate',\n",
       " 'upper',\n",
       " 'zfill']"
      ]
     },
     "execution_count": 1,
     "metadata": {},
     "output_type": "execute_result"
    }
   ],
   "source": [
    "dir(\"hey\")"
   ]
  },
  {
   "cell_type": "code",
   "execution_count": 2,
   "id": "d3412319-7555-4e0c-8637-60f59ecd3737",
   "metadata": {},
   "outputs": [
    {
     "name": "stdin",
     "output_type": "stream",
     "text": [
      "enter string string\n"
     ]
    },
    {
     "name": "stdout",
     "output_type": "stream",
     "text": [
      "s\n",
      "t\n",
      "r\n",
      "i\n",
      "n\n",
      "g\n"
     ]
    }
   ],
   "source": [
    "x = input(\"enter string\")\n",
    "count=0\n",
    "for i in x:\n",
    "    count+=1\n",
    "    print(i)\n",
    "\n",
    "print(count)"
   ]
  },
  {
   "cell_type": "code",
   "execution_count": 3,
   "id": "6aa13037-6b2d-460d-a2bb-5a2b15b7e0c7",
   "metadata": {},
   "outputs": [
    {
     "name": "stdin",
     "output_type": "stream",
     "text": [
      "enter the string hi hello\n"
     ]
    },
    {
     "name": "stdout",
     "output_type": "stream",
     "text": [
      "hi\n",
      "hello\n",
      "2\n"
     ]
    }
   ],
   "source": [
    "x= input(\"enter the string\")\n",
    "count=0\n",
    "for i in x.split(\" \"):\n",
    "    count+=1\n",
    "    print(i)\n",
    "\n",
    "print(count)"
   ]
  },
  {
   "cell_type": "code",
   "execution_count": 6,
   "id": "a8710bbf-70a3-41b3-b013-eef9fe1f1781",
   "metadata": {},
   "outputs": [
    {
     "name": "stdout",
     "output_type": "stream",
     "text": [
      "pallidrome\n"
     ]
    }
   ],
   "source": [
    "#to find the pallindrome\n",
    "x=\"aba\"\n",
    "x[::-1]\n",
    "if (x==x[::-1]):\n",
    "    print(\"pallidrome\")"
   ]
  },
  {
   "cell_type": "code",
   "execution_count": 13,
   "id": "b5c5c7a5-ce4b-4704-a9bd-0060aef768ed",
   "metadata": {},
   "outputs": [],
   "source": [
    "def pallindrome_check(data):\n",
    "    n=len(data)\n",
    "    mid=n/2+1\n",
    "    \n",
    "\n",
    "pallindrome_check(\"abcba\")\n",
    "    "
   ]
  },
  {
   "cell_type": "code",
   "execution_count": 14,
   "id": "edd7ffc3-00c7-4fbb-bd48-3b177764ff1c",
   "metadata": {},
   "outputs": [],
   "source": [
    "def pallindrome_check(data):\n",
    "    n=len(data)\n",
    "    mid=n/2+1\n",
    "    start=0\n",
    "    end=\n",
    "    \n",
    "\n",
    "pallindrome_check(\"abcba\")"
   ]
  },
  {
   "cell_type": "code",
   "execution_count": 15,
   "id": "ad0d787b-e087-4e7c-b96f-4d472f22a911",
   "metadata": {},
   "outputs": [],
   "source": [
    "def pallidrome_check(data):\n",
    "    n=len(data)\n",
    "\n",
    "pallidrome_check(\"abcba\")"
   ]
  },
  {
   "cell_type": "code",
   "execution_count": 1,
   "id": "c6372156-fdfe-4baa-a526-26cf2fd11eff",
   "metadata": {},
   "outputs": [
    {
     "name": "stdout",
     "output_type": "stream",
     "text": [
      "not\n"
     ]
    }
   ],
   "source": [
    "def pallidrome_chk(data):\n",
    "    mid = (len(data)-1)//2\n",
    "    start=0\n",
    "    last=len(data)-1\n",
    "    flag =0\n",
    "    while(start<=mid):\n",
    "\n",
    "        if(data[start]==data[last]):\n",
    "            start+=1\n",
    "            last-=1\n",
    "\n",
    "        else:\n",
    "            flag=1\n",
    "            break;\n",
    "\n",
    "    if flag==0:\n",
    "        print(\"pallidrome\")\n",
    "\n",
    "    else:\n",
    "        print(\"not\")\n",
    "\n",
    "pallidrome_chk(\"sars\")\n",
    "           \n",
    "    "
   ]
  },
  {
   "cell_type": "code",
   "execution_count": 3,
   "id": "d39f9f8b-9e42-4306-ac80-e830ee94db62",
   "metadata": {},
   "outputs": [
    {
     "name": "stdout",
     "output_type": "stream",
     "text": [
      "6\n"
     ]
    }
   ],
   "source": [
    "def symmetric_check(data):\n",
    "   print(len(data))\n",
    "\n",
    "symmetric_check(\"abcdef\")"
   ]
  },
  {
   "cell_type": "code",
   "execution_count": 9,
   "id": "f769ebc0-076c-4fa0-8467-788749f61fce",
   "metadata": {},
   "outputs": [
    {
     "name": "stdout",
     "output_type": "stream",
     "text": [
      "6\n",
      "3\n"
     ]
    }
   ],
   "source": [
    "def symmetric_chk(data):\n",
    "    n=len(data)\n",
    "    start=0\n",
    "    x=None\n",
    "    \n",
    "    if n%2:\n",
    "        middle=n//2+1\n",
    "\n",
    "    else:\n",
    "        middle=n//2\n",
    "    print(len(data))\n",
    "    print(middle)\n",
    "\n",
    "symmetric_chk(\"abcdef\")"
   ]
  },
  {
   "cell_type": "code",
   "execution_count": null,
   "id": "819b4c8e-057d-4c23-a0ea-595ee7039e04",
   "metadata": {},
   "outputs": [],
   "source": []
  }
 ],
 "metadata": {
  "kernelspec": {
   "display_name": "Python 3 (ipykernel)",
   "language": "python",
   "name": "python3"
  },
  "language_info": {
   "codemirror_mode": {
    "name": "ipython",
    "version": 3
   },
   "file_extension": ".py",
   "mimetype": "text/x-python",
   "name": "python",
   "nbconvert_exporter": "python",
   "pygments_lexer": "ipython3",
   "version": "3.10.11"
  }
 },
 "nbformat": 4,
 "nbformat_minor": 5
}
