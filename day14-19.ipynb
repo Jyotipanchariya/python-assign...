{
 "cells": [
  {
   "cell_type": "code",
   "execution_count": 5,
   "id": "aaf4e9ca-7c41-469e-a376-9111e3828c0f",
   "metadata": {},
   "outputs": [
    {
     "name": "stdin",
     "output_type": "stream",
     "text": [
      "Enter yout age: 78\n"
     ]
    },
    {
     "name": "stdout",
     "output_type": "stream",
     "text": [
      "your age is : 78\n",
      "you can drive\n",
      "yay\n"
     ]
    }
   ],
   "source": [
    "#if else condition\n",
    "a=int(input(\"Enter yout age:\"))\n",
    "print(\"your age is :\",a)\n",
    "\n",
    "if(a>18):\n",
    "    print(\"you can drive\")\n",
    "\n",
    "else:\n",
    "    print(\"you cannot drive\")\n",
    "\n",
    "print(\"yay\")"
   ]
  },
  {
   "cell_type": "code",
   "execution_count": 6,
   "id": "b121c7d0-6021-4846-8d41-46e955beb4f5",
   "metadata": {},
   "outputs": [
    {
     "name": "stdout",
     "output_type": "stream",
     "text": [
      "Alexa, do not add Apples to the cart.\n"
     ]
    }
   ],
   "source": [
    "applePrice=210\n",
    "budget=200\n",
    "if(applePrice<=budget):\n",
    "    print(\"Alexa,add 1 kg Apples to the cart.\")\n",
    "\n",
    "else:\n",
    "    print(\"Alexa, do not add Apples to the cart.\")"
   ]
  },
  {
   "cell_type": "code",
   "execution_count": 7,
   "id": "97456c78-0f97-4022-9c66-eaf9070e062b",
   "metadata": {},
   "outputs": [
    {
     "name": "stdout",
     "output_type": "stream",
     "text": [
      "Alexa,add 1 kg Apples to the cart.\n"
     ]
    }
   ],
   "source": [
    "applePrice=10\n",
    "budget=200\n",
    "if(budget - applePrice>50):\n",
    "    print(\"Alexa,add 1 kg Apples to the cart.\")\n",
    "elif(budget - applePrice>70):\n",
    "    print(\"Its okay you can buy\")\n",
    "    \n",
    "else:\n",
    "    print(\"Alexa, do not add Apples to the cart.\")"
   ]
  },
  {
   "cell_type": "code",
   "execution_count": 18,
   "id": "97bce81e-ea81-4a32-9c55-a32b1d9a9487",
   "metadata": {},
   "outputs": [
    {
     "name": "stdin",
     "output_type": "stream",
     "text": [
      "enter the value of num: 9888\n"
     ]
    },
    {
     "name": "stdout",
     "output_type": "stream",
     "text": [
      "num is positive\n",
      "I am happy\n"
     ]
    }
   ],
   "source": [
    "num = int(input(\"enter the value of num:\"))\n",
    "if(num<0):\n",
    "    print(\"num is negative\")\n",
    "\n",
    "elif(num==0):\n",
    "    print(\"num is zero\")\n",
    "\n",
    "elif(num==999):\n",
    "    print(\"num is special\")\n",
    "\n",
    "else:\n",
    "    print(\"num is positive\")\n",
    "\n",
    "print(\"I am happy\")"
   ]
  },
  {
   "cell_type": "code",
   "execution_count": 19,
   "id": "45b656d6-c847-4284-980b-1b002031bad2",
   "metadata": {},
   "outputs": [
    {
     "name": "stdout",
     "output_type": "stream",
     "text": [
      "num is between 11-20\n"
     ]
    }
   ],
   "source": [
    "num=18\n",
    "if(num<0):\n",
    "    print(\"num is negative\")\n",
    "\n",
    "elif(num>0):\n",
    "    if(num <= 10):\n",
    "        print(\"num is between is 1-10\")\n",
    "    elif(num>10 and num<=20):\n",
    "        print(\"num is between 11-20\")\n",
    "\n",
    "    else:\n",
    "        print(\"num is greater than 20\")\n",
    "\n",
    "else:\n",
    "    print(\"num is zero\")\n",
    "    "
   ]
  },
  {
   "cell_type": "code",
   "execution_count": 21,
   "id": "8c166e59-a148-42fc-8412-0c34d85aa249",
   "metadata": {},
   "outputs": [
    {
     "name": "stdout",
     "output_type": "stream",
     "text": [
      "10:52:51\n",
      "10\n",
      "52\n",
      "51\n"
     ]
    }
   ],
   "source": [
    "import time\n",
    "timestamp=time.strftime('%H:%M:%S')\n",
    "print(timestamp)\n",
    "timestamp=time.strftime('%H')\n",
    "print(timestamp)\n",
    "timestamp=time.strftime('%M')\n",
    "print(timestamp)\n",
    "timestamp=time.strftime('%S')\n",
    "print(timestamp)\n"
   ]
  },
  {
   "cell_type": "code",
   "execution_count": 27,
   "id": "f7c3b89b-f1bd-493b-a7a5-2dfa69fe95fe",
   "metadata": {},
   "outputs": [
    {
     "name": "stdout",
     "output_type": "stream",
     "text": [
      "A\n",
      "B\n",
      "this is something special\n",
      "H\n",
      "I\n",
      "S\n",
      "H\n",
      "E\n",
      "K\n"
     ]
    }
   ],
   "source": [
    "#Loops in pyhton 1. FOR LOOP\n",
    "\n",
    "name=\"ABHISHEK\"\n",
    "for i in name:\n",
    "    print(i)\n",
    "    if(i==\"B\"):\n",
    "        print(\"this is something special\")\n",
    "    "
   ]
  },
  {
   "cell_type": "code",
   "execution_count": 28,
   "id": "9f3fc397-ca73-45cf-93b8-ecfc20c8644e",
   "metadata": {},
   "outputs": [
    {
     "name": "stdout",
     "output_type": "stream",
     "text": [
      "Red\n",
      "Green\n",
      "Blue\n",
      "yellow\n"
     ]
    }
   ],
   "source": [
    "colors=[\"Red\",\"Green\",\"Blue\",\"yellow\"]\n",
    "for color in colors:\n",
    "    print(color)"
   ]
  },
  {
   "cell_type": "code",
   "execution_count": 29,
   "id": "985ffb87-94c7-4c85-956b-81c44cc6dd1e",
   "metadata": {},
   "outputs": [
    {
     "name": "stdout",
     "output_type": "stream",
     "text": [
      "Red\n",
      "R\n",
      "e\n",
      "d\n",
      "Green\n",
      "G\n",
      "r\n",
      "e\n",
      "e\n",
      "n\n",
      "Blue\n",
      "B\n",
      "l\n",
      "u\n",
      "e\n",
      "yellow\n",
      "y\n",
      "e\n",
      "l\n",
      "l\n",
      "o\n",
      "w\n"
     ]
    }
   ],
   "source": [
    "colors=[\"Red\",\"Green\",\"Blue\",\"yellow\"]\n",
    "for color in colors:\n",
    "    print(color)\n",
    "    for i in color:\n",
    "        print(i)"
   ]
  },
  {
   "cell_type": "code",
   "execution_count": 31,
   "id": "bec10129-ecfa-4a4f-b5f4-d3d29ad47aa8",
   "metadata": {},
   "outputs": [
    {
     "name": "stdout",
     "output_type": "stream",
     "text": [
      "1\n",
      "2\n",
      "3\n",
      "4\n",
      "5\n"
     ]
    }
   ],
   "source": [
    "for k in range(5):\n",
    "    print(k+1)"
   ]
  },
  {
   "cell_type": "code",
   "execution_count": 32,
   "id": "64ba8bef-c32e-48bb-80bc-659aff2daa96",
   "metadata": {},
   "outputs": [
    {
     "name": "stdout",
     "output_type": "stream",
     "text": [
      "1\n",
      "2\n",
      "3\n",
      "4\n",
      "5\n",
      "6\n",
      "7\n",
      "8\n"
     ]
    }
   ],
   "source": [
    "for i in range(1,9):\n",
    "    print(i)"
   ]
  },
  {
   "cell_type": "code",
   "execution_count": 33,
   "id": "68e3cce1-0bef-4634-b564-1f5b4a1d9376",
   "metadata": {},
   "outputs": [
    {
     "name": "stdout",
     "output_type": "stream",
     "text": [
      "1\n",
      "4\n",
      "7\n",
      "10\n"
     ]
    }
   ],
   "source": [
    "for i in  range(1,12,3):\n",
    "    print(i)"
   ]
  },
  {
   "cell_type": "code",
   "execution_count": 36,
   "id": "d783856c-55fd-43a9-a65b-41a8053ed18c",
   "metadata": {},
   "outputs": [
    {
     "name": "stdin",
     "output_type": "stream",
     "text": [
      "Enter the number: 5\n",
      "Enter the number: 54\n"
     ]
    },
    {
     "name": "stdout",
     "output_type": "stream",
     "text": [
      "54\n",
      "DONE WITH THE LOOP\n"
     ]
    }
   ],
   "source": [
    "i=int(input(\"Enter the number:\"))\n",
    "while(i<=38):\n",
    "    i=int(input(\"Enter the number:\"))\n",
    "    print(i)\n",
    "\n",
    "print(\"DONE WITH THE LOOP\")"
   ]
  },
  {
   "cell_type": "code",
   "execution_count": 37,
   "id": "0f4b4ac9-e380-4853-90db-3bb8b5e1ca36",
   "metadata": {},
   "outputs": [
    {
     "name": "stdout",
     "output_type": "stream",
     "text": [
      "5\n",
      "4\n",
      "3\n",
      "2\n",
      "1\n"
     ]
    }
   ],
   "source": [
    "count =5\n",
    "while(count>0):\n",
    "    print(count)\n",
    "    count=count-1"
   ]
  },
  {
   "cell_type": "code",
   "execution_count": 42,
   "id": "e9c31a56-a73b-4051-9ca4-c9f4ae073546",
   "metadata": {},
   "outputs": [
    {
     "name": "stdout",
     "output_type": "stream",
     "text": [
      "5\n",
      "4\n",
      "3\n",
      "2\n",
      "1\n",
      "i am inside else\n"
     ]
    }
   ],
   "source": [
    "count =5\n",
    "while(count>0):\n",
    "    print(count)\n",
    "    count=count-1\n",
    "else:\n",
    "    print(\"i am inside else\")"
   ]
  },
  {
   "cell_type": "code",
   "execution_count": 49,
   "id": "1b8a4baf-ff53-44ff-b279-debe506956b1",
   "metadata": {},
   "outputs": [
    {
     "name": "stdin",
     "output_type": "stream",
     "text": [
      "Enter the percentage 90\n"
     ]
    },
    {
     "name": "stdout",
     "output_type": "stream",
     "text": [
      "CONGO\n",
      "you are awarded certificate of excellence\n"
     ]
    }
   ],
   "source": [
    "percent=int(input(\"Enter the percentage\"))\n",
    "if percent>80:\n",
    "    print(\"CONGO\")\n",
    "    print(\"you are awarded certificate of excellence\")\n",
    "else:\n",
    "    print(\"not awarded certificate\")\n",
    "\n"
   ]
  },
  {
   "cell_type": "code",
   "execution_count": 52,
   "id": "48c18be9-6a92-4d17-b305-b47cde9b2f98",
   "metadata": {},
   "outputs": [
    {
     "name": "stdout",
     "output_type": "stream",
     "text": [
      "a is greater than b\n"
     ]
    }
   ],
   "source": [
    "a=789\n",
    "b=90\n",
    "if(a>b):\n",
    "    print(\"a is greater than b\")\n",
    "\n",
    "else:\n",
    "    print(\"b is greater than a\")"
   ]
  },
  {
   "cell_type": "code",
   "execution_count": 53,
   "id": "21a4e900-234b-4800-aa28-6c9e9d658739",
   "metadata": {},
   "outputs": [
    {
     "name": "stdin",
     "output_type": "stream",
     "text": [
      "Enter the value of a 39\n",
      "Enter the value of b 93\n"
     ]
    },
    {
     "name": "stdout",
     "output_type": "stream",
     "text": [
      "b is greater than a\n"
     ]
    }
   ],
   "source": [
    "a=int(input(\"Enter the value of a\"))\n",
    "b=int(input(\"Enter the value of b\"))\n",
    "if(a>b):\n",
    "    print(\"a is greater than b\")\n",
    "\n",
    "else:\n",
    "    print(\"b is greater than a\")\n",
    "\n",
    "      "
   ]
  },
  {
   "cell_type": "code",
   "execution_count": 3,
   "id": "bb82efd2-1559-4d46-b28b-23f126b5932b",
   "metadata": {},
   "outputs": [
    {
     "name": "stdin",
     "output_type": "stream",
     "text": [
      "Enter the value of a 90\n"
     ]
    },
    {
     "name": "stdout",
     "output_type": "stream",
     "text": [
      "90 is even\n"
     ]
    }
   ],
   "source": [
    "a=int(input(\"Enter the value of a\"))\n",
    "\n",
    "if a%2==0:\n",
    "    print(a,\"is even\")\n",
    "else:\n",
    "    print(b,\"is odd\")\n"
   ]
  },
  {
   "cell_type": "code",
   "execution_count": 6,
   "id": "b1766e71-b223-4632-8d41-39e4602ee0e2",
   "metadata": {},
   "outputs": [
    {
     "name": "stdin",
     "output_type": "stream",
     "text": [
      "enter a number: -9\n"
     ]
    },
    {
     "name": "stdout",
     "output_type": "stream",
     "text": [
      "negative\n"
     ]
    }
   ],
   "source": [
    "num=int(input(\"enter a number:\"))\n",
    "if num==0:\n",
    "    print(\"zero\")\n",
    "\n",
    "elif num>0:\n",
    "    print(\"positive\")\n",
    "\n",
    "else:\n",
    "    print(\"negative\")"
   ]
  },
  {
   "cell_type": "code",
   "execution_count": 13,
   "id": "72b9b742-e677-4df1-a1b1-fbb725829ec2",
   "metadata": {},
   "outputs": [
    {
     "name": "stdin",
     "output_type": "stream",
     "text": [
      "enter billing amount:  78000\n",
      "Gender: m\n"
     ]
    },
    {
     "name": "stdout",
     "output_type": "stream",
     "text": [
      "amount after 10% discount is:  70200.0\n"
     ]
    }
   ],
   "source": [
    "amount=int(input(\"enter billing amount: \"))\n",
    "gender=input(\"Gender:\")\n",
    "if amount>10000:\n",
    "    if gender=='f':\n",
    "        print(\"amount after 15% discount is: \", amount-(0.15*amount))\n",
    "    else:\n",
    "        print(\"amount after 10% discount is: \", amount-(0.10*amount))\n",
    "\n",
    "else:\n",
    "    print(\"sorry! no discount\")\n",
    "    \n",
    "    "
   ]
  },
  {
   "cell_type": "code",
   "execution_count": 16,
   "id": "5d6f62e3-e0d9-45ea-b872-927cbf522d92",
   "metadata": {},
   "outputs": [
    {
     "name": "stdin",
     "output_type": "stream",
     "text": [
      "enter the number 89\n"
     ]
    },
    {
     "name": "stdout",
     "output_type": "stream",
     "text": [
      "89  is not multiple of 5\n"
     ]
    }
   ],
   "source": [
    "num=int(input(\"enter the number\"))\n",
    "if num>0:\n",
    "    if num%5==0:\n",
    "        print(num,\"is multiple of 5\")\n",
    "    else:\n",
    "        print(num,\" is not multiple of 5\")\n",
    "\n",
    "else:\n",
    "    print(\"invalid num\")"
   ]
  },
  {
   "cell_type": "code",
   "execution_count": 17,
   "id": "5315775b-1a61-4375-bfee-ed90cbcdb4ae",
   "metadata": {},
   "outputs": [
    {
     "name": "stdout",
     "output_type": "stream",
     "text": [
      "1\n",
      "2\n",
      "3\n"
     ]
    }
   ],
   "source": [
    "print(1)\n",
    "print(2)\n",
    "print(3)"
   ]
  },
  {
   "cell_type": "code",
   "execution_count": 23,
   "id": "38cb9294-0337-4624-8d7a-42a326072b47",
   "metadata": {},
   "outputs": [
    {
     "name": "stdout",
     "output_type": "stream",
     "text": [
      "0\n",
      "1\n",
      "2\n",
      "3\n",
      "4\n",
      "5\n",
      "6\n",
      "7\n"
     ]
    }
   ],
   "source": [
    "for num in range (0,8):\n",
    "    print(num)\n",
    "    "
   ]
  },
  {
   "cell_type": "code",
   "execution_count": 9,
   "id": "737ab5ae-9c69-4131-853f-5c373627d7c2",
   "metadata": {},
   "outputs": [
    {
     "name": "stdout",
     "output_type": "stream",
     "text": [
      "sum is  28\n"
     ]
    }
   ],
   "source": [
    "num=1\n",
    "sum=0\n",
    "while num<8:\n",
    "    sum=sum+num\n",
    "    num=num+1\n",
    "\n",
    "print(\"sum is \" , sum)"
   ]
  },
  {
   "cell_type": "code",
   "execution_count": null,
   "id": "bc4c8584-f471-4a1b-9177-d7adb682b20f",
   "metadata": {},
   "outputs": [],
   "source": []
  }
 ],
 "metadata": {
  "kernelspec": {
   "display_name": "Python 3 (ipykernel)",
   "language": "python",
   "name": "python3"
  },
  "language_info": {
   "codemirror_mode": {
    "name": "ipython",
    "version": 3
   },
   "file_extension": ".py",
   "mimetype": "text/x-python",
   "name": "python",
   "nbconvert_exporter": "python",
   "pygments_lexer": "ipython3",
   "version": "3.10.11"
  }
 },
 "nbformat": 4,
 "nbformat_minor": 5
}
