{
 "cells": [
  {
   "cell_type": "markdown",
   "id": "658e8599",
   "metadata": {},
   "source": [
    "# loops"
   ]
  },
  {
   "cell_type": "code",
   "execution_count": 1,
   "id": "c747c54a",
   "metadata": {},
   "outputs": [
    {
     "name": "stdout",
     "output_type": "stream",
     "text": [
      "0\n",
      "1\n",
      "2\n",
      "3\n",
      "4\n"
     ]
    }
   ],
   "source": [
    "# 1.for loop\n",
    "# method 1\n",
    "for i in range(5):\n",
    "    print(i)"
   ]
  },
  {
   "cell_type": "code",
   "execution_count": 2,
   "id": "1d8a8159",
   "metadata": {},
   "outputs": [
    {
     "name": "stdout",
     "output_type": "stream",
     "text": [
      "1\n",
      "4\n",
      "7\n"
     ]
    }
   ],
   "source": [
    "# method 2\n",
    "for i in range(1,10,3):\n",
    "    print(i)"
   ]
  },
  {
   "cell_type": "code",
   "execution_count": 3,
   "id": "561e0050",
   "metadata": {},
   "outputs": [
    {
     "name": "stdout",
     "output_type": "stream",
     "text": [
      "Hello sam"
     ]
    }
   ],
   "source": [
    "# method1\n",
    "a='Hello sam'\n",
    "for i in a:\n",
    "    print(i,end=\"\")"
   ]
  },
  {
   "cell_type": "markdown",
   "id": "35dd8ed9",
   "metadata": {},
   "source": [
    "# 2. while loop"
   ]
  },
  {
   "cell_type": "code",
   "execution_count": 5,
   "id": "2fc8d4d7",
   "metadata": {},
   "outputs": [
    {
     "name": "stdout",
     "output_type": "stream",
     "text": [
      "1\n",
      "2\n",
      "3\n",
      "4\n",
      "5\n",
      "6\n",
      "7\n",
      "8\n",
      "9\n",
      "10\n"
     ]
    }
   ],
   "source": [
    "#write a program who print from 1 to 10\n",
    "\n",
    "i=1   #starting value\n",
    "n=10   #last value\n",
    " while(i<=n):  #condtion\n",
    "    print(i)\n",
    "    i=i+1  #increment"
   ]
  },
  {
   "cell_type": "code",
   "execution_count": 2,
   "id": "f71bd3d1",
   "metadata": {},
   "outputs": [
    {
     "name": "stdout",
     "output_type": "stream",
     "text": [
      "enter your number1\n",
      "enter your second number10\n",
      "enter difference2\n",
      "1\n",
      "3\n",
      "5\n",
      "7\n",
      "9\n"
     ]
    }
   ],
   "source": [
    "# write a program to print from 1 to 10 and our 3\n",
    "\n",
    "a=int(input(\"enter your number\"))\n",
    "n=int(input(\"enter your second number\"))\n",
    "y=int(input(\"enter difference\"))\n",
    "while(a<=n):\n",
    "    print(a)\n",
    "    a=a+y"
   ]
  },
  {
   "cell_type": "code",
   "execution_count": 10,
   "id": "a2c80f3a",
   "metadata": {},
   "outputs": [
    {
     "name": "stdout",
     "output_type": "stream",
     "text": [
      "enter your number:1\n",
      "enter your number:5\n",
      "Addition = 55\n"
     ]
    }
   ],
   "source": [
    "#write a program to find sum of square from 1 to n?\n",
    "\n",
    "i=int(input(\"enter your number:\"))\n",
    "n=int(input(\"enter your number:\"))\n",
    "sum=0\n",
    "while(i<=n):\n",
    "    sum= sum+(i*i)\n",
    "    i= i+1\n",
    "print(\"Addition =\", sum)"
   ]
  },
  {
   "cell_type": "code",
   "execution_count": 12,
   "id": "a28eef03",
   "metadata": {},
   "outputs": [
    {
     "name": "stdout",
     "output_type": "stream",
     "text": [
      "enter your first number:2\n",
      "enter last number:5\n",
      "2\n",
      "4\n"
     ]
    }
   ],
   "source": [
    "# write a program to print only even numbers between 2 to n?\n",
    "i=int(input(\"enter your first number:\"))\n",
    "n=int(input(\"enter last number:\"))\n",
    "while(i<=n):\n",
    "    print(i)\n",
    "    i=i+2\n"
   ]
  },
  {
   "cell_type": "code",
   "execution_count": 14,
   "id": "d4d1122b",
   "metadata": {},
   "outputs": [
    {
     "name": "stdout",
     "output_type": "stream",
     "text": [
      "enter the number:1\n",
      "enter your second number:10\n",
      "sum of even number=  30\n"
     ]
    }
   ],
   "source": [
    "# write a program to find sum of even numbers from 1 to n\n",
    "\n",
    "i=int(input(\"enter the number:\"))\n",
    "n=int(input(\"enter your second number:\"))\n",
    "sum=0\n",
    "while(i<=n):\n",
    "    if(i%2==0):\n",
    "        sum = sum+i\n",
    "    i=i+1\n",
    "    \n",
    "print(\"sum of even number= \", sum)\n",
    "    "
   ]
  },
  {
   "cell_type": "code",
   "execution_count": 16,
   "id": "404f2b7b",
   "metadata": {},
   "outputs": [
    {
     "name": "stdout",
     "output_type": "stream",
     "text": [
      "enter yor number:123\n",
      "sum pf digits= 6\n"
     ]
    }
   ],
   "source": [
    "# write a program to find sum of digits of a given numbers?\n",
    " \n",
    "i=int(input(\"enter yor number:\"))\n",
    "sum=0\n",
    "while(i>0):\n",
    "    sum=sum+(i%10)\n",
    "    i=i//10\n",
    "print(\"sum pf digits=\" , sum)"
   ]
  },
  {
   "cell_type": "code",
   "execution_count": 2,
   "id": "c629b349",
   "metadata": {},
   "outputs": [
    {
     "name": "stdout",
     "output_type": "stream",
     "text": [
      "enter number:123\n",
      "Sum of square of each digits = 14\n"
     ]
    }
   ],
   "source": [
    "# write a program to find sum of square of digits of a given numbers?\n",
    "\n",
    "i=int(input(\"enter number:\"))\n",
    "sum=0\n",
    "while(i>0):\n",
    "    sum = sum+(i%10)*(i%10)\n",
    "    i=i//10\n",
    "print(\"Sum of square of each digits =\" , sum)"
   ]
  },
  {
   "cell_type": "code",
   "execution_count": 4,
   "id": "d1e1a92d",
   "metadata": {},
   "outputs": [
    {
     "name": "stdout",
     "output_type": "stream",
     "text": [
      "enter number:123\n",
      "Sum of cube of each digits = 36\n"
     ]
    }
   ],
   "source": [
    "# write a program to find sum of cube of digits of a given number?\n",
    "i=int(input(\"enter number:\"))\n",
    "sum=0\n",
    "while(i>0):\n",
    "    sum = sum+(i%10)*(i%10)*(i%10)\n",
    "    i=i//10\n",
    "print(\"Sum of cube of each digits =\" , sum)"
   ]
  },
  {
   "cell_type": "code",
   "execution_count": 2,
   "id": "2438df61",
   "metadata": {},
   "outputs": [
    {
     "name": "stdout",
     "output_type": "stream",
     "text": [
      "enter number:153\n",
      " number is armstrong number ....\n"
     ]
    }
   ],
   "source": [
    "#write a program to print armstrong number?\n",
    "#Armstrong number ==> if the sum of cube of digits if a values is equal to the value that type of number \n",
    "# 153 ==> 1**3+5**3+3**3\n",
    "\n",
    "\n",
    "i=int(input(\"enter number:\"))\n",
    "original = i\n",
    "sum=0\n",
    "while(i>0):\n",
    "    sum = sum+(i%10)*(i%10)*(i%10)\n",
    "    i=i//10\n",
    "    \n",
    "if(original==sum):\n",
    "    print(\" number is armstrong number ....\" )\n",
    "else:\n",
    "    print(\"number is not armstrong number....\")\n"
   ]
  },
  {
   "cell_type": "markdown",
   "id": "6f0c81c3",
   "metadata": {},
   "source": [
    "# Task1\n",
    "\n",
    "\n",
    "write a program to find product of digits of a given number?\n",
    " o/p == i=123 1*2*3 =6"
   ]
  },
  {
   "cell_type": "code",
   "execution_count": null,
   "id": "938d83e4",
   "metadata": {},
   "outputs": [],
   "source": []
  },
  {
   "cell_type": "code",
   "execution_count": 3,
   "id": "12d3024b",
   "metadata": {},
   "outputs": [
    {
     "name": "stdout",
     "output_type": "stream",
     "text": [
      "enter number:123\n",
      "reverse = 321\n"
     ]
    }
   ],
   "source": [
    "# write a program to find reverse of a given number?\n",
    "\n",
    "i = int(input(\"enter number:\"))\n",
    "rev=0\n",
    "while(i>0):\n",
    "    rev=(rev*10)+(i%10)\n",
    "    i=i//10\n",
    "print(\"reverse =\", rev)"
   ]
  },
  {
   "cell_type": "code",
   "execution_count": null,
   "id": "5efa356d",
   "metadata": {},
   "outputs": [],
   "source": []
  }
 ],
 "metadata": {
  "kernelspec": {
   "display_name": "Python 3 (ipykernel)",
   "language": "python",
   "name": "python3"
  },
  "language_info": {
   "codemirror_mode": {
    "name": "ipython",
    "version": 3
   },
   "file_extension": ".py",
   "mimetype": "text/x-python",
   "name": "python",
   "nbconvert_exporter": "python",
   "pygments_lexer": "ipython3",
   "version": "3.11.5"
  }
 },
 "nbformat": 4,
 "nbformat_minor": 5
}
