{
 "cells": [
  {
   "cell_type": "code",
   "execution_count": 1,
   "id": "4cf76e30-08ea-4b45-999f-e9f9f066f9f8",
   "metadata": {},
   "outputs": [
    {
     "name": "stdout",
     "output_type": "stream",
     "text": [
      "* * * * *  \n",
      "  * * *  \n",
      "    *  \n",
      "       \n",
      "         \n"
     ]
    }
   ],
   "source": [
    "for i in range(0,5):\n",
    "    for s in range(1,i+1):\n",
    "        print(\" \",end=\" \")\n",
    "\n",
    "    for j in range(4,2*i-1,-1):\n",
    "        if(i==1 or i==2 or i==0):    \n",
    "            print(\"*\",end=\" \")\n",
    "\n",
    "    print(\" \")"
   ]
  },
  {
   "cell_type": "code",
   "execution_count": 5,
   "id": "47636c90-7f3a-43c0-84f3-a94d20f2bb12",
   "metadata": {},
   "outputs": [
    {
     "name": "stdout",
     "output_type": "stream",
     "text": [
      "    *  \n",
      "  * * *  \n",
      "* * * * *  \n",
      "  * * *  \n",
      "    *  \n",
      "       \n",
      "         \n"
     ]
    }
   ],
   "source": [
    "for k in range(1,3):\n",
    "    for s in range(2,k-1,-1):\n",
    "        print(\" \",end=\" \")\n",
    "\n",
    "    for f in range(1,2*k):\n",
    "        print(\"*\",end=\" \")\n",
    "\n",
    "    print(\" \")\n",
    "    \n",
    "for i in range(0,5):\n",
    "    for s in range(1,i+1):\n",
    "        print(\" \",end=\" \")\n",
    "\n",
    "    for j in range(4,2*i-1,-1):\n",
    "        print(\"*\",end=\" \")\n",
    "\n",
    "\n",
    "    print(\" \")"
   ]
  },
  {
   "cell_type": "code",
   "execution_count": 6,
   "id": "14f46fa0-95b5-432c-8b00-40450e306c09",
   "metadata": {},
   "outputs": [
    {
     "name": "stdout",
     "output_type": "stream",
     "text": [
      "        *  \n",
      "      *  \n",
      "    *  \n",
      "  *  \n",
      "*  \n"
     ]
    }
   ],
   "source": [
    "for k in range(1,6):\n",
    "    for s in range(4,k-1,-1):\n",
    "        print(\" \",end=\" \")\n",
    "\n",
    "    for f in range(1,k+1):\n",
    "        if(f==1):\n",
    "            print(\"*\",end=\" \")\n",
    "\n",
    "    print(\" \")"
   ]
  },
  {
   "cell_type": "code",
   "execution_count": 7,
   "id": "838065f6-a440-45b3-84cd-25c58f0fd404",
   "metadata": {},
   "outputs": [
    {
     "name": "stdout",
     "output_type": "stream",
     "text": [
      "  *  \n",
      "    *  \n",
      "      *  \n",
      "        *  \n",
      "          *  \n"
     ]
    }
   ],
   "source": [
    "for k in range(1,6):\n",
    "    for s in range(1,k+1):\n",
    "        print(\" \",end=\" \")\n",
    "\n",
    "    for f in range(1,k+1):\n",
    "        if(f==1):\n",
    "            print(\"*\",end=\" \")\n",
    "\n",
    "    print(\" \")"
   ]
  },
  {
   "cell_type": "code",
   "execution_count": 8,
   "id": "71bcb2e2-fb28-441c-a25c-f51572089b0c",
   "metadata": {},
   "outputs": [
    {
     "name": "stdout",
     "output_type": "stream",
     "text": [
      "* * * * *  \n",
      "*      \n",
      "* * * * *  \n",
      "*      \n",
      "* * * * *  \n"
     ]
    }
   ],
   "source": [
    "for k in range(1,6):\n",
    "    for i in range(1,6):\n",
    "        if(i==1 or k==1 or k==3 or k==5):\n",
    "            print(\"*\",end=\" \")\n",
    "        else:\n",
    "            print(\"\",end=\" \")\n",
    "\n",
    "    print(\" \")"
   ]
  },
  {
   "cell_type": "code",
   "execution_count": 9,
   "id": "fe4eac74-43e2-491b-93c1-c93d57e2de41",
   "metadata": {},
   "outputs": [
    {
     "name": "stdout",
     "output_type": "stream",
     "text": [
      "      * * * *  \n",
      "    *     *  \n",
      "  *     *  \n",
      "* * * *  \n"
     ]
    }
   ],
   "source": [
    "for k in range(1,5):\n",
    "    for s in range(3,k-1,-1):\n",
    "        print(\" \",end=\" \")\n",
    "    for i in range(1,5):\n",
    "        if( i==1 or i==4 or k==1 or k==4):\n",
    "            print(\"*\",end=\" \")\n",
    "\n",
    "        else:\n",
    "            print(\" \",end=\" \")\n",
    "\n",
    "    print(\" \")"
   ]
  },
  {
   "cell_type": "code",
   "execution_count": 10,
   "id": "ced337bb-d3d6-4f90-8473-c012c5d34b77",
   "metadata": {},
   "outputs": [
    {
     "name": "stdout",
     "output_type": "stream",
     "text": [
      "  *       *  \n",
      "    *   *    \n",
      "      *      \n",
      "    *   *    \n",
      "  *       *  \n"
     ]
    }
   ],
   "source": [
    "for k in range(1,6):\n",
    "    for s in range(1,k+1):\n",
    "        if ((s==2 and k==5) or (s==3 and k==4)):\n",
    "            print(\"*\",end=\" \")\n",
    "\n",
    "        else:\n",
    "            print(\" \",end=\" \")\n",
    "\n",
    "    for f in range(1,k+1):\n",
    "        if( f==1):\n",
    "            print(\"*\",end=\" \")\n",
    "    for i in range(4,k-1,-1):\n",
    "        if((k==2 and i==3) or (k==1 and i==1)):\n",
    "            print(\"*\",end=\" \")\n",
    "\n",
    "        else:\n",
    "            print(\" \",end=\" \")\n",
    "\n",
    "    print(\" \")"
   ]
  },
  {
   "cell_type": "code",
   "execution_count": null,
   "id": "40a758ec-b8fd-474c-9b60-cb3341ff6510",
   "metadata": {},
   "outputs": [],
   "source": []
  }
 ],
 "metadata": {
  "kernelspec": {
   "display_name": "Python 3 (ipykernel)",
   "language": "python",
   "name": "python3"
  },
  "language_info": {
   "codemirror_mode": {
    "name": "ipython",
    "version": 3
   },
   "file_extension": ".py",
   "mimetype": "text/x-python",
   "name": "python",
   "nbconvert_exporter": "python",
   "pygments_lexer": "ipython3",
   "version": "3.10.11"
  }
 },
 "nbformat": 4,
 "nbformat_minor": 5
}
