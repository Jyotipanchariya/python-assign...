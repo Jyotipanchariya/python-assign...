{
 "cells": [
  {
   "cell_type": "code",
   "execution_count": 3,
   "id": "fbc7a106-1bb0-4363-8307-f2acd224d593",
   "metadata": {},
   "outputs": [
    {
     "name": "stdout",
     "output_type": "stream",
     "text": [
      "HELLO WORLD\n"
     ]
    }
   ],
   "source": [
    "#day 4\n",
    "print(\"HELLO WORLD\")"
   ]
  },
  {
   "cell_type": "code",
   "execution_count": 5,
   "id": "702064c2-59bb-4f38-b1bb-c4aad011311d",
   "metadata": {},
   "outputs": [
    {
     "name": "stdout",
     "output_type": "stream",
     "text": [
      "5\n"
     ]
    }
   ],
   "source": [
    "print(5)"
   ]
  },
  {
   "cell_type": "code",
   "execution_count": 6,
   "id": "f69b68ce-cc33-49c7-99c4-b44dc00f762b",
   "metadata": {},
   "outputs": [
    {
     "name": "stdout",
     "output_type": "stream",
     "text": [
      "Bye\n"
     ]
    }
   ],
   "source": [
    "print(\"Bye\")"
   ]
  },
  {
   "cell_type": "code",
   "execution_count": 7,
   "id": "02798c5f-c168-4552-ba1d-5ecf32228ebe",
   "metadata": {},
   "outputs": [
    {
     "name": "stdout",
     "output_type": "stream",
     "text": [
      "HELLO WORLD 7\n"
     ]
    }
   ],
   "source": [
    "print(\"HELLO WORLD\",7)"
   ]
  },
  {
   "cell_type": "code",
   "execution_count": 8,
   "id": "69650035-93e7-4b09-85f0-5510fe25b43c",
   "metadata": {},
   "outputs": [
    {
     "name": "stdout",
     "output_type": "stream",
     "text": [
      "50\n"
     ]
    }
   ],
   "source": [
    "print(15+35)"
   ]
  },
  {
   "cell_type": "code",
   "execution_count": 9,
   "id": "45bcbe3d-18a6-4137-a6f6-9ff8bfc1ea2e",
   "metadata": {},
   "outputs": [
    {
     "name": "stdout",
     "output_type": "stream",
     "text": [
      "3115\n"
     ]
    }
   ],
   "source": [
    "print(89*35)"
   ]
  },
  {
   "cell_type": "code",
   "execution_count": 10,
   "id": "a14aec7f-cfbc-4acb-8c7e-4ae48ffcb180",
   "metadata": {},
   "outputs": [
    {
     "name": "stdout",
     "output_type": "stream",
     "text": [
      "3\n"
     ]
    }
   ],
   "source": [
    "print(15%6)"
   ]
  },
  {
   "cell_type": "code",
   "execution_count": 11,
   "id": "59430f10-0fc2-4548-b509-6bd2dd4aa45a",
   "metadata": {},
   "outputs": [
    {
     "name": "stdout",
     "output_type": "stream",
     "text": [
      "Hey i am a good girl\n"
     ]
    }
   ],
   "source": [
    "#day 5\n",
    "#Comments,escape sequence,print in python\n",
    "print(\"Hey i am a good girl\")"
   ]
  },
  {
   "cell_type": "code",
   "execution_count": 13,
   "id": "99e4e781-0e74-46b6-b89e-8e08c48d1491",
   "metadata": {},
   "outputs": [
    {
     "name": "stdout",
     "output_type": "stream",
     "text": [
      "hey i am a good girl\n",
      " and i love myself \n"
     ]
    }
   ],
   "source": [
    "print(\"hey i am a good girl\\n and i love myself \")"
   ]
  },
  {
   "cell_type": "code",
   "execution_count": 17,
   "id": "209258f2-eb81-4f37-8159-628e39e2bedc",
   "metadata": {},
   "outputs": [
    {
     "name": "stdout",
     "output_type": "stream",
     "text": [
      "hello world\n",
      "hey!6!70004\n",
      "jesty\n"
     ]
    }
   ],
   "source": [
    "#comments in python\n",
    "\n",
    "### >>>>---- comments \n",
    "#*/  */\n",
    "print(\"hello world\") # print hello world\n",
    "\n",
    "print(\"hey\", 6, 7,sep=\"!\", end=\"0004\\n\")\n",
    "print(\"jesty\")\n"
   ]
  },
  {
   "cell_type": "code",
   "execution_count": 19,
   "id": "d119ff91-7d37-4b83-93b2-53d090cc2ce5",
   "metadata": {},
   "outputs": [
    {
     "name": "stdout",
     "output_type": "stream",
     "text": [
      "123232329392\n"
     ]
    }
   ],
   "source": [
    "#variables in python --------- holds the data like a container \n",
    "a=123232329392\n",
    "print(a)"
   ]
  },
  {
   "cell_type": "code",
   "execution_count": 21,
   "id": "0156e20a-720e-4c55-b5b1-b65e3a3b6f08",
   "metadata": {},
   "outputs": [
    {
     "name": "stdout",
     "output_type": "stream",
     "text": [
      "jesty\n"
     ]
    }
   ],
   "source": [
    "b=\"jesty\"\n",
    "print(b)"
   ]
  },
  {
   "cell_type": "code",
   "execution_count": 29,
   "id": "fe62489a-0a59-4e68-a910-a35169e5a791",
   "metadata": {},
   "outputs": [
    {
     "name": "stdout",
     "output_type": "stream",
     "text": [
      "221\n"
     ]
    }
   ],
   "source": [
    "a=123\n",
    "c=98\n",
    "print(a+c)"
   ]
  },
  {
   "cell_type": "code",
   "execution_count": 25,
   "id": "fa70fcd3-e338-4db2-9035-e4685a749e0f",
   "metadata": {},
   "outputs": [
    {
     "name": "stdout",
     "output_type": "stream",
     "text": [
      "the type of a is <class 'int'>\n"
     ]
    }
   ],
   "source": [
    "print(\"the type of a is\", type(a))"
   ]
  },
  {
   "cell_type": "code",
   "execution_count": 31,
   "id": "956fc901-a3b9-467d-a5d7-935b17eb0c5a",
   "metadata": {},
   "outputs": [
    {
     "name": "stdout",
     "output_type": "stream",
     "text": [
      "jesty\n",
      "the type of a is <class 'str'>\n"
     ]
    }
   ],
   "source": [
    "b=\"jesty\"\n",
    "print(b)\n",
    "print(\"the type of a is\", type(b))"
   ]
  },
  {
   "cell_type": "code",
   "execution_count": 33,
   "id": "c88af162-31fb-4d6a-bd60-3609d0afb7b0",
   "metadata": {},
   "outputs": [
    {
     "name": "stdout",
     "output_type": "stream",
     "text": [
      "0.9\n",
      "the type of a is <class 'float'>\n"
     ]
    }
   ],
   "source": [
    "a=0.9\n",
    "print(a)\n",
    "print(\"the type of a is\", type(a))"
   ]
  },
  {
   "cell_type": "code",
   "execution_count": 35,
   "id": "524d49d4-e689-41b0-925d-43445651a38d",
   "metadata": {},
   "outputs": [
    {
     "name": "stdout",
     "output_type": "stream",
     "text": [
      "(2+9j)\n",
      "the type of a is <class 'complex'>\n"
     ]
    }
   ],
   "source": [
    "a=complex(2,9)\n",
    "print(a)\n",
    "print(\"the type of a is\",type(a))"
   ]
  },
  {
   "cell_type": "code",
   "execution_count": 37,
   "id": "c6a5b45d-5cb0-444f-93f6-9d368020d771",
   "metadata": {},
   "outputs": [
    {
     "name": "stdout",
     "output_type": "stream",
     "text": [
      "[2, 4, 5.6, [-4, 50], ['apple', 'banana']]\n"
     ]
    }
   ],
   "source": [
    "list1=[2,4,5.6,[-4,50],[\"apple\",\"banana\"]]\n",
    "print(list1)"
   ]
  },
  {
   "cell_type": "code",
   "execution_count": 38,
   "id": "1e40b72a-1b5c-4c12-af14-aee8c1d2f3e6",
   "metadata": {},
   "outputs": [
    {
     "name": "stdout",
     "output_type": "stream",
     "text": [
      "(('parrot', 'sparrow'), ('Lion', 'tiger'))\n"
     ]
    }
   ],
   "source": [
    "tuple1=((\"parrot\",\"sparrow\"),(\"Lion\",\"tiger\"))\n",
    "print(tuple1)"
   ]
  },
  {
   "cell_type": "code",
   "execution_count": 41,
   "id": "c9af116b-443e-41e6-af9c-95f5b2bc7230",
   "metadata": {},
   "outputs": [
    {
     "name": "stdout",
     "output_type": "stream",
     "text": [
      "{'name': 'jesty', 'age': 22, 'canVote': True}\n"
     ]
    }
   ],
   "source": [
    "dict1={\"name\":\"jesty\",\"age\":22,\"canVote\":True}\n",
    "print(dict1)"
   ]
  },
  {
   "cell_type": "code",
   "execution_count": 44,
   "id": "987d9400-3765-4912-bac2-d3e5cd027190",
   "metadata": {},
   "outputs": [
    {
     "name": "stdout",
     "output_type": "stream",
     "text": [
      "22\n",
      "8\n",
      "105\n",
      "2.142857142857143\n",
      "1\n",
      "2\n",
      "625\n"
     ]
    }
   ],
   "source": [
    "#operators\n",
    "\n",
    "print(15+7)\n",
    "\n",
    "print(15-7)\n",
    "\n",
    "print(15*7)\n",
    "\n",
    "print(15/7)\n",
    "\n",
    "print(15%7)\n",
    "\n",
    "print(15//7)\n",
    "\n",
    "print(5**4)\n"
   ]
  },
  {
   "cell_type": "code",
   "execution_count": 45,
   "id": "710932c8-9243-49d9-b2a1-0e0156963bbf",
   "metadata": {},
   "outputs": [
    {
     "name": "stdout",
     "output_type": "stream",
     "text": [
      "the value of 50 + 5 is:  55\n",
      "the value of 50 - 5 is:  45\n",
      "the value of 50 * 5 is:  250\n",
      "the value of 50 / 5 is:  10.0\n"
     ]
    }
   ],
   "source": [
    "a=50\n",
    "b=5\n",
    "\n",
    "print(\"the value of\",a,\"+\",5,\"is: \",a+b)\n",
    "print(\"the value of\",a,\"-\",5,\"is: \",a-b)\n",
    "print(\"the value of\",a,\"*\",5,\"is: \",a*b)\n",
    "print(\"the value of\",a,\"/\",5,\"is: \",a/b)\n"
   ]
  },
  {
   "cell_type": "code",
   "execution_count": 46,
   "id": "7061af15-f67f-4ff5-972c-6e48649fa81e",
   "metadata": {},
   "outputs": [
    {
     "name": "stdout",
     "output_type": "stream",
     "text": [
      "3\n"
     ]
    }
   ],
   "source": [
    "#type casting\n",
    "\n",
    "a=\"1\"\n",
    "b=\"2\"\n",
    "print(int(a)+int(b))"
   ]
  },
  {
   "cell_type": "code",
   "execution_count": 47,
   "id": "5b88b93b-1db1-4045-aeb2-81a315f2a678",
   "metadata": {},
   "outputs": [
    {
     "name": "stdout",
     "output_type": "stream",
     "text": [
      "18.4\n"
     ]
    }
   ],
   "source": [
    "c=9\n",
    "d=9.4\n",
    "print(c+d)"
   ]
  },
  {
   "cell_type": "code",
   "execution_count": 48,
   "id": "d682e00e-25b6-48cf-849e-d5da44bccafb",
   "metadata": {},
   "outputs": [
    {
     "name": "stdin",
     "output_type": "stream",
     "text": [
      " 4\n"
     ]
    },
    {
     "name": "stdout",
     "output_type": "stream",
     "text": [
      "4\n"
     ]
    }
   ],
   "source": [
    "#user input\n",
    "a=input()\n",
    "print(a)"
   ]
  },
  {
   "cell_type": "code",
   "execution_count": 50,
   "id": "46ba9977-2468-46dd-8639-0f183c942a50",
   "metadata": {},
   "outputs": [
    {
     "name": "stdin",
     "output_type": "stream",
     "text": [
      "enter your name:  jesty\n"
     ]
    },
    {
     "name": "stdout",
     "output_type": "stream",
     "text": [
      "my name is jesty\n"
     ]
    }
   ],
   "source": [
    "b=input(\"enter your name: \")\n",
    "print(\"my name is\",b)"
   ]
  },
  {
   "cell_type": "code",
   "execution_count": 51,
   "id": "d6defa3e-ca6b-4e54-b73f-4e36ceb32e54",
   "metadata": {},
   "outputs": [
    {
     "name": "stdin",
     "output_type": "stream",
     "text": [
      "enter the first number:  5\n",
      "enter the second number:  6\n"
     ]
    },
    {
     "name": "stdout",
     "output_type": "stream",
     "text": [
      "11\n"
     ]
    }
   ],
   "source": [
    "x=input(\"enter the first number: \")\n",
    "y=input(\"enter the second number: \")\n",
    "print(int(x)+int(y))"
   ]
  },
  {
   "cell_type": "code",
   "execution_count": null,
   "id": "b4585cbd-22c1-494b-97ac-31ce74b9bb12",
   "metadata": {},
   "outputs": [],
   "source": []
  }
 ],
 "metadata": {
  "kernelspec": {
   "display_name": "Python 3 (ipykernel)",
   "language": "python",
   "name": "python3"
  },
  "language_info": {
   "codemirror_mode": {
    "name": "ipython",
    "version": 3
   },
   "file_extension": ".py",
   "mimetype": "text/x-python",
   "name": "python",
   "nbconvert_exporter": "python",
   "pygments_lexer": "ipython3",
   "version": "3.10.11"
  }
 },
 "nbformat": 4,
 "nbformat_minor": 5
}
