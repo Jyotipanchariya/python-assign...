{
 "cells": [
  {
   "cell_type": "markdown",
   "id": "5d74a794",
   "metadata": {},
   "source": [
    "# Numpy Revision"
   ]
  },
  {
   "cell_type": "code",
   "execution_count": 1,
   "id": "23132b7b",
   "metadata": {},
   "outputs": [],
   "source": [
    "import numpy as np"
   ]
  },
  {
   "cell_type": "code",
   "execution_count": 2,
   "id": "e99373dd",
   "metadata": {},
   "outputs": [],
   "source": [
    "#Numpy ==> Numerical python (used for scientific calculation )\n",
    "#          (open source library)"
   ]
  },
  {
   "cell_type": "markdown",
   "id": "4dbe5113",
   "metadata": {},
   "source": [
    "# How to create an user define array from list ?"
   ]
  },
  {
   "cell_type": "code",
   "execution_count": 3,
   "id": "0dfa3152",
   "metadata": {},
   "outputs": [
    {
     "data": {
      "text/plain": [
       "list"
      ]
     },
     "execution_count": 3,
     "metadata": {},
     "output_type": "execute_result"
    }
   ],
   "source": [
    "a=[1,3,5,66,77]\n",
    "type(a)"
   ]
  },
  {
   "cell_type": "code",
   "execution_count": 4,
   "id": "c5c3e63a",
   "metadata": {},
   "outputs": [
    {
     "data": {
      "text/plain": [
       "array([ 1,  3,  5, 66, 77])"
      ]
     },
     "execution_count": 4,
     "metadata": {},
     "output_type": "execute_result"
    }
   ],
   "source": [
    "b= np.array(a)\n",
    "b"
   ]
  },
  {
   "cell_type": "code",
   "execution_count": 5,
   "id": "5ceaf30c",
   "metadata": {},
   "outputs": [
    {
     "name": "stdout",
     "output_type": "stream",
     "text": [
      "enter size:4\n",
      " enter the value:22\n",
      " enter the value:33\n",
      " enter the value:44\n",
      " enter the value:55\n"
     ]
    },
    {
     "data": {
      "text/plain": [
       "array([22, 33, 44, 55])"
      ]
     },
     "execution_count": 5,
     "metadata": {},
     "output_type": "execute_result"
    }
   ],
   "source": [
    "a=[]\n",
    "size = int(input(\"enter size:\"))\n",
    "for i in range (size):\n",
    "    val = int(input(\" enter the value:\"))\n",
    "    a.append(val)\n",
    "    \n",
    "b=np.array(a)\n",
    "b"
   ]
  },
  {
   "cell_type": "code",
   "execution_count": 7,
   "id": "dd04dc6a",
   "metadata": {},
   "outputs": [
    {
     "data": {
      "text/plain": [
       "([11, 33, 5], [33, 4, 5], [44, 5, 6])"
      ]
     },
     "execution_count": 7,
     "metadata": {},
     "output_type": "execute_result"
    }
   ],
   "source": [
    "a=[11,33,5],[33,4,5],[44,5,6]\n",
    "a"
   ]
  },
  {
   "cell_type": "markdown",
   "id": "9663c4ac",
   "metadata": {},
   "source": [
    "# How to check size and shape and total elements of an array?"
   ]
  },
  {
   "cell_type": "code",
   "execution_count": 16,
   "id": "c1a93735",
   "metadata": {},
   "outputs": [
    {
     "name": "stdout",
     "output_type": "stream",
     "text": [
      "total dimensions of this array: 1\n",
      "shape of this array: (4,)\n",
      "total elemnts of this array: (4,)\n"
     ]
    }
   ],
   "source": [
    "print(\"total dimensions of this array:\", b.ndim)\n",
    "print(\"shape of this array:\", b.shape)\n",
    "print(\"total elemnts of this array:\", b.shape)"
   ]
  },
  {
   "cell_type": "code",
   "execution_count": 17,
   "id": "735af8dd",
   "metadata": {},
   "outputs": [],
   "source": [
    "# n(total_elements ) = n(rows)*n(columns)"
   ]
  },
  {
   "cell_type": "markdown",
   "id": "ce6d632c",
   "metadata": {},
   "source": [
    "# Pre - defined FUNCTIONS"
   ]
  },
  {
   "cell_type": "markdown",
   "id": "d9217952",
   "metadata": {},
   "source": [
    "# 1. zeros()== > it will create an array  in which all values are zeros"
   ]
  },
  {
   "cell_type": "code",
   "execution_count": 20,
   "id": "8d1bd062",
   "metadata": {},
   "outputs": [
    {
     "data": {
      "text/plain": [
       "array([0., 0.])"
      ]
     },
     "execution_count": 20,
     "metadata": {},
     "output_type": "execute_result"
    }
   ],
   "source": [
    "a=np.zeros(2)\n",
    "a"
   ]
  },
  {
   "cell_type": "code",
   "execution_count": 23,
   "id": "5c10f811",
   "metadata": {},
   "outputs": [
    {
     "data": {
      "text/plain": [
       "array([[0., 0., 0., 0.],\n",
       "       [0., 0., 0., 0.],\n",
       "       [0., 0., 0., 0.]])"
      ]
     },
     "execution_count": 23,
     "metadata": {},
     "output_type": "execute_result"
    }
   ],
   "source": [
    "a=np.zeros((3,4))\n",
    "a"
   ]
  },
  {
   "cell_type": "code",
   "execution_count": 24,
   "id": "c61453fe",
   "metadata": {},
   "outputs": [
    {
     "name": "stdout",
     "output_type": "stream",
     "text": [
      "total dimensions of this array: 2\n",
      "shape of this array: (3, 4)\n",
      "total elemnts of this array: (3, 4)\n"
     ]
    }
   ],
   "source": [
    "print(\"total dimensions of this array:\", a.ndim)\n",
    "print(\"shape of this array:\", a.shape)\n",
    "print(\"total elemnts of this array:\", a.shape)"
   ]
  },
  {
   "cell_type": "markdown",
   "id": "98d0ef9b",
   "metadata": {},
   "source": [
    "# (2). ones()==> this will create an array in which all the values are 1"
   ]
  },
  {
   "cell_type": "code",
   "execution_count": 26,
   "id": "6a3badbf",
   "metadata": {},
   "outputs": [
    {
     "data": {
      "text/plain": [
       "array([1., 1., 1., 1., 1.])"
      ]
     },
     "execution_count": 26,
     "metadata": {},
     "output_type": "execute_result"
    }
   ],
   "source": [
    "a=np.ones(5)\n",
    "a"
   ]
  },
  {
   "cell_type": "code",
   "execution_count": 27,
   "id": "01284711",
   "metadata": {},
   "outputs": [
    {
     "data": {
      "text/plain": [
       "array([[1., 1., 1., 1.],\n",
       "       [1., 1., 1., 1.],\n",
       "       [1., 1., 1., 1.]])"
      ]
     },
     "execution_count": 27,
     "metadata": {},
     "output_type": "execute_result"
    }
   ],
   "source": [
    "a=np.ones((3,4))\n",
    "a"
   ]
  },
  {
   "cell_type": "code",
   "execution_count": 28,
   "id": "4a24b910",
   "metadata": {},
   "outputs": [
    {
     "name": "stdout",
     "output_type": "stream",
     "text": [
      "total dimensions of this array: 2\n",
      "shape of this array: (3, 4)\n",
      "total elemnts of this array: (3, 4)\n"
     ]
    }
   ],
   "source": [
    "print(\"total dimensions of this array:\", a.ndim)\n",
    "print(\"shape of this array:\", a.shape)\n",
    "print(\"total elemnts of this array:\", a.shape)"
   ]
  },
  {
   "cell_type": "code",
   "execution_count": 29,
   "id": "c3c548e6",
   "metadata": {},
   "outputs": [],
   "source": [
    "#diagonal elements =[(1,1),(2,2),(3,3),(4,4)..........(n,n)]\n",
    "#symmentric matrix = n(rows) = n(columns)\n",
    "#asymmentric matrix = n (rows)! = n (columns)"
   ]
  },
  {
   "cell_type": "markdown",
   "id": "6917e0b0",
   "metadata": {},
   "source": [
    "# 3. eye() ==> this will create an array in which diagonal position elemnts 1 and rest all are 0"
   ]
  },
  {
   "cell_type": "code",
   "execution_count": 30,
   "id": "e90f5d0b",
   "metadata": {},
   "outputs": [
    {
     "data": {
      "text/plain": [
       "array([[1., 0., 0., 0.],\n",
       "       [0., 1., 0., 0.],\n",
       "       [0., 0., 1., 0.]])"
      ]
     },
     "execution_count": 30,
     "metadata": {},
     "output_type": "execute_result"
    }
   ],
   "source": [
    "a=np.eye(3,4)\n",
    "a"
   ]
  },
  {
   "cell_type": "code",
   "execution_count": 31,
   "id": "1ac278a3",
   "metadata": {},
   "outputs": [
    {
     "data": {
      "text/plain": [
       "array([[1., 0., 0., 0.],\n",
       "       [0., 1., 0., 0.],\n",
       "       [0., 0., 1., 0.],\n",
       "       [0., 0., 0., 1.]])"
      ]
     },
     "execution_count": 31,
     "metadata": {},
     "output_type": "execute_result"
    }
   ],
   "source": [
    "a= np.eye(4,4)\n",
    "a"
   ]
  },
  {
   "cell_type": "markdown",
   "id": "b81da60c",
   "metadata": {},
   "source": [
    "# (4) diag() ==> it will create an array in which we can pass our custom array value in the diagonal position and rest all are zeros"
   ]
  },
  {
   "cell_type": "code",
   "execution_count": 32,
   "id": "3a58aee7",
   "metadata": {},
   "outputs": [
    {
     "data": {
      "text/plain": [
       "array([[  2,   0,   0,   0],\n",
       "       [  0,   3,   0,   0],\n",
       "       [  0,   0, 445,   0],\n",
       "       [  0,   0,   0,  33]])"
      ]
     },
     "execution_count": 32,
     "metadata": {},
     "output_type": "execute_result"
    }
   ],
   "source": [
    "a=np.diag([2,3,445,33])\n",
    "a"
   ]
  },
  {
   "cell_type": "code",
   "execution_count": null,
   "id": "93d5a58b",
   "metadata": {},
   "outputs": [],
   "source": []
  }
 ],
 "metadata": {
  "kernelspec": {
   "display_name": "Python 3 (ipykernel)",
   "language": "python",
   "name": "python3"
  },
  "language_info": {
   "codemirror_mode": {
    "name": "ipython",
    "version": 3
   },
   "file_extension": ".py",
   "mimetype": "text/x-python",
   "name": "python",
   "nbconvert_exporter": "python",
   "pygments_lexer": "ipython3",
   "version": "3.11.5"
  }
 },
 "nbformat": 4,
 "nbformat_minor": 5
}
