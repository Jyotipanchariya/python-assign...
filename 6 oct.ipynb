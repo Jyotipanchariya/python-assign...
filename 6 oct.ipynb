{
 "cells": [
  {
   "cell_type": "code",
   "execution_count": 2,
   "id": "851a81ff-2087-4da9-bae8-9cb27956358e",
   "metadata": {},
   "outputs": [
    {
     "name": "stdout",
     "output_type": "stream",
     "text": [
      "100\n",
      "400\n",
      "900\n"
     ]
    }
   ],
   "source": [
    "#generators in python\n",
    "#instead of return we use <yield>= stop , func to restart ,\n",
    "\n",
    "def func(mylist):\n",
    "    for i in mylist:\n",
    "        print(i**2)\n",
    "\n",
    "func([10,20,30])\n"
   ]
  },
  {
   "cell_type": "code",
   "execution_count": 5,
   "id": "934d18b6-73aa-4e73-ab36-f6c9f60c39b4",
   "metadata": {},
   "outputs": [
    {
     "data": {
      "text/plain": [
       "1"
      ]
     },
     "execution_count": 5,
     "metadata": {},
     "output_type": "execute_result"
    }
   ],
   "source": [
    "def xyz():\n",
    "    return 1\n",
    "    return 2 \n",
    "    return 3\n",
    "\n",
    "xyz()\n",
    "xyz()"
   ]
  },
  {
   "cell_type": "code",
   "execution_count": 9,
   "id": "007d6c6d-bf20-449e-a98e-6898ac7a9d5d",
   "metadata": {},
   "outputs": [
    {
     "name": "stdout",
     "output_type": "stream",
     "text": [
      "hey\n"
     ]
    },
    {
     "ename": "StopIteration",
     "evalue": "",
     "output_type": "error",
     "traceback": [
      "\u001b[1;31m---------------------------------------------------------------------------\u001b[0m",
      "\u001b[1;31mStopIteration\u001b[0m                             Traceback (most recent call last)",
      "Cell \u001b[1;32mIn[9], line 8\u001b[0m\n\u001b[0;32m      6\u001b[0m \u001b[38;5;66;03m#you need to call the next method\u001b[39;00m\n\u001b[0;32m      7\u001b[0m \u001b[38;5;28mnext\u001b[39m(x)\n\u001b[1;32m----> 8\u001b[0m \u001b[38;5;28;43mnext\u001b[39;49m\u001b[43m(\u001b[49m\u001b[43mx\u001b[49m\u001b[43m)\u001b[49m\n",
      "\u001b[1;31mStopIteration\u001b[0m: "
     ]
    }
   ],
   "source": [
    "def xyz():\n",
    "    yield 1\n",
    "    print(\"hey\")\n",
    "#yield return generator object\n",
    "x=xyz()\n",
    "#you need to call the next method\n",
    "next(x)\n",
    "next(x)\n",
    "#x.__next__()"
   ]
  },
  {
   "cell_type": "code",
   "execution_count": 10,
   "id": "7b2b4b23-ec1d-4b82-acff-ba398c0b6055",
   "metadata": {},
   "outputs": [
    {
     "data": {
      "text/plain": [
       "3"
      ]
     },
     "execution_count": 10,
     "metadata": {},
     "output_type": "execute_result"
    }
   ],
   "source": [
    "def xyz():\n",
    "    yield 1\n",
    "    yield 2\n",
    "    yield 3\n",
    "   \n",
    "#yield return generator object\n",
    "x=xyz()\n",
    "#you need to call the next method\n",
    "next(x)\n",
    "next(x)\n",
    "next(x)"
   ]
  },
  {
   "cell_type": "code",
   "execution_count": 11,
   "id": "ebeaec61-59b0-4561-9f60-d59250f952df",
   "metadata": {},
   "outputs": [
    {
     "data": {
      "text/plain": [
       "40"
      ]
     },
     "execution_count": 11,
     "metadata": {},
     "output_type": "execute_result"
    }
   ],
   "source": [
    "def xyz(a,b):\n",
    "    yield a+b\n",
    "    yield 2\n",
    "    yield 3\n",
    "   \n",
    "#yield return generator object\n",
    "x=xyz(10,30)\n",
    "\n",
    "next(x)\n",
    "#you need to call the next method\n",
    "#next(x)\n",
    "#next(x)\n",
    "#next(x)"
   ]
  },
  {
   "cell_type": "code",
   "execution_count": 12,
   "id": "263c8279-890a-469b-be96-7c2654103f99",
   "metadata": {},
   "outputs": [
    {
     "name": "stdout",
     "output_type": "stream",
     "text": [
      "h\n",
      "e\n",
      "y\n"
     ]
    }
   ],
   "source": [
    "#instead of next method we use loop method in generator \n",
    "#iterator is used to implement next method\n",
    "\n",
    "for i in \"hey\":\n",
    "    print(i)"
   ]
  },
  {
   "cell_type": "code",
   "execution_count": 13,
   "id": "c2230012-44ce-4c25-a162-9386314e1c0c",
   "metadata": {},
   "outputs": [
    {
     "name": "stdout",
     "output_type": "stream",
     "text": [
      "30\n",
      "2\n",
      "3\n"
     ]
    }
   ],
   "source": [
    "def xyz(a,b):\n",
    "    yield a+b\n",
    "    yield 2\n",
    "    yield 3\n",
    "\n",
    "for i in xyz(10,20):\n",
    "    print(i)"
   ]
  },
  {
   "cell_type": "code",
   "execution_count": 14,
   "id": "4e0b507e-8595-40eb-99f6-d194c2dd1583",
   "metadata": {},
   "outputs": [
    {
     "name": "stdout",
     "output_type": "stream",
     "text": [
      "0\n",
      "1\n",
      "1\n",
      "2\n",
      "3\n",
      "\n",
      "Using for in loop\n",
      "0\n",
      "1\n",
      "1\n",
      "2\n",
      "3\n"
     ]
    }
   ],
   "source": [
    "def fib(limit): \n",
    "      \n",
    "  \n",
    "    a, b = 0, 1\n",
    "  \n",
    "     \n",
    "    while a < limit: \n",
    "        yield a \n",
    "        a, b = b, a + b \n",
    "  \n",
    " \n",
    "x = fib(5) \n",
    "  \n",
    "\n",
    "print(next(x))  \n",
    "print(next(x)) \n",
    "print(next(x)) \n",
    "print(next(x)) \n",
    "print(next(x)) \n",
    "  \n",
    "\n",
    "print(\"\\nUsing for in loop\") \n",
    "for i in fib(5):  \n",
    "    print(i)"
   ]
  },
  {
   "cell_type": "code",
   "execution_count": 15,
   "id": "2d9126cc-f498-4a5b-9db8-c2daa9935b34",
   "metadata": {},
   "outputs": [
    {
     "name": "stdout",
     "output_type": "stream",
     "text": [
      "0\n",
      "10\n",
      "20\n"
     ]
    }
   ],
   "source": [
    "# generator expression \n",
    "generator_exp = (i * 5 for i in range(5) if i%2==0) \n",
    "  \n",
    "for i in generator_exp: \n",
    "    print(i)"
   ]
  },
  {
   "cell_type": "code",
   "execution_count": 22,
   "id": "99d14803-c554-4bd8-a804-458d2bdc605e",
   "metadata": {},
   "outputs": [
    {
     "data": {
      "text/plain": [
       "5"
      ]
     },
     "execution_count": 22,
     "metadata": {},
     "output_type": "execute_result"
    }
   ],
   "source": [
    "def fibonacci(n):\n",
    "    x=1\n",
    "    y=1\n",
    "\n",
    "    for i in range(n):\n",
    "        yield x\n",
    "        x,y=y+x,x\n",
    "\n",
    "#1, 1 =>2+1 => 3+2 => 5\n",
    "new=fibonacci(4)\n",
    "next(new)\n",
    "next(new)\n",
    "next(new)\n",
    "next(new)\n"
   ]
  },
  {
   "cell_type": "code",
   "execution_count": 25,
   "id": "6f442007-1f21-4d8f-8c5f-0538dd96d1fa",
   "metadata": {},
   "outputs": [
    {
     "data": {
      "text/plain": [
       "['__add__',\n",
       " '__class__',\n",
       " '__contains__',\n",
       " '__delattr__',\n",
       " '__dir__',\n",
       " '__doc__',\n",
       " '__eq__',\n",
       " '__format__',\n",
       " '__ge__',\n",
       " '__getattribute__',\n",
       " '__getitem__',\n",
       " '__getnewargs__',\n",
       " '__gt__',\n",
       " '__hash__',\n",
       " '__init__',\n",
       " '__init_subclass__',\n",
       " '__iter__',\n",
       " '__le__',\n",
       " '__len__',\n",
       " '__lt__',\n",
       " '__mod__',\n",
       " '__mul__',\n",
       " '__ne__',\n",
       " '__new__',\n",
       " '__reduce__',\n",
       " '__reduce_ex__',\n",
       " '__repr__',\n",
       " '__rmod__',\n",
       " '__rmul__',\n",
       " '__setattr__',\n",
       " '__sizeof__',\n",
       " '__str__',\n",
       " '__subclasshook__',\n",
       " 'capitalize',\n",
       " 'casefold',\n",
       " 'center',\n",
       " 'count',\n",
       " 'encode',\n",
       " 'endswith',\n",
       " 'expandtabs',\n",
       " 'find',\n",
       " 'format',\n",
       " 'format_map',\n",
       " 'index',\n",
       " 'isalnum',\n",
       " 'isalpha',\n",
       " 'isascii',\n",
       " 'isdecimal',\n",
       " 'isdigit',\n",
       " 'isidentifier',\n",
       " 'islower',\n",
       " 'isnumeric',\n",
       " 'isprintable',\n",
       " 'isspace',\n",
       " 'istitle',\n",
       " 'isupper',\n",
       " 'join',\n",
       " 'ljust',\n",
       " 'lower',\n",
       " 'lstrip',\n",
       " 'maketrans',\n",
       " 'partition',\n",
       " 'removeprefix',\n",
       " 'removesuffix',\n",
       " 'replace',\n",
       " 'rfind',\n",
       " 'rindex',\n",
       " 'rjust',\n",
       " 'rpartition',\n",
       " 'rsplit',\n",
       " 'rstrip',\n",
       " 'split',\n",
       " 'splitlines',\n",
       " 'startswith',\n",
       " 'strip',\n",
       " 'swapcase',\n",
       " 'title',\n",
       " 'translate',\n",
       " 'upper',\n",
       " 'zfill']"
      ]
     },
     "execution_count": 25,
     "metadata": {},
     "output_type": "execute_result"
    }
   ],
   "source": [
    "#dir are used to identify the iterable and iteration\n",
    "#iterable >== iter method( example >==string)\n",
    "dir(\"hey\")"
   ]
  },
  {
   "cell_type": "code",
   "execution_count": 31,
   "id": "f3ea06ce-fef8-4bbd-b219-ffa3b4e91821",
   "metadata": {},
   "outputs": [
    {
     "data": {
      "text/plain": [
       "2"
      ]
     },
     "execution_count": 31,
     "metadata": {},
     "output_type": "execute_result"
    }
   ],
   "source": [
    "#genertaor class\n",
    "#all iterators are not generators but all generators are  iterartors\n",
    "\n",
    "class FirstGenerator:\n",
    "    def __init__(self):\n",
    "        self.number=0\n",
    "\n",
    "    def __next__(self):\n",
    "        if self.number<5:\n",
    "            current=self.number\n",
    "            self.number=self.number+1\n",
    "            return current\n",
    "\n",
    "        else:\n",
    "            raise StopIteration()\n",
    "\n",
    "f1=FirstGenerator()\n",
    "next(f1)\n",
    "next(f1)\n",
    "next(f1)\n",
    "\n",
    "\n",
    "            "
   ]
  },
  {
   "cell_type": "code",
   "execution_count": 36,
   "id": "184b2458-54b3-46eb-9aa2-6f07dfceac7e",
   "metadata": {},
   "outputs": [
    {
     "data": {
      "text/plain": [
       "'e'"
      ]
     },
     "execution_count": 36,
     "metadata": {},
     "output_type": "execute_result"
    }
   ],
   "source": [
    "#for loops executes iterators method\n",
    "\n",
    "#iter() method convert iterable ito interator after that we can access \n",
    "#any data by next method\n",
    "s_iter =  iter(\"hey\")\n",
    "next(s_iter)\n",
    "next(s_iter)\n",
    "\n",
    "#iterator return the stopiteration errpr if element is not found\n",
    "#size of generators >=== infinite numbers \n",
    "\n",
    "#classes object\n",
    "#function \n",
    "#generators\n"
   ]
  },
  {
   "cell_type": "code",
   "execution_count": 37,
   "id": "f083fc26-6010-43a9-8ad6-a6a5c85f596c",
   "metadata": {},
   "outputs": [
    {
     "data": {
      "text/plain": [
       "['__add__',\n",
       " '__class__',\n",
       " '__class_getitem__',\n",
       " '__contains__',\n",
       " '__delattr__',\n",
       " '__delitem__',\n",
       " '__dir__',\n",
       " '__doc__',\n",
       " '__eq__',\n",
       " '__format__',\n",
       " '__ge__',\n",
       " '__getattribute__',\n",
       " '__getitem__',\n",
       " '__gt__',\n",
       " '__hash__',\n",
       " '__iadd__',\n",
       " '__imul__',\n",
       " '__init__',\n",
       " '__init_subclass__',\n",
       " '__iter__',\n",
       " '__le__',\n",
       " '__len__',\n",
       " '__lt__',\n",
       " '__mul__',\n",
       " '__ne__',\n",
       " '__new__',\n",
       " '__reduce__',\n",
       " '__reduce_ex__',\n",
       " '__repr__',\n",
       " '__reversed__',\n",
       " '__rmul__',\n",
       " '__setattr__',\n",
       " '__setitem__',\n",
       " '__sizeof__',\n",
       " '__str__',\n",
       " '__subclasshook__',\n",
       " 'append',\n",
       " 'clear',\n",
       " 'copy',\n",
       " 'count',\n",
       " 'extend',\n",
       " 'index',\n",
       " 'insert',\n",
       " 'pop',\n",
       " 'remove',\n",
       " 'reverse',\n",
       " 'sort']"
      ]
     },
     "execution_count": 37,
     "metadata": {},
     "output_type": "execute_result"
    }
   ],
   "source": [
    "dir([10,20,30])"
   ]
  },
  {
   "cell_type": "code",
   "execution_count": null,
   "id": "7eba6f9e-0c67-46cd-bd72-1b1c630b4c39",
   "metadata": {},
   "outputs": [],
   "source": []
  }
 ],
 "metadata": {
  "kernelspec": {
   "display_name": "Python 3 (ipykernel)",
   "language": "python",
   "name": "python3"
  },
  "language_info": {
   "codemirror_mode": {
    "name": "ipython",
    "version": 3
   },
   "file_extension": ".py",
   "mimetype": "text/x-python",
   "name": "python",
   "nbconvert_exporter": "python",
   "pygments_lexer": "ipython3",
   "version": "3.10.11"
  }
 },
 "nbformat": 4,
 "nbformat_minor": 5
}
