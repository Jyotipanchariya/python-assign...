{
 "cells": [
  {
   "cell_type": "markdown",
   "id": "8009a1f4-77b4-4e45-b897-dbca8cf949c7",
   "metadata": {},
   "source": [
    "# RECURSION PRIME NUMBER\n"
   ]
  },
  {
   "cell_type": "code",
   "execution_count": 1,
   "id": "aa847ab1-5aa3-4cfa-a25a-31c80c67dd84",
   "metadata": {},
   "outputs": [
    {
     "name": "stdout",
     "output_type": "stream",
     "text": [
      "No, 567 is not a Prime\n"
     ]
    }
   ],
   "source": [
    "def Prime_Number(n):\n",
    "    for i in range(2,1+n//2):\n",
    "        if n % i == 0:\n",
    "            return False\n",
    "    return True\n",
    "\n",
    "\n",
    "n = 567\n",
    "if Prime_Number(n):\n",
    "    print(\"Yes,\", n, \"is Prime\")\n",
    "else:\n",
    "    print(\"No,\", n, \"is not a Prime\")"
   ]
  },
  {
   "cell_type": "markdown",
   "id": "123fee1e-4862-4854-b538-b9a8547a8387",
   "metadata": {},
   "source": [
    "# Co prime or not "
   ]
  },
  {
   "cell_type": "code",
   "execution_count": 4,
   "id": "efd1ef14-75d6-4161-8744-c46e6eb6519a",
   "metadata": {},
   "outputs": [
    {
     "name": "stdin",
     "output_type": "stream",
     "text": [
      "Enter first number:  667\n",
      "Enter second number:  33\n"
     ]
    },
    {
     "name": "stdout",
     "output_type": "stream",
     "text": [
      "667 and 33 are coprime\n"
     ]
    }
   ],
   "source": [
    "def coprime(a,b):\n",
    "    \n",
    "    hcf = 1\n",
    "\n",
    "    for i in range(1, a+1):\n",
    "        if a%i==0 and b%i==0:\n",
    "            hcf = i\n",
    "\n",
    "    return hcf == 1\n",
    "\n",
    "\n",
    "x = int(input('Enter first number: '))\n",
    "y = int(input('Enter second number: '))\n",
    "\n",
    "if coprime(x,y ):\n",
    "    print('%d and %d are coprime' %(x, y))\n",
    "else:\n",
    "    print('%d and %d are NOT ' %(x, y))"
   ]
  },
  {
   "cell_type": "code",
   "execution_count": null,
   "id": "445ca735-def3-45ab-a046-078521c25225",
   "metadata": {},
   "outputs": [],
   "source": []
  }
 ],
 "metadata": {
  "kernelspec": {
   "display_name": "Python 3 (ipykernel)",
   "language": "python",
   "name": "python3"
  },
  "language_info": {
   "codemirror_mode": {
    "name": "ipython",
    "version": 3
   },
   "file_extension": ".py",
   "mimetype": "text/x-python",
   "name": "python",
   "nbconvert_exporter": "python",
   "pygments_lexer": "ipython3",
   "version": "3.10.11"
  }
 },
 "nbformat": 4,
 "nbformat_minor": 5
}
