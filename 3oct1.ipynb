{
 "cells": [
  {
   "cell_type": "code",
   "execution_count": 2,
   "id": "69a1457e-9503-42fc-aa9f-bbda52eb7cfd",
   "metadata": {},
   "outputs": [
    {
     "name": "stdout",
     "output_type": "stream",
     "text": [
      "Uncle class\n"
     ]
    }
   ],
   "source": [
    "class Father:\n",
    "    def info(self):\n",
    "        print(\"Father Class\")\n",
    "\n",
    "class Uncle:\n",
    "    def info(self):\n",
    "        print(\"Uncle class\")\n",
    "\n",
    "class child(Uncle,Father):\n",
    "    def new(self):\n",
    "        print(\"child class\")\n",
    "\n",
    "c1=child()\n",
    "c1.info()"
   ]
  },
  {
   "cell_type": "code",
   "execution_count": 5,
   "id": "24418984-3ec2-4bf2-88ef-1e04d1cfecc3",
   "metadata": {},
   "outputs": [
    {
     "data": {
      "text/plain": [
       "100"
      ]
     },
     "execution_count": 5,
     "metadata": {},
     "output_type": "execute_result"
    }
   ],
   "source": [
    "# class variable\n",
    "\n",
    "class Employee:\n",
    "    user=\"regex\"\n",
    "\n",
    "    def __init__(self,num):\n",
    "         self.id=num\n",
    "\n",
    "e1=Employee(100)\n",
    "e1.id\n"
   ]
  },
  {
   "cell_type": "code",
   "execution_count": 8,
   "id": "e5e56795-1cbb-4cf0-934d-117ec0ad5e4e",
   "metadata": {},
   "outputs": [
    {
     "data": {
      "text/plain": [
       "'regex'"
      ]
     },
     "execution_count": 8,
     "metadata": {},
     "output_type": "execute_result"
    }
   ],
   "source": [
    "class Employee:\n",
    "    def __init__(self,id,company):\n",
    "        self.id=id\n",
    "        self.company=company\n",
    "\n",
    "e1=Employee(100,\"regex\")\n",
    "e1.company"
   ]
  },
  {
   "cell_type": "code",
   "execution_count": 9,
   "id": "6398ba1a-239e-46f4-997b-14dbed92d657",
   "metadata": {},
   "outputs": [
    {
     "data": {
      "text/plain": [
       "'regex123'"
      ]
     },
     "execution_count": 9,
     "metadata": {},
     "output_type": "execute_result"
    }
   ],
   "source": [
    "e2=Employee(990,\"regex123\")\n",
    "e2.company"
   ]
  },
  {
   "cell_type": "code",
   "execution_count": 10,
   "id": "7b469706-ddfb-4819-a8a0-4d2ed24f7580",
   "metadata": {},
   "outputs": [
    {
     "name": "stdout",
     "output_type": "stream",
     "text": [
      "User has 100 regex \n",
      "Salary is  890\n",
      "User has 1100 xyz \n",
      "Salary is  999\n"
     ]
    }
   ],
   "source": [
    "class Employee:\n",
    "    \n",
    "    def __init__(self,id, name, salary,dept):\n",
    "        self.id=id\n",
    "        self.name=name\n",
    "        self.salary=salary\n",
    "        self.dept=dept\n",
    "        \n",
    "    def  information(self):\n",
    "        print(\"User has\", self.id,  self.name,\"\\nSalary is \",  self.salary )\n",
    "    \n",
    "e1=Employee(100,\"regex\",890,\"hr\")\n",
    "e1.information()\n",
    "\n",
    "e2=Employee(1100,\"xyz\",999,\"marketing\")\n",
    "e2.information()"
   ]
  },
  {
   "cell_type": "code",
   "execution_count": 11,
   "id": "a0f325e0-f283-41c3-86c5-818f1c7fa862",
   "metadata": {},
   "outputs": [
    {
     "name": "stdout",
     "output_type": "stream",
     "text": [
      "information is 10  aman  aman@gmail.com\n"
     ]
    }
   ],
   "source": [
    "class Driver:\n",
    "    def __init__(self, id, name, email):\n",
    "        self.id=id\n",
    "        self.name=name\n",
    "        self.email=email\n",
    "        \n",
    "    def info(self):\n",
    "        print( f\"information is {self.id}  {self.name}  {self.email}\")\n",
    "              \n",
    "d1=Driver(10,\"aman\",\"aman@gmail.com\")\n",
    "\n",
    "d1.info()"
   ]
  },
  {
   "cell_type": "code",
   "execution_count": 12,
   "id": "d2091156-8e67-4d62-8009-5d5878d0a2e1",
   "metadata": {},
   "outputs": [
    {
     "data": {
      "text/plain": [
       "'Gauri'"
      ]
     },
     "execution_count": 12,
     "metadata": {},
     "output_type": "execute_result"
    }
   ],
   "source": [
    "class Customer( Driver):\n",
    "    def __init__(self, cid, cname, cemail, wallet):\n",
    "        \n",
    "        super().__init__(cid, cname, cemail)\n",
    "        self.wallet=wallet\n",
    "        \n",
    "        \n",
    "c1=Customer(89, \"Gauri\",\"gauri@gmail.com\",1891)\n",
    "c1.wallet\n",
    "c1.name\n"
   ]
  },
  {
   "cell_type": "code",
   "execution_count": 13,
   "id": "253d8a33-3d12-4c60-b047-87a76f2d4abf",
   "metadata": {},
   "outputs": [
    {
     "data": {
      "text/plain": [
       "1500"
      ]
     },
     "execution_count": 13,
     "metadata": {},
     "output_type": "execute_result"
    }
   ],
   "source": [
    "class Father:\n",
    "    amount=1500\n",
    "    \n",
    "# child( Parent)\n",
    "class bache( Father ):\n",
    "    salary=100\n",
    "    \n",
    "b1=bache()\n",
    "b1.amount"
   ]
  },
  {
   "cell_type": "code",
   "execution_count": null,
   "id": "4affc14a-da9e-4ae8-afd7-f315160cd8ee",
   "metadata": {},
   "outputs": [],
   "source": []
  }
 ],
 "metadata": {
  "kernelspec": {
   "display_name": "Python 3 (ipykernel)",
   "language": "python",
   "name": "python3"
  },
  "language_info": {
   "codemirror_mode": {
    "name": "ipython",
    "version": 3
   },
   "file_extension": ".py",
   "mimetype": "text/x-python",
   "name": "python",
   "nbconvert_exporter": "python",
   "pygments_lexer": "ipython3",
   "version": "3.10.11"
  }
 },
 "nbformat": 4,
 "nbformat_minor": 5
}
