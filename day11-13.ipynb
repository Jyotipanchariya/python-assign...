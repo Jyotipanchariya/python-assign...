{
 "cells": [
  {
   "cell_type": "code",
   "execution_count": 4,
   "id": "5a4e22b0-52a5-4c0f-9e4c-8fb143b75692",
   "metadata": {},
   "outputs": [
    {
     "name": "stdout",
     "output_type": "stream",
     "text": [
      "Jesty\n"
     ]
    }
   ],
   "source": [
    "#day11-13\n",
    "name=\"Jesty\"\n",
    "print(name)"
   ]
  },
  {
   "cell_type": "code",
   "execution_count": 5,
   "id": "d1006e16-7288-4cad-be7b-0412b2351500",
   "metadata": {},
   "outputs": [
    {
     "name": "stdout",
     "output_type": "stream",
     "text": [
      "hey i am good \n",
      "and lets have a fun today\n"
     ]
    }
   ],
   "source": [
    "apple='''hey i am good \n",
    "and lets have a fun today'''\n",
    "print(apple)"
   ]
  },
  {
   "cell_type": "code",
   "execution_count": 6,
   "id": "d71c3a55-4c17-4793-bc09-35d1507004bd",
   "metadata": {},
   "outputs": [
    {
     "name": "stdout",
     "output_type": "stream",
     "text": [
      "hey i am here and \n",
      "you wanna check my phone \n",
      "no i am not goinf to do that \n",
      "okay bye\n"
     ]
    }
   ],
   "source": [
    "st=\"\"\"hey i am here and \n",
    "you wanna check my phone \n",
    "no i am not goinf to do that \n",
    "okay bye\"\"\"\n",
    "print(st)"
   ]
  },
  {
   "cell_type": "code",
   "execution_count": 12,
   "id": "17cc8125-be06-4ef1-82d2-ac563e6c2792",
   "metadata": {},
   "outputs": [
    {
     "name": "stdout",
     "output_type": "stream",
     "text": [
      "Hello, Jesty\n",
      "J\n",
      "e\n",
      "s\n",
      "t\n",
      "y\n"
     ]
    }
   ],
   "source": [
    "print(\"Hello, \"+ name)\n",
    "print(name[0])\n",
    "print(name[1])\n",
    "print(name[2])\n",
    "print(name[3])\n",
    "print(name[4])"
   ]
  },
  {
   "cell_type": "code",
   "execution_count": 13,
   "id": "646c8d70-3465-430f-86aa-67ebae15ef2f",
   "metadata": {},
   "outputs": [
    {
     "name": "stdout",
     "output_type": "stream",
     "text": [
      "J\n",
      "e\n",
      "s\n",
      "t\n",
      "y\n"
     ]
    }
   ],
   "source": [
    "for character in name:\n",
    "    print(character)"
   ]
  },
  {
   "cell_type": "code",
   "execution_count": 14,
   "id": "d96284ad-419f-44b1-b971-6679576e5bb3",
   "metadata": {},
   "outputs": [
    {
     "name": "stdout",
     "output_type": "stream",
     "text": [
      "11\n"
     ]
    }
   ],
   "source": [
    "#string slicing\n",
    "names=\"Jesty,Jyoti\"\n",
    "print(len(names))"
   ]
  },
  {
   "cell_type": "code",
   "execution_count": 15,
   "id": "e61317ad-aec8-4b52-aea0-a84629bdfa92",
   "metadata": {},
   "outputs": [
    {
     "name": "stdout",
     "output_type": "stream",
     "text": [
      "Jest\n"
     ]
    }
   ],
   "source": [
    "print(names[0:4])"
   ]
  },
  {
   "cell_type": "code",
   "execution_count": 18,
   "id": "b3dc45bc-1959-4eab-b865-d53ad84186e9",
   "metadata": {},
   "outputs": [
    {
     "name": "stdout",
     "output_type": "stream",
     "text": [
      "est\n"
     ]
    }
   ],
   "source": [
    "print(names[1:4])"
   ]
  },
  {
   "cell_type": "code",
   "execution_count": 19,
   "id": "c47b9678-f78b-4882-9469-ffaa31ea8eab",
   "metadata": {},
   "outputs": [
    {
     "name": "stdout",
     "output_type": "stream",
     "text": [
      "Jesty,Jyoti\n"
     ]
    }
   ],
   "source": [
    "print(names[:])"
   ]
  },
  {
   "cell_type": "code",
   "execution_count": 20,
   "id": "1184369a-530a-4087-ba82-0805ef21fdb0",
   "metadata": {},
   "outputs": [
    {
     "name": "stdout",
     "output_type": "stream",
     "text": [
      "Jesty,Jy\n"
     ]
    }
   ],
   "source": [
    "print(names[0:-3])"
   ]
  },
  {
   "cell_type": "code",
   "execution_count": 26,
   "id": "3bb094e5-7425-4559-b0f1-7d1368db322f",
   "metadata": {},
   "outputs": [
    {
     "name": "stdout",
     "output_type": "stream",
     "text": [
      "al\n"
     ]
    }
   ],
   "source": [
    "name=\"anjali\"\n",
    "print(name[-3:-1])"
   ]
  },
  {
   "cell_type": "code",
   "execution_count": 28,
   "id": "6f1c6c2c-8b1a-4452-80fc-5d41243458a9",
   "metadata": {},
   "outputs": [
    {
     "name": "stdout",
     "output_type": "stream",
     "text": [
      "ar\n"
     ]
    }
   ],
   "source": [
    "name=\"Harry\"\n",
    "print(name[-4:-2])"
   ]
  },
  {
   "cell_type": "code",
   "execution_count": 30,
   "id": "a0a9e74d-782a-4ea9-ac7f-e282240d72d0",
   "metadata": {},
   "outputs": [
    {
     "name": "stdout",
     "output_type": "stream",
     "text": [
      "JESTY\n"
     ]
    }
   ],
   "source": [
    "a=\"Jesty!!!!!!!!!!!!\"\n",
    "print(a.upper())"
   ]
  },
  {
   "cell_type": "code",
   "execution_count": 33,
   "id": "8bfa4984-5d5f-4828-bd25-b185106fe3e7",
   "metadata": {},
   "outputs": [
    {
     "name": "stdout",
     "output_type": "stream",
     "text": [
      "jyoti \n"
     ]
    }
   ],
   "source": [
    "b=\"JYOTI \"\n",
    "print(b.lower())\n"
   ]
  },
  {
   "cell_type": "code",
   "execution_count": 32,
   "id": "cef07ffe-e72e-4b2e-9345-4f523a1e1afe",
   "metadata": {},
   "outputs": [
    {
     "name": "stdout",
     "output_type": "stream",
     "text": [
      "Jesty\n"
     ]
    }
   ],
   "source": [
    "print(a.rstrip())"
   ]
  },
  {
   "cell_type": "code",
   "execution_count": 41,
   "id": "f44ac913-6e9c-4c12-a59f-3e9867b475b0",
   "metadata": {},
   "outputs": [
    {
     "name": "stdout",
     "output_type": "stream",
     "text": [
      "Garvita\n"
     ]
    }
   ],
   "source": [
    "print(a.replace(\"Jesty\", \"Garvita\"))"
   ]
  },
  {
   "cell_type": "code",
   "execution_count": 42,
   "id": "26d53104-e016-4cd2-a19d-3613957d2f33",
   "metadata": {},
   "outputs": [
    {
     "name": "stdout",
     "output_type": "stream",
     "text": [
      "['Jesty']\n"
     ]
    }
   ],
   "source": [
    "print(a.split(\" \"))"
   ]
  },
  {
   "cell_type": "code",
   "execution_count": 43,
   "id": "201cd1b3-d605-4e3e-971e-3e3e791d60d2",
   "metadata": {},
   "outputs": [
    {
     "name": "stdout",
     "output_type": "stream",
     "text": [
      "Jenni\n"
     ]
    }
   ],
   "source": [
    "a=\"jenni\"\n",
    "capa=a.capitalize()\n",
    "print(capa)"
   ]
  },
  {
   "cell_type": "code",
   "execution_count": 44,
   "id": "ae6a26ba-2c66-495d-9885-ef5b389b1e83",
   "metadata": {},
   "outputs": [
    {
     "name": "stdout",
     "output_type": "stream",
     "text": [
      "25\n"
     ]
    }
   ],
   "source": [
    "str1=\"Welcome to the Console!!!\"\n",
    "print(len(str1))"
   ]
  },
  {
   "cell_type": "code",
   "execution_count": 49,
   "id": "fdd264cf-7326-4341-9950-9b8fa53a27ea",
   "metadata": {},
   "outputs": [
    {
     "name": "stdout",
     "output_type": "stream",
     "text": [
      "4\n"
     ]
    }
   ],
   "source": [
    "str1=\"Welcome to the Console!!!\"\n",
    "countStr=str1.count(\"o\")\n",
    "print(countStr)"
   ]
  },
  {
   "cell_type": "code",
   "execution_count": 50,
   "id": "eb292719-a01f-437d-9695-c31f11122302",
   "metadata": {},
   "outputs": [
    {
     "name": "stdout",
     "output_type": "stream",
     "text": [
      "True\n"
     ]
    }
   ],
   "source": [
    "str2=\"Welcome to the console!!!\"\n",
    "print(str2.endswith(\"!!\"))"
   ]
  }
 ],
 "metadata": {
  "kernelspec": {
   "display_name": "Python 3 (ipykernel)",
   "language": "python",
   "name": "python3"
  },
  "language_info": {
   "codemirror_mode": {
    "name": "ipython",
    "version": 3
   },
   "file_extension": ".py",
   "mimetype": "text/x-python",
   "name": "python",
   "nbconvert_exporter": "python",
   "pygments_lexer": "ipython3",
   "version": "3.10.11"
  }
 },
 "nbformat": 4,
 "nbformat_minor": 5
}
