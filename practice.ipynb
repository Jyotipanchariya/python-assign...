{
 "cells": [
  {
   "cell_type": "code",
   "execution_count": 1,
   "id": "96e5bc95-b586-430b-9f9f-f46acaa60ff7",
   "metadata": {},
   "outputs": [
    {
     "name": "stdout",
     "output_type": "stream",
     "text": [
      "hello world in python\n"
     ]
    }
   ],
   "source": [
    "print(\"hello world in python\")"
   ]
  },
  {
   "cell_type": "code",
   "execution_count": 2,
   "id": "f3bee368-2192-4cd0-a875-0cfeadfa05a4",
   "metadata": {},
   "outputs": [
    {
     "name": "stdout",
     "output_type": "stream",
     "text": [
      "HELLO WORLD\n",
      "HI HEAVEN\n"
     ]
    }
   ],
   "source": [
    "#print() >= function\n",
    "#print(parameter, sep = '', end ='\\n')\n",
    "print(\"HELLO WORLD\")\n",
    "print(\"HI HEAVEN\")"
   ]
  },
  {
   "cell_type": "code",
   "execution_count": 3,
   "id": "370b641c-0709-49ed-bc13-7b7028289c85",
   "metadata": {},
   "outputs": [
    {
     "name": "stdout",
     "output_type": "stream",
     "text": [
      "HELLO WORLD HI HEAVEN\n"
     ]
    }
   ],
   "source": [
    "#both in one line \n",
    "print(\"HELLO WORLD\" ,end = \" \")\n",
    "print(\"HI HEAVEN\")"
   ]
  },
  {
   "cell_type": "code",
   "execution_count": 6,
   "id": "e726d3fd-92c7-4cdc-9686-ee6ba35208fc",
   "metadata": {},
   "outputs": [
    {
     "name": "stdout",
     "output_type": "stream",
     "text": [
      "hello world\n"
     ]
    }
   ],
   "source": [
    "#topic 2 comments\n",
    "\n",
    "#comments >= start with #sign and they are of single line only\n",
    "#<'''juijdsdwdj'''>\n",
    "'''how to print hello world'''\n",
    "print(\"hello world\")"
   ]
  },
  {
   "cell_type": "code",
   "execution_count": 7,
   "id": "44f47f98-9406-48ac-b776-af50bdef387c",
   "metadata": {},
   "outputs": [
    {
     "name": "stdout",
     "output_type": "stream",
     "text": [
      "50\n",
      "3.14\n",
      "hello\n"
     ]
    }
   ],
   "source": [
    "#topic 3 variables\n",
    "#a variables contains address of an object but the value is stored at memory location referred by\n",
    "#variable.\n",
    "#python identifier is a name used to identify a variable ,function, class, module or other abject\n",
    "#an identifier starts with a letter A TO Z or a to z (_) followed by 0 or like letter digits(0 to 9)\n",
    "#variables does not allow any punctuation character such @ ,$,% with identifiers\n",
    "#case sensitive programming language like Manpower and manpower both are different\n",
    "#identifier cannot be reserved keyword\n",
    "\n",
    "count=50 #it is an integer assignment\n",
    "pi=3.14 #it is an floating point assignment\n",
    "name=\"hello\" #it is a string assignment\n",
    "print(count)\n",
    "print(pi)\n",
    "print(name)"
   ]
  },
  {
   "cell_type": "code",
   "execution_count": 8,
   "id": "9baf46a1-338d-46bc-8f17-5ec2aef1b6f4",
   "metadata": {},
   "outputs": [
    {
     "name": "stdout",
     "output_type": "stream",
     "text": [
      "10\n",
      "10\n"
     ]
    }
   ],
   "source": [
    "a=b=10\n",
    "print(a)\n",
    "print(b)"
   ]
  },
  {
   "cell_type": "code",
   "execution_count": 9,
   "id": "16f222b4-bedc-4dbe-8329-5d35558f7ab0",
   "metadata": {},
   "outputs": [
    {
     "name": "stdout",
     "output_type": "stream",
     "text": [
      "50\n",
      "3.14\n",
      "hello\n"
     ]
    }
   ],
   "source": [
    "count,pi,name=50, 3.14,\"hello\"\n",
    "print(count)\n",
    "print(pi)\n",
    "print(name)"
   ]
  },
  {
   "cell_type": "code",
   "execution_count": 10,
   "id": "4032d4c2-5cf5-4d17-9b79-c7e244ad76cc",
   "metadata": {},
   "outputs": [
    {
     "name": "stdout",
     "output_type": "stream",
     "text": [
      "This is a string \n",
      "and this string will preserve \n",
      "new line\n"
     ]
    }
   ],
   "source": [
    "# DATA TYPES IN PYTHON\n",
    "#1. NUMBERS (eg-- 10,100,-678)\n",
    "#it can be integer type , floating type or any data type\n",
    "#numbers data type are immutuable data type \n",
    "\n",
    "#int(x) long(x) float(x)\n",
    "\n",
    "#2. STRING\n",
    "#s1='PYTHON' #it is  a string\n",
    "#s2=\"PYTHON\" #it is a string also\n",
    "\n",
    "s1=\"\"\"This is a string \n",
    "and this string will preserve \n",
    "new line\"\"\"\n",
    "print(s1)"
   ]
  },
  {
   "cell_type": "code",
   "execution_count": 14,
   "id": "2d0e6465-677b-4aa2-867e-f920246dd1c0",
   "metadata": {},
   "outputs": [
    {
     "name": "stdout",
     "output_type": "stream",
     "text": [
      "10 2083352412688\n",
      "15 2083352412848\n",
      "10 2083352412688\n"
     ]
    }
   ],
   "source": [
    "##Immutable and mutable data type \n",
    "#Immutable >== number and string and tuple and frozen set\n",
    "#>==values cannot be changed but variable can change the address \n",
    "#for eg a=1 a=2\n",
    "\n",
    "##Mutable data type  >== list ,dict,set\n",
    "#In case of mutable data type whenever any changes in value of variable\n",
    "#takes place then variable continue o point old memory location and value at the same memory location get\n",
    "#changed.\n",
    "a=10\n",
    "print(a, id(a))\n",
    "\n",
    "a=15\n",
    "print(a, id(a))\n",
    "\n",
    "a=10\n",
    "print(a, id(a))\n"
   ]
  },
  {
   "cell_type": "code",
   "execution_count": 15,
   "id": "976cfc0e-3467-4534-9468-ac542d54b9f4",
   "metadata": {},
   "outputs": [
    {
     "name": "stdout",
     "output_type": "stream",
     "text": [
      "10\n"
     ]
    },
    {
     "ename": "NameError",
     "evalue": "name 'a' is not defined",
     "output_type": "error",
     "traceback": [
      "\u001b[1;31m---------------------------------------------------------------------------\u001b[0m",
      "\u001b[1;31mNameError\u001b[0m                                 Traceback (most recent call last)",
      "Cell \u001b[1;32mIn[15], line 7\u001b[0m\n\u001b[0;32m      5\u001b[0m \u001b[38;5;28mprint\u001b[39m(a)\n\u001b[0;32m      6\u001b[0m \u001b[38;5;28;01mdel\u001b[39;00m a\n\u001b[1;32m----> 7\u001b[0m \u001b[38;5;28mprint\u001b[39m(\u001b[43ma\u001b[49m)\n",
      "\u001b[1;31mNameError\u001b[0m: name 'a' is not defined"
     ]
    }
   ],
   "source": [
    "#GARBAGE COLLECTION AND DEL KEYWORD \n",
    "#The object's reference count decreases when it's deleted with del, its reference is reassigned, or its\n",
    "#reference goes out of scope.\n",
    "a = 10\n",
    "print(a)\n",
    "del a\n",
    "print(a)"
   ]
  },
  {
   "cell_type": "code",
   "execution_count": 16,
   "id": "17850696-358f-48af-abd8-5dcd7d0bfa3f",
   "metadata": {},
   "outputs": [
    {
     "name": "stdout",
     "output_type": "stream",
     "text": [
      "a =  10 id(a) =  2083352412688\n",
      "b =  10 id(a) =  2083352412688\n",
      "\n",
      "b =  10 id(b) =  2083352412688\n"
     ]
    }
   ],
   "source": [
    "#AN EXAMPLE\n",
    "a=10\n",
    "b=10\n",
    "\n",
    "print(\"a = \",a,\"id(a) = \",id(b))\n",
    "print(\"b = \",b,\"id(a) = \",id(b))\n",
    "del a\n",
    "\n",
    "print(\"\\nb = \",b,\"id(b) = \",id(b))\n",
    "del b\n",
    "\n",
    "\n"
   ]
  },
  {
   "cell_type": "code",
   "execution_count": 18,
   "id": "54761623-70a0-40d7-82a6-b0e45250bd73",
   "metadata": {},
   "outputs": [
    {
     "name": "stdout",
     "output_type": "stream",
     "text": [
      "20.5\n"
     ]
    }
   ],
   "source": [
    "#The process of converting the value of one data type (integer, string, float, etc.) to another data type is\n",
    "#TYPE CONVERSION >==TWO types of \n",
    "#1.Explicit Type Conversion ==>>  int() , float(), chr()\n",
    "#2.In Implicit type conversion ==>> eg--------\n",
    "a=10\n",
    "b=10.5\n",
    "c=a+b\n",
    "print(c)\n"
   ]
  },
  {
   "cell_type": "code",
   "execution_count": 19,
   "id": "f7c8b2d1-0dc8-48c1-b9f5-746baaa12bfe",
   "metadata": {},
   "outputs": [
    {
     "name": "stdout",
     "output_type": "stream",
     "text": [
      "8\n",
      "2\n",
      "15\n",
      "1.6666666666666667\n",
      "1\n",
      "2\n",
      "125\n"
     ]
    }
   ],
   "source": [
    "#OPERATORS\n",
    "\n",
    "#An operator is a symbol that represents an operation or action. The values on which action is applied are\n",
    "#known as operands. A combination or operator and operand is known as expression.\n",
    "\n",
    "# unary operator (eg +,-,~)\n",
    "# binary operators (eg *,/,<,>,+,-)\n",
    "# ternary operators \n",
    "\n",
    "#TYPES OF OPERATORS \n",
    "#1. ARTHMETIC OPERATORS\n",
    "#+,-,*,/,//,%,**\n",
    "\n",
    "x=5\n",
    "y=3\n",
    "\n",
    "print(x+y)\n",
    "print(x-y)\n",
    "print(x*y)\n",
    "print(x/y)\n",
    "print(x//y)\n",
    "print(x%y)\n",
    "print(x**y)"
   ]
  },
  {
   "cell_type": "code",
   "execution_count": 20,
   "id": "0a0122b6-12b8-42f5-84e5-7cbbafd0a662",
   "metadata": {},
   "outputs": [
    {
     "name": "stdout",
     "output_type": "stream",
     "text": [
      "abcdef\n",
      "abc45\n",
      "abcabcabc\n"
     ]
    }
   ],
   "source": [
    "# + AND * also work for string and list data type \n",
    "s1='abc'\n",
    "print(s1+ 'def')\n",
    "print(s1 + str(45))\n",
    "print(s1 *3)"
   ]
  },
  {
   "cell_type": "code",
   "execution_count": null,
   "id": "44bc9aea-6b52-49b8-b701-163c4fde3c5c",
   "metadata": {},
   "outputs": [],
   "source": []
  }
 ],
 "metadata": {
  "kernelspec": {
   "display_name": "Python 3 (ipykernel)",
   "language": "python",
   "name": "python3"
  },
  "language_info": {
   "codemirror_mode": {
    "name": "ipython",
    "version": 3
   },
   "file_extension": ".py",
   "mimetype": "text/x-python",
   "name": "python",
   "nbconvert_exporter": "python",
   "pygments_lexer": "ipython3",
   "version": "3.10.11"
  }
 },
 "nbformat": 4,
 "nbformat_minor": 5
}
