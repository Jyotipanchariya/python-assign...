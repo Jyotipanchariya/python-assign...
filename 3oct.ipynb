{
 "cells": [
  {
   "cell_type": "code",
   "execution_count": 10,
   "id": "86b86c74-d94f-471a-90ee-80918c89fd33",
   "metadata": {},
   "outputs": [
    {
     "name": "stdout",
     "output_type": "stream",
     "text": [
      "\n",
      "Invert Pyramid\n",
      "\n",
      "  *****   \n",
      "   ****   \n",
      "   ***    \n",
      "    **    \n",
      "    *     \n"
     ]
    }
   ],
   "source": [
    "print(\"\\nInvert Pyramid\\n\")\n",
    "for i in range(5):\n",
    "    x='*'\n",
    "    x=x*(5-i)\n",
    "    print(f'{x: ^10}')"
   ]
  },
  {
   "cell_type": "code",
   "execution_count": 13,
   "id": "77b6c12b-42fc-44c6-98b6-782040438b5e",
   "metadata": {},
   "outputs": [
    {
     "name": "stdout",
     "output_type": "stream",
     "text": [
      "\n",
      " left sidee pyramid\n",
      "\n",
      "          \n",
      "*         \n",
      "**        \n",
      "***       \n",
      "****      \n",
      "*****     \n"
     ]
    }
   ],
   "source": [
    "print(\"\\n left side pyramid\\n\")\n",
    "for i in range(6):\n",
    "    x='*'\n",
    "    x=x*i\n",
    "    print(f'{x:<10}')"
   ]
  },
  {
   "cell_type": "code",
   "execution_count": 15,
   "id": "f5835f7a-174b-46f7-9a04-2fee39ebba12",
   "metadata": {},
   "outputs": [
    {
     "name": "stdout",
     "output_type": "stream",
     "text": [
      "\n",
      " right side pyramid\n",
      "\n",
      "          \n",
      "         *\n",
      "        **\n",
      "       ***\n",
      "      ****\n",
      "     *****\n",
      "    ******\n",
      "   *******\n"
     ]
    }
   ],
   "source": [
    "print(\"\\n right side pyramid\\n\")\n",
    "for i in range(8):\n",
    "    x='*'\n",
    "    x=x*i\n",
    "    print(f'{x:>10}')"
   ]
  },
  {
   "cell_type": "code",
   "execution_count": 20,
   "id": "1e184cff-83bb-4c32-83d5-b0fe00de7f7b",
   "metadata": {},
   "outputs": [
    {
     "name": "stdout",
     "output_type": "stream",
     "text": [
      "\n",
      " diamond pyramid\n",
      "\n",
      "          \n",
      "    *     \n",
      "    **    \n",
      "   ***    \n",
      "   ****   \n",
      "  *****   \n",
      "   ****   \n",
      "   ***    \n",
      "    **    \n",
      "    *     \n"
     ]
    }
   ],
   "source": [
    "print(\"\\n diamond pyramid\\n\")\n",
    "for i in range(5):\n",
    "    x='*'\n",
    "    x=x*i\n",
    "    print(f'{x:^10}')\n",
    "for i in range(5):\n",
    "    x='*'\n",
    "    x=x*(5-i)\n",
    "    print(f'{x:^10}')"
   ]
  },
  {
   "cell_type": "code",
   "execution_count": 22,
   "id": "ea4c3bd5-4cfc-4b63-ac2a-0ccb0eae3c8b",
   "metadata": {},
   "outputs": [
    {
     "name": "stdout",
     "output_type": "stream",
     "text": [
      "\n",
      " print same number in a row\n",
      "\n",
      " \n",
      "1  \n",
      "2 2  \n",
      "3 3 3  \n",
      "4 4 4 4  \n",
      "5 5 5 5 5  \n"
     ]
    }
   ],
   "source": [
    "print(\"\\n print same number in a row\\n\")\n",
    "rows=6\n",
    "for i in range(rows):\n",
    "    for j in range(i):\n",
    "        print(i, end=' ')\n",
    "\n",
    "    print(' ')"
   ]
  },
  {
   "cell_type": "code",
   "execution_count": 21,
   "id": "8a7bf4e2-d9ff-4db1-9a64-84b8956ad0e5",
   "metadata": {},
   "outputs": [
    {
     "name": "stdout",
     "output_type": "stream",
     "text": [
      "\n",
      " numbers in sequence\n",
      "\n",
      "1 2 2 3 3 3 4 4 4 4 5 5 5 5 5  \n"
     ]
    }
   ],
   "source": [
    "print(\"\\n numbers in sequence\\n\")\n",
    "rows= 6 \n",
    "for i in range(rows):\n",
    "    for j in range(i):\n",
    "        print(i, end=' ')\n",
    "\n",
    "print(' ')"
   ]
  },
  {
   "cell_type": "code",
   "execution_count": 20,
   "id": "9d07c762-96a7-4a0d-8e3f-261860d611bb",
   "metadata": {},
   "outputs": [
    {
     "name": "stdout",
     "output_type": "stream",
     "text": [
      "\n",
      " number pattern\n",
      "\n",
      "1 1 1 1 1  \n",
      "2 2 2 2  \n",
      "3 3 3  \n",
      "4 4  \n",
      "5  \n"
     ]
    }
   ],
   "source": [
    "print(\"\\n number pattern\\n\")\n",
    "rows = 5\n",
    "c = 0\n",
    "for i in range(rows, 0, -1):\n",
    "    c += 1\n",
    "    for j in range(1, i + 1):\n",
    "        print(c, end=' ')\n",
    "    print(' ')"
   ]
  },
  {
   "cell_type": "code",
   "execution_count": 19,
   "id": "52626b22-2f3a-449f-aa1d-35a8687982fb",
   "metadata": {},
   "outputs": [
    {
     "name": "stdout",
     "output_type": "stream",
     "text": [
      "\n",
      " number pattern\n",
      "\n",
      "1  \n",
      "1 2  \n",
      "1 2 3  \n",
      "1 2 3 4  \n",
      "1 2 3 4 5  \n"
     ]
    }
   ],
   "source": [
    "print(\"\\n number pattern\\n\")\n",
    "rows = 5\n",
    "for i in range(1, rows + 1):\n",
    "    for j in range(1, i + 1):\n",
    "        print(j, end=' ')\n",
    "    print(' ')"
   ]
  },
  {
   "cell_type": "code",
   "execution_count": 18,
   "id": "60bb832e-8453-45c2-908d-b5d440258722",
   "metadata": {},
   "outputs": [
    {
     "name": "stdout",
     "output_type": "stream",
     "text": [
      "\n",
      " number pattern\n",
      "\n",
      "1  \n",
      "3 3  \n",
      "5 5 5  \n",
      "7 7 7 7  \n",
      "9 9 9 9 9  \n"
     ]
    }
   ],
   "source": [
    "print(\"\\n number pattern\\n\")\n",
    "rows = 5\n",
    "i = 1\n",
    "while i <= rows:\n",
    "    j = 1\n",
    "    while j <= i:\n",
    "        print((i * 2 - 1), end=\" \")\n",
    "        j = j + 1\n",
    "    i = i + 1\n",
    "    print(' ')"
   ]
  },
  {
   "cell_type": "code",
   "execution_count": 17,
   "id": "5285f63c-a0cb-4e83-8e34-0fa36fb0917b",
   "metadata": {},
   "outputs": [
    {
     "name": "stdout",
     "output_type": "stream",
     "text": [
      "\n",
      " reverse number\n",
      "\n",
      "5 5 5 5 5  \n",
      "4 4 4 4  \n",
      "3 3 3  \n",
      "2 2  \n",
      "1  \n"
     ]
    }
   ],
   "source": [
    "print(\"\\n reverse number\\n\")\n",
    "for i in range(rows, 0, -1):\n",
    "    num = i\n",
    "    for j in range(0, i):\n",
    "        print(num, end=' ')\n",
    "    print(\" \")"
   ]
  },
  {
   "cell_type": "code",
   "execution_count": null,
   "id": "e9b855ea-7207-44b1-aa28-b6092bb1b78d",
   "metadata": {},
   "outputs": [],
   "source": []
  }
 ],
 "metadata": {
  "kernelspec": {
   "display_name": "Python 3 (ipykernel)",
   "language": "python",
   "name": "python3"
  },
  "language_info": {
   "codemirror_mode": {
    "name": "ipython",
    "version": 3
   },
   "file_extension": ".py",
   "mimetype": "text/x-python",
   "name": "python",
   "nbconvert_exporter": "python",
   "pygments_lexer": "ipython3",
   "version": "3.10.11"
  }
 },
 "nbformat": 4,
 "nbformat_minor": 5
}
