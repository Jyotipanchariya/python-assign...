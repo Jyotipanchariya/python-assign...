{
 "cells": [
  {
   "cell_type": "code",
   "execution_count": 11,
   "id": "55b2e93f-5483-4d4c-890c-0ca9da4ba0b3",
   "metadata": {},
   "outputs": [
    {
     "name": "stdout",
     "output_type": "stream",
     "text": [
      "A \n",
      "B B \n",
      "C C C \n",
      "D D D D \n",
      "E E E E E \n"
     ]
    }
   ],
   "source": [
    "\n",
    "\n",
    "\t\n",
    "\n",
    "\tnum = 65\n",
    "\n",
    "\tfor i in range(0, n):\n",
    "\t\n",
    "\t\tfor j in range(0, i+1):\n",
    "\t\t\n",
    "\t\t\tch = chr(num)\n",
    "\t\t\n",
    "\t\t\n",
    "\t\t\tprint(ch, end=\" \")\n",
    "\t\n",
    "\t\tnum = num + 1\n",
    "\t\n",
    "\t\tprint(\"\\r\")\n",
    "\n",
    "n = 5\n",
    "\n"
   ]
  },
  {
   "cell_type": "code",
   "execution_count": 16,
   "id": "06389ef0-db75-4a58-b5bf-cd59b23b1f3a",
   "metadata": {},
   "outputs": [
    {
     "name": "stdout",
     "output_type": "stream",
     "text": [
      "A \n",
      "B B \n",
      "C C C \n",
      "D D D D \n",
      "E E E E E \n"
     ]
    }
   ],
   "source": [
    "\tn=5\n",
    "\n",
    "\tnum = 65\n",
    "\n",
    "\tfor i in range(0, n):\n",
    "\t\n",
    "\t\tfor j in range(0, i+1):\n",
    "\t\t\n",
    "\t\t\tch = chr(num)\n",
    "\t\t\n",
    "\t\t\n",
    "\t\t\tprint(ch, end=\" \")\n",
    "\t\n",
    "\t\tnum = num + 1\n",
    "\t\n",
    "\t\tprint(\"\\r\")\n",
    "\n",
    "\n"
   ]
  },
  {
   "cell_type": "code",
   "execution_count": 17,
   "id": "d7fd32a6-a3fe-4f06-b2b8-96a05b49487a",
   "metadata": {
    "scrolled": true
   },
   "outputs": [
    {
     "name": "stdout",
     "output_type": "stream",
     "text": [
      "A \n",
      "B B \n",
      "C C C \n",
      "D D D D \n",
      "E E E E E \n"
     ]
    }
   ],
   "source": [
    "\tn=5\n",
    "\n",
    "\tnum = 65\n",
    "\n",
    "\tfor i in range(0, n):\n",
    "\t\n",
    "\t\tfor j in range(0, i+1):\n",
    "\t\t\n",
    "\t\t\tch = chr(num)\n",
    "\t\t\n",
    "\t\t\n",
    "\t\t\tprint(ch, end=\" \")\n",
    "\t\n",
    "\t\tnum = num + 1\n",
    "\t\n",
    "\t\tprint(\"\\r\")\n"
   ]
  },
  {
   "cell_type": "code",
   "execution_count": null,
   "id": "7955cac6-f8b6-4670-8dab-e42156c945b8",
   "metadata": {},
   "outputs": [],
   "source": []
  }
 ],
 "metadata": {
  "kernelspec": {
   "display_name": "Python 3 (ipykernel)",
   "language": "python",
   "name": "python3"
  },
  "language_info": {
   "codemirror_mode": {
    "name": "ipython",
    "version": 3
   },
   "file_extension": ".py",
   "mimetype": "text/x-python",
   "name": "python",
   "nbconvert_exporter": "python",
   "pygments_lexer": "ipython3",
   "version": "3.10.11"
  }
 },
 "nbformat": 4,
 "nbformat_minor": 5
}
