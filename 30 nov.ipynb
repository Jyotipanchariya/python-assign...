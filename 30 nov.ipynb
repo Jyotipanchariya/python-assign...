{
 "cells": [
  {
   "cell_type": "code",
   "execution_count": 1,
   "id": "fbb2109c-572d-42c2-9b0c-1c47bd5aba45",
   "metadata": {},
   "outputs": [
    {
     "name": "stdout",
     "output_type": "stream",
     "text": [
      "<function func at 0x0000022DE64C5510>\n"
     ]
    }
   ],
   "source": [
    "def func():\n",
    "    print(\"hello\")\n",
    "\n",
    "x=func\n",
    "print(x)"
   ]
  },
  {
   "cell_type": "code",
   "execution_count": 2,
   "id": "0c356e3d-278a-4add-8135-f1b58dff5c15",
   "metadata": {},
   "outputs": [
    {
     "name": "stdout",
     "output_type": "stream",
     "text": [
      "hello\n"
     ]
    }
   ],
   "source": [
    "func()"
   ]
  },
  {
   "cell_type": "code",
   "execution_count": 11,
   "id": "ba201b2f-1527-49ea-b258-715537be3a1c",
   "metadata": {},
   "outputs": [
    {
     "name": "stdout",
     "output_type": "stream",
     "text": [
      "this is a regex function\n"
     ]
    }
   ],
   "source": [
    "def regex():\n",
    "    print(\"this is a regex function\")\n",
    "    return 100\n",
    "    \n",
    "x=regex()"
   ]
  },
  {
   "cell_type": "code",
   "execution_count": null,
   "id": "c9d25b78-d4e3-4fc9-ad75-b94ed666f423",
   "metadata": {},
   "outputs": [],
   "source": []
  },
  {
   "cell_type": "code",
   "execution_count": 18,
   "id": "e654983d-c091-4795-a552-e2ebc4810222",
   "metadata": {},
   "outputs": [
    {
     "name": "stdout",
     "output_type": "stream",
     "text": [
      "hey tushar here\n",
      "<function regex at 0x0000022DE64C5FC0>\n"
     ]
    }
   ],
   "source": [
    "def regex():\n",
    "    print(\"hello\")\n",
    "def tushar(num):\n",
    "    print(\"hey tushar here\")\n",
    "    return regex\n",
    "\n",
    "x=tushar(10)\n",
    "print(x)"
   ]
  },
  {
   "cell_type": "code",
   "execution_count": 19,
   "id": "bd2b1ed4-c6d0-453f-bb70-c4f1c26090d9",
   "metadata": {},
   "outputs": [],
   "source": [
    "#recursion - a function calling itself \n",
    "#uses ---simple  code ,task fast,\n",
    "#disadvantage --- memory consume( function value store in stack memory)\n",
    "#recursion exampleeeee-------\n"
   ]
  },
  {
   "cell_type": "markdown",
   "id": "ee8ac011-670a-4a76-81a2-5bddaaa94bff",
   "metadata": {},
   "source": [
    "# RECURSION\n",
    "\n"
   ]
  },
  {
   "cell_type": "code",
   "execution_count": 22,
   "id": "2d1d3344-b693-4b8d-ba79-dff40660446e",
   "metadata": {},
   "outputs": [
    {
     "name": "stdin",
     "output_type": "stream",
     "text": [
      "enter the number 5\n"
     ]
    },
    {
     "name": "stdout",
     "output_type": "stream",
     "text": [
      "120\n"
     ]
    }
   ],
   "source": [
    "a=int(input(\"enter the number\"))\n",
    "factorial=1\n",
    "for i in range(1,a+1):\n",
    "    factorial=factorial*i\n",
    "\n",
    "print(factorial)"
   ]
  },
  {
   "cell_type": "code",
   "execution_count": 2,
   "id": "b7e12904-90c4-47a0-8655-55a7354096dc",
   "metadata": {},
   "outputs": [
    {
     "name": "stdout",
     "output_type": "stream",
     "text": [
      "hey 2\n",
      "hey 1\n",
      "hey 0\n"
     ]
    }
   ],
   "source": [
    "def xyz(num):\n",
    "    print(\"hey\",num)\n",
    "    if num>0:\n",
    "        return xyz(num-1)\n",
    "    return\n",
    "    \n",
    "xyz(2)\n",
    "    "
   ]
  },
  {
   "cell_type": "code",
   "execution_count": 14,
   "id": "906f7571-5e44-43d0-8dd9-45e760542d32",
   "metadata": {},
   "outputs": [
    {
     "name": "stdout",
     "output_type": "stream",
     "text": [
      "120\n"
     ]
    }
   ],
   "source": [
    "#factorial using recusrion function\n",
    "\n",
    "def fact(num):\n",
    "    if (num==1):\n",
    "        return 1\n",
    "    return fact(num-1)*num\n",
    "\n",
    "print(fact(5))"
   ]
  },
  {
   "cell_type": "markdown",
   "id": "3ec93bca-1e8f-47fe-9a41-1eb441e2cf3f",
   "metadata": {},
   "source": [
    "# To find the product of two numbers with recursion \n"
   ]
  },
  {
   "cell_type": "code",
   "execution_count": 15,
   "id": "f4d9d39d-2d79-4894-97fa-9af9d0810c91",
   "metadata": {},
   "outputs": [
    {
     "name": "stdout",
     "output_type": "stream",
     "text": [
      "8\n"
     ]
    }
   ],
   "source": [
    "def productnumber(x,y):\n",
    "\n",
    "    if x<y:\n",
    "        return productnumber(y,x)\n",
    "\n",
    "    elif y!=0:\n",
    "        (3,2)\n",
    "        return (x+ productnumber(x,y-1))\n",
    "\n",
    "    else:\n",
    "        return 0\n",
    "\n",
    "\n",
    "x=4\n",
    "y=2\n",
    "print(productnumber(x,y))\n",
    "        "
   ]
  },
  {
   "cell_type": "markdown",
   "id": "88507ac9-45b6-497b-8ed8-8f0a06bebefa",
   "metadata": {},
   "source": [
    "# Take a input from a user and find out total count of number using recursion|"
   ]
  },
  {
   "cell_type": "code",
   "execution_count": 23,
   "id": "0d3109a7-2320-49f2-bba2-6c64469a3f45",
   "metadata": {},
   "outputs": [
    {
     "name": "stdin",
     "output_type": "stream",
     "text": [
      "enter the number 234\n"
     ]
    },
    {
     "name": "stdout",
     "output_type": "stream",
     "text": [
      "3\n"
     ]
    }
   ],
   "source": [
    "def count(num):\n",
    "    count=0\n",
    "    while num !=0:\n",
    "        num=num//10\n",
    "        count=count+1\n",
    "\n",
    "    return count\n",
    "\n",
    "x=int(input(\"enter the number\"))\n",
    "val=count(x)\n",
    "print(val)\n"
   ]
  },
  {
   "cell_type": "code",
   "execution_count": 26,
   "id": "3b54e3e7-4d8a-4800-a896-e712db2baa67",
   "metadata": {},
   "outputs": [
    {
     "name": "stdin",
     "output_type": "stream",
     "text": [
      "Enter a number:  789\n"
     ]
    },
    {
     "name": "stdout",
     "output_type": "stream",
     "text": [
      "The total number of digits in 789 is 3.\n"
     ]
    }
   ],
   "source": [
    "def count(num):\n",
    "    \n",
    "    if num < 10:\n",
    "        return 1\n",
    "    else:\n",
    "        \n",
    "        return 1 + count(num // 10)\n",
    "\n",
    "\n",
    "number = int(input(\"Enter a number: \"))\n",
    "\n",
    "\n",
    "x = count(number)\n",
    "print(f\"The total number of digits in {number} is {x}.\")\n"
   ]
  },
  {
   "cell_type": "markdown",
   "id": "ca430778-58e4-4716-bd45-429ac6507126",
   "metadata": {},
   "source": [
    "# to find sum of digit of a number using recursion"
   ]
  },
  {
   "cell_type": "code",
   "execution_count": 42,
   "id": "af010df0-5e86-432d-86a6-29449aa712a4",
   "metadata": {},
   "outputs": [
    {
     "name": "stdout",
     "output_type": "stream",
     "text": [
      "15\n"
     ]
    }
   ],
   "source": [
    "def sum(n):\n",
    "   \n",
    "    if n ==0:\n",
    "        return 0\n",
    "    return( n % 10 + sum(int(n / 10)))\n",
    "number=12345\n",
    "result = sum(number)\n",
    "print(result)\n"
   ]
  },
  {
   "cell_type": "markdown",
   "id": "90f39fdb-642b-4a82-80c0-4f69a02454b2",
   "metadata": {},
   "source": [
    "# create a func to find out the factorial of that number"
   ]
  },
  {
   "cell_type": "code",
   "execution_count": 55,
   "id": "daf549bd-a2dd-4959-a625-fcd272f2d6aa",
   "metadata": {},
   "outputs": [
    {
     "name": "stdin",
     "output_type": "stream",
     "text": [
      "Input a number :  7\n"
     ]
    },
    {
     "name": "stdout",
     "output_type": "stream",
     "text": [
      "5040\n"
     ]
    }
   ],
   "source": [
    "def factorial(n):\n",
    "  \n",
    "    if n == 0:\n",
    "        \n",
    "        return 1\n",
    "    else:\n",
    "        \n",
    "        return n * factorial(n - 1)\n",
    "\n",
    "n = int(input(\"Input a number : \"))\n",
    "print(factorial(n))"
   ]
  },
  {
   "cell_type": "markdown",
   "id": "4b9ada66-eb98-4054-b12a-268d10269d0d",
   "metadata": {},
   "source": [
    "# Factorial of a number using recursion\r\n",
    "_factorial(num))\r\n"
   ]
  },
  {
   "cell_type": "code",
   "execution_count": 64,
   "id": "4a8dba58-a189-4ca9-944c-5006cb68f1ac",
   "metadata": {},
   "outputs": [
    {
     "name": "stdout",
     "output_type": "stream",
     "text": [
      "The factorial of 4 is 24\n"
     ]
    }
   ],
   "source": [
    "def refact(n):\n",
    "   if n == 1:\n",
    "       return n\n",
    "   else:\n",
    "       return n*refact(n-1)\n",
    "\n",
    "num = 4\n",
    "\n",
    "\n",
    "print(\"The factorial of\", num,\"is\",  refact(num))"
   ]
  },
  {
   "cell_type": "markdown",
   "id": "9b1b4c77-fb10-4a69-b683-dde74327d5b4",
   "metadata": {},
   "source": [
    "# copying one string to other string using recursion"
   ]
  },
  {
   "cell_type": "code",
   "execution_count": 67,
   "id": "1b7667a5-cd14-472c-8071-47099ee02318",
   "metadata": {},
   "outputs": [
    {
     "name": "stdout",
     "output_type": "stream",
     "text": [
      "hello everyone\n"
     ]
    }
   ],
   "source": [
    "#without recursion\n",
    "\n",
    "str1=\"hello everyone\"\n",
    "str2=\"hiiiiii\"\n",
    "\n",
    "for i in str1:\n",
    "    str2=str1\n",
    "\n",
    "print(str2)\n",
    "    "
   ]
  },
  {
   "cell_type": "code",
   "execution_count": null,
   "id": "e9b4090e-55f5-4243-8421-4c1b8cc2f783",
   "metadata": {},
   "outputs": [
    {
     "name": "stdin",
     "output_type": "stream",
     "text": [
      " 4\n",
      " 1 0\n"
     ]
    },
    {
     "name": "stdout",
     "output_type": "stream",
     "text": [
      "6\n"
     ]
    }
   ],
   "source": [
    "'''write a code in python \n",
    "Aditya and ksyap is playing a badminton game\n",
    "there friend shyam is looking at the contest between the two\n",
    "\n",
    "shyam is eagerly waiting to get his turn but the condition they have in front\n",
    "of thr=em is one the player has to win the 7 games\n",
    "we need to predict in how many turn shyam will have a change to play the game \n",
    "\n",
    "n is the number of time shyam can predict his turn \n",
    "1<n<5\n",
    "input 1<=t<=13\n",
    "0 0\n",
    "4 3\n",
    "2 5\n",
    "1 0\n",
    "\n",
    "output =7\n",
    "3\n",
    "2\n",
    "6\n",
    "\n",
    "\n",
    "'''\n",
    "\n",
    "n=int(input())\n",
    "for i in range(1,n+1):\n",
    "\n",
    "    x,y=map(int, input().split())\n",
    "    if(x>y):\n",
    "        print(7-x)\n",
    "\n",
    "    else:\n",
    "        print(7-y)\n",
    "        "
   ]
  },
  {
   "cell_type": "code",
   "execution_count": 5,
   "id": "2133b15d-1b97-4dcf-b27a-3c27163fb0f5",
   "metadata": {},
   "outputs": [
    {
     "name": "stdout",
     "output_type": "stream",
     "text": [
      "0\n",
      "1\n",
      "1\n",
      "2\n",
      "3\n",
      "5\n",
      "8\n",
      "13\n",
      "21\n",
      "34\n",
      "55\n",
      "89\n"
     ]
    }
   ],
   "source": [
    "#prime number using recursion\n",
    "#fibnocci series \n",
    "\n",
    "\n",
    "\n",
    "a, b = 0, 1\n",
    "\n",
    "print(a)\n",
    "print(b)\n",
    "\n",
    "for i in range(10):\n",
    "    a, b = b, a + b\n",
    "    print(b)\n",
    "\n"
   ]
  },
  {
   "cell_type": "code",
   "execution_count": 7,
   "id": "46e1e541-a35e-49dc-8f25-c1aa6945d54a",
   "metadata": {},
   "outputs": [
    {
     "name": "stdout",
     "output_type": "stream",
     "text": [
      "0\n",
      "1\n",
      "1\n",
      "2\n"
     ]
    }
   ],
   "source": [
    "def fibonacci(n):\n",
    "    if n==0:\n",
    "        return 0\n",
    "\n",
    "    if n<=1:\n",
    "        return n\n",
    "    else:\n",
    "        return(fibonacci(n-2)+fibonacci(n-1))\n",
    "\n",
    "x=4\n",
    "for i in range(x):\n",
    "    print(fibonacci(i))"
   ]
  },
  {
   "cell_type": "code",
   "execution_count": null,
   "id": "352b628b-698e-41e0-ab11-e48a51d67a74",
   "metadata": {},
   "outputs": [],
   "source": []
  }
 ],
 "metadata": {
  "kernelspec": {
   "display_name": "Python 3 (ipykernel)",
   "language": "python",
   "name": "python3"
  },
  "language_info": {
   "codemirror_mode": {
    "name": "ipython",
    "version": 3
   },
   "file_extension": ".py",
   "mimetype": "text/x-python",
   "name": "python",
   "nbconvert_exporter": "python",
   "pygments_lexer": "ipython3",
   "version": "3.10.11"
  }
 },
 "nbformat": 4,
 "nbformat_minor": 5
}
