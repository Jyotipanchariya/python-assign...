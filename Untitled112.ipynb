{
 "cells": [
  {
   "cell_type": "markdown",
   "id": "35f4bada",
   "metadata": {},
   "source": [
    "# print function"
   ]
  },
  {
   "cell_type": "code",
   "execution_count": 2,
   "id": "b22d9d6e",
   "metadata": {},
   "outputs": [
    {
     "name": "stdout",
     "output_type": "stream",
     "text": [
      "hello world\n"
     ]
    }
   ],
   "source": [
    "print(\"hello world\")"
   ]
  },
  {
   "cell_type": "code",
   "execution_count": 3,
   "id": "61545373",
   "metadata": {},
   "outputs": [
    {
     "name": "stdout",
     "output_type": "stream",
     "text": [
      "6\n"
     ]
    }
   ],
   "source": [
    "print(6)"
   ]
  },
  {
   "cell_type": "code",
   "execution_count": 4,
   "id": "8f7129f5",
   "metadata": {},
   "outputs": [
    {
     "name": "stdout",
     "output_type": "stream",
     "text": [
      "5.6\n"
     ]
    }
   ],
   "source": [
    "print(5.6)"
   ]
  },
  {
   "cell_type": "code",
   "execution_count": 6,
   "id": "4c464f12",
   "metadata": {},
   "outputs": [
    {
     "name": "stdout",
     "output_type": "stream",
     "text": [
      "false\n"
     ]
    }
   ],
   "source": [
    "print(\"false\")"
   ]
  },
  {
   "cell_type": "code",
   "execution_count": 7,
   "id": "cb995b56",
   "metadata": {},
   "outputs": [
    {
     "name": "stdout",
     "output_type": "stream",
     "text": [
      "INDIA PAKISTAN NEPAL\n"
     ]
    }
   ],
   "source": [
    "print(\"INDIA\",\"PAKISTAN\",\"NEPAL\")"
   ]
  },
  {
   "cell_type": "code",
   "execution_count": 8,
   "id": "2ef19647",
   "metadata": {},
   "outputs": [
    {
     "name": "stdout",
     "output_type": "stream",
     "text": [
      "INDIA 5 True\n"
     ]
    }
   ],
   "source": [
    "print(\"INDIA\",5,\"True\")"
   ]
  },
  {
   "cell_type": "code",
   "execution_count": 10,
   "id": "f30dba86",
   "metadata": {},
   "outputs": [
    {
     "name": "stdout",
     "output_type": "stream",
     "text": [
      "INDIA/PAKISTAN/NEPAL\n"
     ]
    }
   ],
   "source": [
    "print(\"INDIA\",\"PAKISTAN\",\"NEPAL\",sep='/')"
   ]
  },
  {
   "cell_type": "code",
   "execution_count": 11,
   "id": "8a3de751",
   "metadata": {},
   "outputs": [
    {
     "name": "stdout",
     "output_type": "stream",
     "text": [
      "Hello  world\n"
     ]
    }
   ],
   "source": [
    "print(\"Hello \",end=' ')\n",
    "print(\"world\")"
   ]
  },
  {
   "cell_type": "code",
   "execution_count": 12,
   "id": "e55bfa28",
   "metadata": {},
   "outputs": [
    {
     "name": "stdout",
     "output_type": "stream",
     "text": [
      "Hello\n",
      "world\n"
     ]
    }
   ],
   "source": [
    "print(\"Hello\")\n",
    "print(\"world\")"
   ]
  },
  {
   "cell_type": "markdown",
   "id": "5096a571",
   "metadata": {},
   "source": [
    "# Python supports 3 categories of data type:"
   ]
  },
  {
   "cell_type": "markdown",
   "id": "8ca7cdc6",
   "metadata": {},
   "source": [
    "Basic type -(integer , float , complex, boolen , string)\n",
    "\n",
    "Container type -(List Tuple Sets and Dictionary)\n",
    "\n",
    "User defined Type - class"
   ]
  },
  {
   "cell_type": "code",
   "execution_count": 26,
   "id": "eac7efd9",
   "metadata": {},
   "outputs": [
    {
     "ename": "SyntaxError",
     "evalue": "invalid syntax (3826547685.py, line 1)",
     "output_type": "error",
     "traceback": [
      "\u001b[1;36m  Cell \u001b[1;32mIn[26], line 1\u001b[1;36m\u001b[0m\n\u001b[1;33m    Basic type\u001b[0m\n\u001b[1;37m          ^\u001b[0m\n\u001b[1;31mSyntaxError\u001b[0m\u001b[1;31m:\u001b[0m invalid syntax\n"
     ]
    }
   ],
   "source": [
    "# Basic type\n",
    "\n",
    "# integer\n",
    "print(4)"
   ]
  },
  {
   "cell_type": "code",
   "execution_count": 18,
   "id": "d1976fdd",
   "metadata": {},
   "outputs": [
    {
     "name": "stdout",
     "output_type": "stream",
     "text": [
      "500000000000\n"
     ]
    }
   ],
   "source": [
    "print(500000000000)"
   ]
  },
  {
   "cell_type": "code",
   "execution_count": 21,
   "id": "e3f4720f",
   "metadata": {},
   "outputs": [
    {
     "name": "stdout",
     "output_type": "stream",
     "text": [
      "4.5\n"
     ]
    }
   ],
   "source": [
    "# float\n",
    "print(4.5)"
   ]
  },
  {
   "cell_type": "code",
   "execution_count": 23,
   "id": "137a82d8",
   "metadata": {},
   "outputs": [
    {
     "name": "stdout",
     "output_type": "stream",
     "text": [
      "True\n",
      "False\n"
     ]
    }
   ],
   "source": [
    "# boolean\n",
    "print(True)\n",
    "print(False)"
   ]
  },
  {
   "cell_type": "code",
   "execution_count": 24,
   "id": "34c11261",
   "metadata": {},
   "outputs": [
    {
     "name": "stdout",
     "output_type": "stream",
     "text": [
      "(4+5j)\n"
     ]
    }
   ],
   "source": [
    "# complex\n",
    "print(4+5j)"
   ]
  },
  {
   "cell_type": "code",
   "execution_count": 25,
   "id": "7fe106a1",
   "metadata": {},
   "outputs": [
    {
     "name": "stdout",
     "output_type": "stream",
     "text": [
      "kolkata\n",
      "jaipur\n",
      "bhilwara\n"
     ]
    }
   ],
   "source": [
    "# string\n",
    "print('kolkata')\n",
    "print(\"jaipur\")\n",
    "print(\"\"\"bhilwara\"\"\")"
   ]
  },
  {
   "cell_type": "code",
   "execution_count": 27,
   "id": "8915ec80",
   "metadata": {},
   "outputs": [
    {
     "name": "stdout",
     "output_type": "stream",
     "text": [
      "[1, 2, 3, 4]\n"
     ]
    }
   ],
   "source": [
    "# conatiner type\n",
    "\n",
    "# list\n",
    "print([1,2,3,4,])"
   ]
  },
  {
   "cell_type": "code",
   "execution_count": 28,
   "id": "71486997",
   "metadata": {},
   "outputs": [
    {
     "name": "stdout",
     "output_type": "stream",
     "text": [
      "1 2 3 4 5\n"
     ]
    }
   ],
   "source": [
    "# tuple\n",
    "print(1,2,3,4,5)"
   ]
  },
  {
   "cell_type": "code",
   "execution_count": 29,
   "id": "b330fb0b",
   "metadata": {},
   "outputs": [
    {
     "name": "stdout",
     "output_type": "stream",
     "text": [
      "{1, 2, 3, 4}\n"
     ]
    }
   ],
   "source": [
    "# sets\n",
    "print({1,2,3,4})"
   ]
  },
  {
   "cell_type": "code",
   "execution_count": 30,
   "id": "c27d9bb3",
   "metadata": {},
   "outputs": [
    {
     "name": "stdout",
     "output_type": "stream",
     "text": [
      "{'Name': 'Nitish', 'Age': 30, 'gender': 'Male'}\n"
     ]
    }
   ],
   "source": [
    "# dict\n",
    "print({\"Name\":\"Nitish\",\"Age\":30,\"gender\":\"Male\"})"
   ]
  },
  {
   "cell_type": "markdown",
   "id": "ee1b8171",
   "metadata": {},
   "source": [
    "# Comments in python\n"
   ]
  },
  {
   "cell_type": "code",
   "execution_count": 32,
   "id": "4c022381",
   "metadata": {},
   "outputs": [],
   "source": [
    "# A piece of code which is not excuteable by complier and interpreter\n",
    "# to enhance readeability"
   ]
  },
  {
   "cell_type": "markdown",
   "id": "252463fb",
   "metadata": {},
   "source": [
    "# Variables in python"
   ]
  },
  {
   "cell_type": "code",
   "execution_count": 33,
   "id": "915836b6",
   "metadata": {},
   "outputs": [],
   "source": [
    "# fundamental concept in evry programming language\n",
    "# variable are container for future use\n"
   ]
  },
  {
   "cell_type": "code",
   "execution_count": 34,
   "id": "bb511259",
   "metadata": {},
   "outputs": [],
   "source": [
    "NAME='Jenni'"
   ]
  },
  {
   "cell_type": "code",
   "execution_count": 36,
   "id": "0589483c",
   "metadata": {},
   "outputs": [
    {
     "name": "stdout",
     "output_type": "stream",
     "text": [
      "Jenni\n"
     ]
    }
   ],
   "source": [
    "print(NAME)"
   ]
  },
  {
   "cell_type": "code",
   "execution_count": 37,
   "id": "96b988d0",
   "metadata": {},
   "outputs": [
    {
     "name": "stdout",
     "output_type": "stream",
     "text": [
      "hello world\n"
     ]
    }
   ],
   "source": [
    "name ='hello world'\n",
    "print(name)"
   ]
  },
  {
   "cell_type": "code",
   "execution_count": 38,
   "id": "c81f8271",
   "metadata": {},
   "outputs": [],
   "source": [
    "# no variable declaration in python\n",
    "# DYNAMIC TYPING === no need to describe the data type of variable\n",
    "# static typing === need to descirbe which data type you are using \n"
   ]
  },
  {
   "cell_type": "code",
   "execution_count": 39,
   "id": "9ebbe029",
   "metadata": {},
   "outputs": [
    {
     "name": "stdout",
     "output_type": "stream",
     "text": [
      "True\n"
     ]
    }
   ],
   "source": [
    "name=True\n",
    "print(name)"
   ]
  },
  {
   "cell_type": "code",
   "execution_count": 40,
   "id": "80dca551",
   "metadata": {},
   "outputs": [],
   "source": [
    "# Dynamic Binding == change the data types easily , one varibale can store multiple data type\n",
    "# static binding==  cannot change the data tpe easily"
   ]
  },
  {
   "cell_type": "code",
   "execution_count": 41,
   "id": "3a367cda",
   "metadata": {},
   "outputs": [
    {
     "name": "stdout",
     "output_type": "stream",
     "text": [
      "5\n",
      "7\n",
      "4\n"
     ]
    }
   ],
   "source": [
    "# special syntax\n",
    "a=5;b=7;c=4\n",
    "print(a)\n",
    "print(b)\n",
    "print(c)"
   ]
  },
  {
   "cell_type": "code",
   "execution_count": 42,
   "id": "b7c774db",
   "metadata": {},
   "outputs": [
    {
     "name": "stdout",
     "output_type": "stream",
     "text": [
      "3\n",
      "4\n",
      "5\n"
     ]
    }
   ],
   "source": [
    "a,b,c=3,4,5\n",
    "print(a)\n",
    "print(b)\n",
    "print(c)"
   ]
  },
  {
   "cell_type": "code",
   "execution_count": 43,
   "id": "50a82db4",
   "metadata": {},
   "outputs": [
    {
     "name": "stdout",
     "output_type": "stream",
     "text": [
      "6\n",
      "6\n",
      "6\n"
     ]
    }
   ],
   "source": [
    "a=b=c=6\n",
    "print(a)\n",
    "print(b)\n",
    "print(c)"
   ]
  },
  {
   "cell_type": "markdown",
   "id": "1d1de971",
   "metadata": {},
   "source": [
    "# Identifier and keywords in python"
   ]
  },
  {
   "cell_type": "markdown",
   "id": "5ac6cf48",
   "metadata": {},
   "source": [
    "# Keywords"
   ]
  },
  {
   "cell_type": "markdown",
   "id": "8b2b3ba2",
   "metadata": {},
   "source": [
    "python is case sensitive programming language"
   ]
  },
  {
   "cell_type": "markdown",
   "id": "c3b1bb1f",
   "metadata": {},
   "source": [
    "A keyword is a word that is reserved by a program because the word has a special meaning . Keywords can be commands or parameters . Every programming language has a set of keywords that cannot be used as variable names"
   ]
  },
  {
   "cell_type": "code",
   "execution_count": 46,
   "id": "6bf4cfd3",
   "metadata": {},
   "outputs": [
    {
     "name": "stdout",
     "output_type": "stream",
     "text": [
      "['False', 'None', 'True', 'and', 'as', 'assert', 'async', 'await', 'break', 'class', 'continue', 'def', 'del', 'elif', 'else', 'except', 'finally', 'for', 'from', 'global', 'if', 'import', 'in', 'is', 'lambda', 'nonlocal', 'not', 'or', 'pass', 'raise', 'return', 'try', 'while', 'with', 'yield']\n"
     ]
    }
   ],
   "source": [
    "# python has 33 keywords\n",
    "import keyword\n",
    "print(keyword.kwlist)"
   ]
  },
  {
   "cell_type": "markdown",
   "id": "40cb154c",
   "metadata": {},
   "source": [
    "# Identifier"
   ]
  },
  {
   "cell_type": "markdown",
   "id": "60419c0c",
   "metadata": {},
   "source": [
    " A python identifier is a name used to identify a variable , function, class, module or the other object"
   ]
  },
  {
   "cell_type": "markdown",
   "id": "4d2cedb9",
   "metadata": {},
   "source": [
    "# Rules for setting identifier\n"
   ]
  },
  {
   "cell_type": "markdown",
   "id": "05fa1cea",
   "metadata": {},
   "source": [
    " - Can only start with an alphabet or -\n",
    "- Folloowed by 0 or more letter and digits\n",
    "- keywords cannot be used as an identifier"
   ]
  },
  {
   "cell_type": "code",
   "execution_count": 49,
   "id": "60b38132",
   "metadata": {},
   "outputs": [
    {
     "name": "stdout",
     "output_type": "stream",
     "text": [
      "NITIS\n"
     ]
    }
   ],
   "source": [
    "print(\"NITIS\")\n"
   ]
  },
  {
   "cell_type": "code",
   "execution_count": 50,
   "id": "29290b0f",
   "metadata": {},
   "outputs": [
    {
     "name": "stdout",
     "output_type": "stream",
     "text": [
      "0\n"
     ]
    }
   ],
   "source": [
    "print(0)"
   ]
  },
  {
   "cell_type": "markdown",
   "id": "f6993a37",
   "metadata": {},
   "source": [
    "# HOW TO TAKE USER INPUT"
   ]
  },
  {
   "cell_type": "code",
   "execution_count": 54,
   "id": "ef27eade",
   "metadata": {},
   "outputs": [
    {
     "name": "stdout",
     "output_type": "stream",
     "text": [
      "enter the number:456\n"
     ]
    },
    {
     "data": {
      "text/plain": [
       "456"
      ]
     },
     "execution_count": 54,
     "metadata": {},
     "output_type": "execute_result"
    }
   ],
   "source": [
    "int(input(\"enter the number:\"))"
   ]
  },
  {
   "cell_type": "code",
   "execution_count": 55,
   "id": "0bac956f",
   "metadata": {},
   "outputs": [
    {
     "name": "stdout",
     "output_type": "stream",
     "text": [
      "7890\n"
     ]
    },
    {
     "data": {
      "text/plain": [
       "'7890'"
      ]
     },
     "execution_count": 55,
     "metadata": {},
     "output_type": "execute_result"
    }
   ],
   "source": [
    "input()"
   ]
  },
  {
   "cell_type": "code",
   "execution_count": 56,
   "id": "daf9ceb0",
   "metadata": {},
   "outputs": [
    {
     "name": "stdout",
     "output_type": "stream",
     "text": [
      "apna name bta jenni\n"
     ]
    },
    {
     "data": {
      "text/plain": [
       "'jenni'"
      ]
     },
     "execution_count": 56,
     "metadata": {},
     "output_type": "execute_result"
    }
   ],
   "source": [
    "input(\"apna name bta \")"
   ]
  },
  {
   "cell_type": "code",
   "execution_count": 60,
   "id": "f27b1358",
   "metadata": {},
   "outputs": [
    {
     "name": "stdout",
     "output_type": "stream",
     "text": [
      "enter the number33\n",
      "enter the number33\n",
      "66\n"
     ]
    }
   ],
   "source": [
    "a=int(input(\"enter the number\"))\n",
    "b=int(input(\"enter the number\"))\n",
    "c=a+b\n",
    "print(c)"
   ]
  },
  {
   "cell_type": "code",
   "execution_count": 61,
   "id": "e59b1e27",
   "metadata": {},
   "outputs": [
    {
     "data": {
      "text/plain": [
       "int"
      ]
     },
     "execution_count": 61,
     "metadata": {},
     "output_type": "execute_result"
    }
   ],
   "source": [
    "type(4)"
   ]
  },
  {
   "cell_type": "code",
   "execution_count": 62,
   "id": "dcb13577",
   "metadata": {},
   "outputs": [
    {
     "data": {
      "text/plain": [
       "float"
      ]
     },
     "execution_count": 62,
     "metadata": {},
     "output_type": "execute_result"
    }
   ],
   "source": [
    "type(5.6)"
   ]
  },
  {
   "cell_type": "code",
   "execution_count": 63,
   "id": "439462b2",
   "metadata": {},
   "outputs": [
    {
     "data": {
      "text/plain": [
       "list"
      ]
     },
     "execution_count": 63,
     "metadata": {},
     "output_type": "execute_result"
    }
   ],
   "source": [
    "type([1,3,4,5,6])"
   ]
  },
  {
   "cell_type": "markdown",
   "id": "f0d3c7ef",
   "metadata": {},
   "source": [
    "# TYPE CONVERSION"
   ]
  },
  {
   "cell_type": "markdown",
   "id": "779bb619",
   "metadata": {},
   "source": [
    "# IMPLICIT== AUTOMATIC CONVERSION BY PYTHON"
   ]
  },
  {
   "cell_type": "code",
   "execution_count": 64,
   "id": "b4b15292",
   "metadata": {},
   "outputs": [
    {
     "data": {
      "text/plain": [
       "9.5"
      ]
     },
     "execution_count": 64,
     "metadata": {},
     "output_type": "execute_result"
    }
   ],
   "source": [
    "4 + 5.5"
   ]
  },
  {
   "cell_type": "markdown",
   "id": "ce5737c8",
   "metadata": {},
   "source": [
    "# Explicit== Programmer do convertion "
   ]
  },
  {
   "cell_type": "code",
   "execution_count": 67,
   "id": "97132924",
   "metadata": {},
   "outputs": [
    {
     "data": {
      "text/plain": [
       "45"
      ]
     },
     "execution_count": 67,
     "metadata": {},
     "output_type": "execute_result"
    }
   ],
   "source": [
    "int('45')"
   ]
  },
  {
   "cell_type": "code",
   "execution_count": 69,
   "id": "6ace9ccb",
   "metadata": {},
   "outputs": [
    {
     "data": {
      "text/plain": [
       "(4+0j)"
      ]
     },
     "execution_count": 69,
     "metadata": {},
     "output_type": "execute_result"
    }
   ],
   "source": [
    "complex(4)"
   ]
  },
  {
   "cell_type": "code",
   "execution_count": 70,
   "id": "14581918",
   "metadata": {},
   "outputs": [
    {
     "data": {
      "text/plain": [
       "8"
      ]
     },
     "execution_count": 70,
     "metadata": {},
     "output_type": "execute_result"
    }
   ],
   "source": [
    "int(a)"
   ]
  },
  {
   "cell_type": "code",
   "execution_count": 73,
   "id": "44e55477",
   "metadata": {},
   "outputs": [
    {
     "name": "stdout",
     "output_type": "stream",
     "text": [
      "enter the no.145\n",
      "enter the second no.223\n",
      "68\n"
     ]
    }
   ],
   "source": [
    "# Type casting in python\n",
    "\n",
    "\n",
    "first_num=int(input(\"enter the no.1\"))\n",
    "second_num=int(input(\"enter the second no.2\"))\n",
    "\n",
    "result=(first_num)+(second_num)\n",
    "print(result)\n"
   ]
  },
  {
   "cell_type": "markdown",
   "id": "3a42b71c",
   "metadata": {},
   "source": [
    "# Literals"
   ]
  },
  {
   "cell_type": "markdown",
   "id": "6269ad0b",
   "metadata": {},
   "source": [
    " It is a raw data given in a variable . In python there are various types of literals they are follows:"
   ]
  },
  {
   "cell_type": "markdown",
   "id": "b11c8890",
   "metadata": {},
   "source": [
    "Numeric Literals\n",
    "\n",
    "String Literals\n",
    "\n",
    "Boolean Literals\n",
    "\n",
    "Special Literals"
   ]
  },
  {
   "cell_type": "markdown",
   "id": "17e3812d",
   "metadata": {},
   "source": [
    "# 1. Numeric literals"
   ]
  },
  {
   "cell_type": "code",
   "execution_count": 76,
   "id": "d19460bb",
   "metadata": {},
   "outputs": [
    {
     "name": "stdout",
     "output_type": "stream",
     "text": [
      "10 100 8 300\n"
     ]
    }
   ],
   "source": [
    "a=0b1010 #Binary\n",
    "b= 100 #Decimal\n",
    "c=0o10 #Octal\n",
    "d=0x12c #hexadecimal\n",
    "\n",
    "print(a,b,c,d)"
   ]
  },
  {
   "cell_type": "markdown",
   "id": "cbf670a7",
   "metadata": {},
   "source": [
    "# 2.string literals"
   ]
  },
  {
   "cell_type": "code",
   "execution_count": 77,
   "id": "a1384ad0",
   "metadata": {},
   "outputs": [
    {
     "name": "stdout",
     "output_type": "stream",
     "text": [
      "This is python\n"
     ]
    }
   ],
   "source": [
    "string ='This is python'\n",
    "print(string)"
   ]
  },
  {
   "cell_type": "code",
   "execution_count": 78,
   "id": "ec54388f",
   "metadata": {},
   "outputs": [
    {
     "name": "stdout",
     "output_type": "stream",
     "text": [
      "😀\n"
     ]
    }
   ],
   "source": [
    "unicode=u\"\\U0001f600\"\n",
    "print(unicode)"
   ]
  },
  {
   "cell_type": "markdown",
   "id": "cf3f2ad6",
   "metadata": {},
   "source": [
    "# 3.boolean literal"
   ]
  },
  {
   "cell_type": "code",
   "execution_count": 79,
   "id": "af5aae4c",
   "metadata": {},
   "outputs": [
    {
     "name": "stdout",
     "output_type": "stream",
     "text": [
      "a: 5\n",
      "b: 10\n"
     ]
    }
   ],
   "source": [
    "a=True +4\n",
    "b=False+10\n",
    "print(\"a:\",a)\n",
    "print(\"b:\",b)"
   ]
  },
  {
   "cell_type": "markdown",
   "id": "b0b448d3",
   "metadata": {},
   "source": [
    "# 4.Special literal"
   ]
  },
  {
   "cell_type": "code",
   "execution_count": 80,
   "id": "ef4b55e4",
   "metadata": {},
   "outputs": [
    {
     "name": "stdout",
     "output_type": "stream",
     "text": [
      "None\n"
     ]
    }
   ],
   "source": [
    "a= None\n",
    "print(a)"
   ]
  },
  {
   "cell_type": "markdown",
   "id": "7636522b",
   "metadata": {},
   "source": [
    "# Operators"
   ]
  },
  {
   "cell_type": "markdown",
   "id": "743841a7",
   "metadata": {},
   "source": [
    "They are used to perfom operations on variables and values "
   ]
  },
  {
   "cell_type": "markdown",
   "id": "004de4f2",
   "metadata": {},
   "source": [
    "Arithmetic operators\n",
    "\n",
    "comparison operators\n",
    "\n",
    "logical operators\n",
    "\n",
    "bitwise operators\n",
    "\n",
    "Assignment Operators\n",
    "\n",
    "Identify operators\n",
    "\n",
    "Membership operators"
   ]
  },
  {
   "cell_type": "code",
   "execution_count": 81,
   "id": "4b463fd9",
   "metadata": {},
   "outputs": [],
   "source": [
    "x=7\n",
    "y=6"
   ]
  },
  {
   "cell_type": "code",
   "execution_count": 82,
   "id": "dc11a8c5",
   "metadata": {},
   "outputs": [
    {
     "name": "stdout",
     "output_type": "stream",
     "text": [
      "13\n"
     ]
    }
   ],
   "source": [
    "print(x+y)"
   ]
  },
  {
   "cell_type": "code",
   "execution_count": 83,
   "id": "44076434",
   "metadata": {},
   "outputs": [
    {
     "name": "stdout",
     "output_type": "stream",
     "text": [
      "1\n"
     ]
    }
   ],
   "source": [
    "print(x-y)"
   ]
  },
  {
   "cell_type": "code",
   "execution_count": 84,
   "id": "381aad18",
   "metadata": {},
   "outputs": [
    {
     "name": "stdout",
     "output_type": "stream",
     "text": [
      "42\n"
     ]
    }
   ],
   "source": [
    "print(x*y)"
   ]
  },
  {
   "cell_type": "code",
   "execution_count": 85,
   "id": "5cf3c3b0",
   "metadata": {},
   "outputs": [
    {
     "name": "stdout",
     "output_type": "stream",
     "text": [
      "1.1666666666666667\n"
     ]
    }
   ],
   "source": [
    "print(x/y)"
   ]
  },
  {
   "cell_type": "code",
   "execution_count": 86,
   "id": "181e8440",
   "metadata": {},
   "outputs": [
    {
     "name": "stdout",
     "output_type": "stream",
     "text": [
      "3\n"
     ]
    }
   ],
   "source": [
    "print(x//2)"
   ]
  },
  {
   "cell_type": "code",
   "execution_count": 87,
   "id": "18b07be4",
   "metadata": {},
   "outputs": [
    {
     "name": "stdout",
     "output_type": "stream",
     "text": [
      "1\n"
     ]
    }
   ],
   "source": [
    "print(x%y)"
   ]
  },
  {
   "cell_type": "markdown",
   "id": "59866502",
   "metadata": {},
   "source": [
    "# 2.Comparison operators"
   ]
  },
  {
   "cell_type": "code",
   "execution_count": 88,
   "id": "28a81ee3",
   "metadata": {},
   "outputs": [
    {
     "name": "stdout",
     "output_type": "stream",
     "text": [
      "True\n"
     ]
    }
   ],
   "source": [
    "print(x>y)"
   ]
  },
  {
   "cell_type": "code",
   "execution_count": 89,
   "id": "59398f86",
   "metadata": {},
   "outputs": [
    {
     "name": "stdout",
     "output_type": "stream",
     "text": [
      "False\n"
     ]
    }
   ],
   "source": [
    "print(x<y)"
   ]
  },
  {
   "cell_type": "code",
   "execution_count": 90,
   "id": "b836963d",
   "metadata": {},
   "outputs": [
    {
     "name": "stdout",
     "output_type": "stream",
     "text": [
      "True\n"
     ]
    }
   ],
   "source": [
    "print(x>=y)"
   ]
  },
  {
   "cell_type": "code",
   "execution_count": 91,
   "id": "134d94a8",
   "metadata": {},
   "outputs": [
    {
     "name": "stdout",
     "output_type": "stream",
     "text": [
      "False\n"
     ]
    }
   ],
   "source": [
    "print(x<=y)"
   ]
  },
  {
   "cell_type": "code",
   "execution_count": 92,
   "id": "7d55f087",
   "metadata": {},
   "outputs": [
    {
     "name": "stdout",
     "output_type": "stream",
     "text": [
      "False\n"
     ]
    }
   ],
   "source": [
    "print(x==y)"
   ]
  },
  {
   "cell_type": "code",
   "execution_count": 93,
   "id": "7d33c471",
   "metadata": {},
   "outputs": [
    {
     "name": "stdout",
     "output_type": "stream",
     "text": [
      "True\n"
     ]
    }
   ],
   "source": [
    "print(x!=y)"
   ]
  },
  {
   "cell_type": "markdown",
   "id": "51d14909",
   "metadata": {},
   "source": [
    "# LOGICAL Operators"
   ]
  },
  {
   "cell_type": "code",
   "execution_count": 94,
   "id": "dd3f128a",
   "metadata": {},
   "outputs": [
    {
     "name": "stdout",
     "output_type": "stream",
     "text": [
      "True\n"
     ]
    }
   ],
   "source": [
    "x=True\n",
    "y=False\n",
    "\n",
    "\n",
    "#  DONO M S EK TRUE HONA CHAHIYE \n",
    "print(x or y)"
   ]
  },
  {
   "cell_type": "code",
   "execution_count": 95,
   "id": "face2cae",
   "metadata": {},
   "outputs": [
    {
     "name": "stdout",
     "output_type": "stream",
     "text": [
      "False\n"
     ]
    }
   ],
   "source": [
    "# print( x and y) DONO TRUE HONE CHAHIYE"
   ]
  },
  {
   "cell_type": "code",
   "execution_count": 96,
   "id": "c70b35f5",
   "metadata": {},
   "outputs": [
    {
     "name": "stdout",
     "output_type": "stream",
     "text": [
      "False\n"
     ]
    }
   ],
   "source": [
    "print(not x)"
   ]
  },
  {
   "cell_type": "markdown",
   "id": "9c05bf96",
   "metadata": {},
   "source": [
    "# Bitwise operator"
   ]
  },
  {
   "cell_type": "code",
   "execution_count": 98,
   "id": "220537c6",
   "metadata": {},
   "outputs": [
    {
     "name": "stdout",
     "output_type": "stream",
     "text": [
      "2\n"
     ]
    }
   ],
   "source": [
    "x=2\n",
    "y=3\n",
    "print(x & y)"
   ]
  },
  {
   "cell_type": "code",
   "execution_count": 100,
   "id": "b921bab7",
   "metadata": {},
   "outputs": [],
   "source": [
    "# 010\n",
    "# 110\n",
    "# ---\n",
    "# 010"
   ]
  },
  {
   "cell_type": "code",
   "execution_count": 101,
   "id": "793ba3c4",
   "metadata": {},
   "outputs": [
    {
     "name": "stdout",
     "output_type": "stream",
     "text": [
      "3\n"
     ]
    }
   ],
   "source": [
    "print(x | y)"
   ]
  },
  {
   "cell_type": "code",
   "execution_count": 102,
   "id": "4efae8a7",
   "metadata": {},
   "outputs": [],
   "source": [
    "# 010\n",
    "# 110\n",
    "# ---\n",
    "# 110"
   ]
  },
  {
   "cell_type": "code",
   "execution_count": 103,
   "id": "3fc9a4eb",
   "metadata": {},
   "outputs": [
    {
     "name": "stdout",
     "output_type": "stream",
     "text": [
      "0\n"
     ]
    }
   ],
   "source": [
    "print(x>>2)"
   ]
  },
  {
   "cell_type": "code",
   "execution_count": 104,
   "id": "3906c201",
   "metadata": {},
   "outputs": [
    {
     "name": "stdout",
     "output_type": "stream",
     "text": [
      "24\n"
     ]
    }
   ],
   "source": [
    "print(y<<3)"
   ]
  },
  {
   "cell_type": "code",
   "execution_count": 105,
   "id": "acce723e",
   "metadata": {},
   "outputs": [
    {
     "name": "stdout",
     "output_type": "stream",
     "text": [
      "-3\n"
     ]
    }
   ],
   "source": [
    "print(~x)"
   ]
  },
  {
   "cell_type": "markdown",
   "id": "2318c667",
   "metadata": {},
   "source": [
    "# Assignment opeartor"
   ]
  },
  {
   "cell_type": "code",
   "execution_count": 106,
   "id": "9e334a59",
   "metadata": {},
   "outputs": [
    {
     "name": "stdout",
     "output_type": "stream",
     "text": [
      "3\n"
     ]
    }
   ],
   "source": [
    "a=3\n",
    "print(a)"
   ]
  },
  {
   "cell_type": "code",
   "execution_count": 107,
   "id": "4eb606d9",
   "metadata": {},
   "outputs": [
    {
     "name": "stdout",
     "output_type": "stream",
     "text": [
      "6\n"
     ]
    }
   ],
   "source": [
    "a +=3\n",
    "print(a)"
   ]
  },
  {
   "cell_type": "code",
   "execution_count": 108,
   "id": "a493eef4",
   "metadata": {},
   "outputs": [
    {
     "name": "stdout",
     "output_type": "stream",
     "text": [
      "3\n"
     ]
    }
   ],
   "source": [
    "a -=3\n",
    "print(a)"
   ]
  },
  {
   "cell_type": "code",
   "execution_count": 110,
   "id": "b92cc469",
   "metadata": {},
   "outputs": [
    {
     "name": "stdout",
     "output_type": "stream",
     "text": [
      "3\n"
     ]
    }
   ],
   "source": [
    "a -=3\n",
    "a *=3\n",
    "a &=3\n",
    "\n",
    "print(a)"
   ]
  },
  {
   "cell_type": "code",
   "execution_count": 112,
   "id": "ca9871b6",
   "metadata": {},
   "outputs": [],
   "source": [
    "# a++  ===invalid syntax in python\n",
    "# ++a == invalid\n",
    "\n",
    "# a+= is valid"
   ]
  },
  {
   "cell_type": "markdown",
   "id": "b736fc09",
   "metadata": {},
   "source": [
    "# Identity Operators"
   ]
  },
  {
   "cell_type": "code",
   "execution_count": 113,
   "id": "b15ce522",
   "metadata": {},
   "outputs": [
    {
     "name": "stdout",
     "output_type": "stream",
     "text": [
      "True\n"
     ]
    }
   ],
   "source": [
    "a= 3\n",
    "b=3\n",
    "print(a is b)"
   ]
  },
  {
   "cell_type": "code",
   "execution_count": 114,
   "id": "c9843a78",
   "metadata": {},
   "outputs": [
    {
     "name": "stdout",
     "output_type": "stream",
     "text": [
      "True\n"
     ]
    }
   ],
   "source": [
    "a = \"Hello\"\n",
    "b=\"Hello\"\n",
    "\n",
    "print(a is b)"
   ]
  },
  {
   "cell_type": "code",
   "execution_count": 115,
   "id": "88534977",
   "metadata": {},
   "outputs": [
    {
     "name": "stdout",
     "output_type": "stream",
     "text": [
      "False\n"
     ]
    }
   ],
   "source": [
    "a=[1,2,3]\n",
    "b=[1,2,3]\n",
    "\n",
    "print(a is b)"
   ]
  },
  {
   "cell_type": "markdown",
   "id": "5110ec11",
   "metadata": {},
   "source": [
    "# Membership operators"
   ]
  },
  {
   "cell_type": "code",
   "execution_count": 118,
   "id": "b9ed4e87",
   "metadata": {},
   "outputs": [
    {
     "name": "stdout",
     "output_type": "stream",
     "text": [
      "True\n"
     ]
    }
   ],
   "source": [
    "x = 'Delhi'\n",
    "print('D'  in x)"
   ]
  },
  {
   "cell_type": "code",
   "execution_count": 119,
   "id": "e41fc012",
   "metadata": {},
   "outputs": [
    {
     "name": "stdout",
     "output_type": "stream",
     "text": [
      "True\n"
     ]
    }
   ],
   "source": [
    "x=[2,3,4,5]\n",
    "print(5 in x)"
   ]
  },
  {
   "cell_type": "code",
   "execution_count": null,
   "id": "3faf44ac",
   "metadata": {},
   "outputs": [],
   "source": []
  }
 ],
 "metadata": {
  "kernelspec": {
   "display_name": "Python 3 (ipykernel)",
   "language": "python",
   "name": "python3"
  },
  "language_info": {
   "codemirror_mode": {
    "name": "ipython",
    "version": 3
   },
   "file_extension": ".py",
   "mimetype": "text/x-python",
   "name": "python",
   "nbconvert_exporter": "python",
   "pygments_lexer": "ipython3",
   "version": "3.11.5"
  }
 },
 "nbformat": 4,
 "nbformat_minor": 5
}
