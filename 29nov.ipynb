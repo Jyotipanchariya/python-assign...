{
 "cells": [
  {
   "cell_type": "code",
   "execution_count": 1,
   "id": "245a5c65-89d3-4d32-b966-176e60744a2b",
   "metadata": {},
   "outputs": [],
   "source": [
    "#def functionname(parameter):\n",
    "#    statement"
   ]
  },
  {
   "cell_type": "code",
   "execution_count": 6,
   "id": "2e361e5e-227b-4482-9559-77a1b4374136",
   "metadata": {},
   "outputs": [
    {
     "name": "stdout",
     "output_type": "stream",
     "text": [
      "1925807866384\n",
      "num memory 1925807866384\n",
      "hello user\n"
     ]
    }
   ],
   "source": [
    "def hello(num):\n",
    "    print(\"num memory\",id(num))\n",
    "    print(\"hello user\")\n",
    "x=10\n",
    "print(id(x))\n",
    "hello(10)"
   ]
  },
  {
   "cell_type": "code",
   "execution_count": 4,
   "id": "1e381843-bfe2-4c5f-b92c-9d63ba718b28",
   "metadata": {},
   "outputs": [
    {
     "name": "stdout",
     "output_type": "stream",
     "text": [
      "1925882050864\n"
     ]
    }
   ],
   "source": [
    "x=7888\n",
    "y=x\n",
    "\n",
    "print(id(x))"
   ]
  },
  {
   "cell_type": "code",
   "execution_count": 7,
   "id": "8afdc2df-54d0-4820-a112-4429ec4b0d80",
   "metadata": {},
   "outputs": [
    {
     "name": "stdout",
     "output_type": "stream",
     "text": [
      "num memory 1925807866384\n",
      "hello user\n"
     ]
    }
   ],
   "source": [
    "hello(10)"
   ]
  },
  {
   "cell_type": "code",
   "execution_count": 8,
   "id": "8d57ed32-b3cc-430c-9848-327b32b683bd",
   "metadata": {},
   "outputs": [
    {
     "name": "stdout",
     "output_type": "stream",
     "text": [
      "num memory 1925807866704\n",
      "hello user\n"
     ]
    }
   ],
   "source": [
    "hello(20)"
   ]
  },
  {
   "cell_type": "code",
   "execution_count": 11,
   "id": "3ddda888-b62c-4743-ab79-140986562d61",
   "metadata": {},
   "outputs": [
    {
     "name": "stdout",
     "output_type": "stream",
     "text": [
      "10 20\n"
     ]
    }
   ],
   "source": [
    "def func(num,num2):\n",
    "    print(num,num2)\n",
    "\n",
    "func(num2=20,num=10)"
   ]
  },
  {
   "cell_type": "code",
   "execution_count": 21,
   "id": "add74f8c-5db4-439f-a4de-bff858087322",
   "metadata": {},
   "outputs": [
    {
     "name": "stdout",
     "output_type": "stream",
     "text": [
      "{'name': 'tushar', 'orderlist': ['tushar']}\n",
      "{'name': 'aman', 'orderlist': ['tushar', 'aman']}\n"
     ]
    }
   ],
   "source": [
    "def details(name, orders:list=[]):\n",
    "    orders.append(name)\n",
    "    \n",
    "    return {\"name\":name,\n",
    "            \"orderlist\":orders}\n",
    "    \n",
    "\n",
    "a1=details(\"tushar\")\n",
    "print(a1)\n",
    "a2=details(\"aman\")\n",
    "print(a2)"
   ]
  },
  {
   "cell_type": "code",
   "execution_count": 23,
   "id": "16abff91-5079-46d8-a6b0-48e7d27aa6e3",
   "metadata": {},
   "outputs": [
    {
     "name": "stdout",
     "output_type": "stream",
     "text": [
      "{'age': 10, 'salary': 39}\n"
     ]
    }
   ],
   "source": [
    "def func(**kwargs):\n",
    "    print(kwargs)\n",
    "\n",
    "func(age=10,salary=39)"
   ]
  },
  {
   "cell_type": "code",
   "execution_count": 41,
   "id": "6cf6f161-5427-4c8e-a2ad-a90d6f6a73a6",
   "metadata": {},
   "outputs": [
    {
     "name": "stdout",
     "output_type": "stream",
     "text": [
      "7 6 5 4 3 2 1  \n",
      "6 5 4 3 2 1  \n",
      "5 4 3 2 1  \n",
      "4 3 2 1  \n",
      "3 2 1  \n",
      "2 1  \n",
      "1  \n",
      " \n"
     ]
    }
   ],
   "source": [
    "def pattern(x):\n",
    "    for i in range(1,x):\n",
    "        k=x-i\n",
    "        for j in range(1,x-i):\n",
    "            print(k-j,end=\" \")\n",
    "\n",
    "        \n",
    "        print(\" \")\n",
    "\n",
    "pattern(9)"
   ]
  },
  {
   "cell_type": "code",
   "execution_count": 34,
   "id": "aee96508-46e9-42ee-a855-a6fce67fd0d6",
   "metadata": {},
   "outputs": [
    {
     "name": "stdin",
     "output_type": "stream",
     "text": [
      " 7\n"
     ]
    },
    {
     "name": "stdout",
     "output_type": "stream",
     "text": [
      "7 6 5 4 3 2 1 \n",
      "6 5 4 3 2 1 \n",
      "5 4 3 2 1 \n",
      "4 3 2 1 \n",
      "3 2 1 \n",
      "2 1 \n",
      "1 \n"
     ]
    }
   ],
   "source": [
    "n=int(input(\"\"))\n",
    "for i in range(0,n):\n",
    "    k=n-i\n",
    "    for j in range(0,n-i):\n",
    "        print(k-j,end=' ')\n",
    "\n",
    "    print()\n",
    "      "
   ]
  },
  {
   "cell_type": "code",
   "execution_count": 3,
   "id": "393f0e0c-780b-4cac-8e78-1c92999c0313",
   "metadata": {},
   "outputs": [
    {
     "name": "stdin",
     "output_type": "stream",
     "text": [
      " 7\n"
     ]
    },
    {
     "name": "stdout",
     "output_type": "stream",
     "text": [
      "1\n"
     ]
    }
   ],
   "source": [
    "num=int(input(\"\"))\n",
    "count=0\n",
    "while num!=0:\n",
    "    num=num // 10\n",
    "    count=count+1\n",
    "\n",
    "print(count)"
   ]
  },
  {
   "cell_type": "code",
   "execution_count": 7,
   "id": "3679d111-ef32-426d-b890-5f25b04aa8dc",
   "metadata": {},
   "outputs": [
    {
     "name": "stdout",
     "output_type": "stream",
     "text": [
      "HeLlOwOrLd\n"
     ]
    }
   ],
   "source": [
    "def my_func(st):\n",
    "\n",
    "    x = []\n",
    "    for index, c in enumerate(st):\n",
    "        if index % 2 == 0:\n",
    "          \n",
    "            x.append(c.upper())\n",
    "        else:\n",
    "            x.append(c.lower())\n",
    "\n",
    "    \n",
    "    return ''.join(x)\n",
    "print(my_func('helloworld'))"
   ]
  },
  {
   "cell_type": "code",
   "execution_count": 8,
   "id": "be2e2f82-c3cd-4ca1-941b-c650f715916e",
   "metadata": {},
   "outputs": [],
   "source": [
    "#to perfom the task to convert the odd character in upper case without using any string function\n",
    "#take a input from user and convert the first and last digit of string to uppercase\n",
    "#"
   ]
  },
  {
   "cell_type": "code",
   "execution_count": 11,
   "id": "e984efa3-5f6b-4d0d-b665-739864700e76",
   "metadata": {},
   "outputs": [
    {
     "name": "stdin",
     "output_type": "stream",
     "text": [
      "Please, Enter the x Range Value:  4\n",
      "Please, Enter the y Range Value:  99\n"
     ]
    },
    {
     "name": "stdout",
     "output_type": "stream",
     "text": [
      "The Prime Numbers in the range are: \n",
      "5\n",
      "7\n",
      "11\n",
      "13\n",
      "17\n",
      "19\n",
      "23\n",
      "29\n",
      "31\n",
      "37\n",
      "41\n",
      "43\n",
      "47\n",
      "53\n",
      "59\n",
      "61\n",
      "67\n",
      "71\n",
      "73\n",
      "79\n",
      "83\n",
      "89\n",
      "97\n"
     ]
    }
   ],
   "source": [
    "x = int(input (\"Please, Enter the x Range Value: \")) \n",
    "y = int(input (\"Please, Enter the y Range Value: \"))\n",
    "\n",
    "print (\"The Prime Numbers in the range are: \") \n",
    "for number in range (x,  y+ 1):  \n",
    "    if number > 1:  \n",
    "        for i in range (2, number):  \n",
    "            if (number % i) == 0:  \n",
    "                break  \n",
    "        else:  \n",
    "            print (number)  "
   ]
  },
  {
   "cell_type": "code",
   "execution_count": 17,
   "id": "9e13164f-64de-4630-a79d-013b4036fa4d",
   "metadata": {},
   "outputs": [
    {
     "name": "stdout",
     "output_type": "stream",
     "text": [
      "prime number \n",
      "the prime number is:  2\n",
      "the prime number is:  3\n",
      "the prime number is:  5\n",
      "the prime number is:  7\n",
      "the prime number is:  11\n",
      "the prime number is:  13\n",
      "the prime number is:  17\n",
      "the prime number is:  19\n",
      "the prime number is:  23\n",
      "the prime number is:  29\n",
      "the prime number is:  31\n",
      "the prime number is:  37\n",
      "the prime number is:  41\n",
      "the prime number is:  43\n",
      "the prime number is:  47\n",
      "the prime number is:  53\n",
      "the prime number is:  59\n",
      "the prime number is:  61\n",
      "the prime number is:  67\n",
      "the prime number is:  71\n",
      "the prime number is:  73\n",
      "the prime number is:  79\n",
      "the prime number is:  83\n",
      "the prime number is:  89\n",
      "the prime number is:  97\n"
     ]
    }
   ],
   "source": [
    "def getprime100():\n",
    "    for x in range(2,100+1):\n",
    "        for y in range(2,x):\n",
    "            if x % y == 0:\n",
    "                break\n",
    "\n",
    "        else:\n",
    "            print(\"the prime number is: \",x)\n",
    "\n",
    "print(\"prime number \")\n",
    "getprime100()\n"
   ]
  },
  {
   "cell_type": "code",
   "execution_count": 41,
   "id": "dba9d7be-cae7-489e-8aa6-02fc07d8f433",
   "metadata": {},
   "outputs": [
    {
     "name": "stdout",
     "output_type": "stream",
     "text": [
      "1 1 1 1 2 1 1 1 1 2 3 1 1 1 1 "
     ]
    }
   ],
   "source": [
    "#to find the concurrent frequency of the character in the given string \n",
    "def freq(x):\n",
    "    count=0\n",
    "    for i in range(0,len(x)-1):\n",
    "        if(x[i]==x[i+1]):\n",
    "            count+=1\n",
    "\n",
    "        else:\n",
    "            count=1\n",
    "        print(count,end=\" \")\n",
    "\n",
    "freq(\"regexxsoftttware\")\n",
    "        "
   ]
  },
  {
   "cell_type": "code",
   "execution_count": null,
   "id": "8190701f-289f-4665-9485-5d27e7a8c6c8",
   "metadata": {},
   "outputs": [],
   "source": [
    "\n"
   ]
  },
  {
   "cell_type": "code",
   "execution_count": null,
   "id": "5a3a05fc-4b53-4a53-9fe8-f78ba91ae252",
   "metadata": {},
   "outputs": [],
   "source": []
  },
  {
   "cell_type": "code",
   "execution_count": null,
   "id": "0ab8ecc8-e9d4-43b4-9d0c-f45bde32951b",
   "metadata": {},
   "outputs": [],
   "source": []
  },
  {
   "cell_type": "code",
   "execution_count": null,
   "id": "eb9e9fe6-ad87-43c3-a2e9-26eab791b2bc",
   "metadata": {},
   "outputs": [],
   "source": []
  },
  {
   "cell_type": "code",
   "execution_count": null,
   "id": "93e10df2-f249-4892-a267-79a78af8dd06",
   "metadata": {},
   "outputs": [],
   "source": []
  },
  {
   "cell_type": "code",
   "execution_count": null,
   "id": "d61ca1b5-1e9f-4b46-a4e9-8c2141f27bc4",
   "metadata": {},
   "outputs": [],
   "source": []
  },
  {
   "cell_type": "code",
   "execution_count": null,
   "id": "dfe33c53-7b5d-4f05-9d83-9db2e14f4c74",
   "metadata": {},
   "outputs": [],
   "source": []
  },
  {
   "cell_type": "code",
   "execution_count": null,
   "id": "3fc61ded-3865-4f3c-a8dc-17db964c1f28",
   "metadata": {},
   "outputs": [],
   "source": []
  },
  {
   "cell_type": "code",
   "execution_count": null,
   "id": "8c9f8cc3-b7e6-4b69-a15d-6daa38843f6f",
   "metadata": {},
   "outputs": [],
   "source": []
  },
  {
   "cell_type": "code",
   "execution_count": null,
   "id": "c807d02f-c902-41c0-88cd-33a4159f4978",
   "metadata": {},
   "outputs": [],
   "source": []
  },
  {
   "cell_type": "code",
   "execution_count": null,
   "id": "9fce6021-e965-40f3-acdd-415ffd859024",
   "metadata": {},
   "outputs": [],
   "source": []
  },
  {
   "cell_type": "code",
   "execution_count": null,
   "id": "ee0f51a0-5fdd-48ba-b063-d9c5b3c600fb",
   "metadata": {},
   "outputs": [],
   "source": []
  },
  {
   "cell_type": "code",
   "execution_count": null,
   "id": "f8c3d90a-807d-44a1-8b7f-e94bba7f1994",
   "metadata": {},
   "outputs": [],
   "source": []
  },
  {
   "cell_type": "code",
   "execution_count": null,
   "id": "8faaed7d-e9df-44f8-b851-a66aca49391b",
   "metadata": {},
   "outputs": [],
   "source": []
  },
  {
   "cell_type": "code",
   "execution_count": null,
   "id": "dc4fb3e1-3f1d-4b12-a5cc-facbe51a736f",
   "metadata": {},
   "outputs": [],
   "source": []
  },
  {
   "cell_type": "code",
   "execution_count": null,
   "id": "0ee16d23-9e82-434d-9664-6987d4971ea9",
   "metadata": {},
   "outputs": [],
   "source": []
  },
  {
   "cell_type": "code",
   "execution_count": null,
   "id": "39debd26-9df2-490e-b4d6-6f9a760d10d8",
   "metadata": {},
   "outputs": [],
   "source": []
  },
  {
   "cell_type": "code",
   "execution_count": null,
   "id": "ae080e54-18b5-4d57-832e-db5f19ac576d",
   "metadata": {},
   "outputs": [],
   "source": []
  },
  {
   "cell_type": "code",
   "execution_count": null,
   "id": "095d43ca-4b65-4ffd-8122-8b82839b3ffe",
   "metadata": {},
   "outputs": [],
   "source": []
  },
  {
   "cell_type": "code",
   "execution_count": null,
   "id": "a707edc6-22b6-4406-b018-193a508ddeb0",
   "metadata": {},
   "outputs": [],
   "source": []
  }
 ],
 "metadata": {
  "kernelspec": {
   "display_name": "Python 3 (ipykernel)",
   "language": "python",
   "name": "python3"
  },
  "language_info": {
   "codemirror_mode": {
    "name": "ipython",
    "version": 3
   },
   "file_extension": ".py",
   "mimetype": "text/x-python",
   "name": "python",
   "nbconvert_exporter": "python",
   "pygments_lexer": "ipython3",
   "version": "3.10.11"
  }
 },
 "nbformat": 4,
 "nbformat_minor": 5
}
